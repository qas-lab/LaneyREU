{
 "cells": [
  {
   "cell_type": "code",
   "execution_count": 1,
   "id": "33cb93d2-735f-4dfa-ae30-6ba878d28b87",
   "metadata": {},
   "outputs": [],
   "source": [
    "# This version is without chatGPT summarization just cosine "
   ]
  },
  {
   "cell_type": "code",
   "execution_count": 2,
   "id": "f93a284e",
   "metadata": {
    "scrolled": true
   },
   "outputs": [
    {
     "name": "stderr",
     "output_type": "stream",
     "text": [
      "2024-06-28 21:38:00.175989: I tensorflow/core/platform/cpu_feature_guard.cc:210] This TensorFlow binary is optimized to use available CPU instructions in performance-critical operations.\n",
      "To enable the following instructions: AVX2 FMA, in other operations, rebuild TensorFlow with the appropriate compiler flags.\n",
      "2024-06-28 21:38:01.185261: W tensorflow/compiler/tf2tensorrt/utils/py_utils.cc:38] TF-TRT Warning: Could not find TensorRT\n"
     ]
    }
   ],
   "source": [
    "\n",
    "import zipfile\n",
    "import os\n",
    "import pandas as pd\n",
    "import numpy as np\n",
    "import scipy.stats as st\n",
    "import matplotlib.pyplot as plt\n",
    "import seaborn as sns\n",
    "import requests\n",
    "import xml.etree.ElementTree as ET\n",
    "import tensorflow as t\n",
    "import torch\n",
    "\n"
   ]
  },
  {
   "cell_type": "markdown",
   "id": "ef981db0",
   "metadata": {},
   "source": [
    "# Unzipping csv file"
   ]
  },
  {
   "cell_type": "code",
   "execution_count": 3,
   "id": "d7c043fc",
   "metadata": {},
   "outputs": [],
   "source": [
    "\n",
    "uploaded_zip = '/home/claney/EclipsePlatform/eclipse_platform.zip'\n",
    "extract_dir = '/home/claney/extracted'\n",
    "if not os.path.exists(extract_dir):\n",
    "    os.makedirs(extract_dir)\n",
    "with zipfile.ZipFile(uploaded_zip, 'r') as zip_ref:\n",
    "    zip_ref.extractall(extract_dir)\n",
    "\n",
    "csv_file = os.path.join(extract_dir, 'eclipse_platform.csv')\n",
    "full_df = pd.read_csv(csv_file)"
   ]
  },
  {
   "cell_type": "code",
   "execution_count": 4,
   "id": "34e21509",
   "metadata": {},
   "outputs": [],
   "source": [
    "full_df.fillna(0,inplace=True)"
   ]
  },
  {
   "cell_type": "markdown",
   "id": "83de5f3d",
   "metadata": {},
   "source": [
    "# Spliting testing and training"
   ]
  },
  {
   "cell_type": "code",
   "execution_count": 5,
   "id": "099a10a7",
   "metadata": {},
   "outputs": [],
   "source": [
    "length=len(full_df)\n",
    "split_index=int(.8*length)\n",
    "df=full_df.iloc[:split_index] #df=training set\n"
   ]
  },
  {
   "cell_type": "markdown",
   "id": "feff3889",
   "metadata": {},
   "source": [
    "# Creating isDuplicate column"
   ]
  },
  {
   "cell_type": "code",
   "execution_count": 6,
   "id": "d6ed45e5",
   "metadata": {},
   "outputs": [
    {
     "name": "stdout",
     "output_type": "stream",
     "text": [
      "0        0\n",
      "1        0\n",
      "2        0\n",
      "3        0\n",
      "4        0\n",
      "        ..\n",
      "68119    0\n",
      "68120    0\n",
      "68121    0\n",
      "68122    0\n",
      "68123    0\n",
      "Name: isDuplicate, Length: 68124, dtype: int64\n"
     ]
    },
    {
     "name": "stderr",
     "output_type": "stream",
     "text": [
      "/tmp/ipykernel_267430/1537637410.py:3: SettingWithCopyWarning: \n",
      "A value is trying to be set on a copy of a slice from a DataFrame.\n",
      "Try using .loc[row_indexer,col_indexer] = value instead\n",
      "\n",
      "See the caveats in the documentation: https://pandas.pydata.org/pandas-docs/stable/user_guide/indexing.html#returning-a-view-versus-a-copy\n",
      "  df['isDuplicate'] = df['Duplicated_issue'].apply(lambda x: is_duplicate(x))\n"
     ]
    }
   ],
   "source": [
    "def is_duplicate(val):\n",
    "    return 1 if val !=0.0 else 0\n",
    "df['isDuplicate'] = df['Duplicated_issue'].apply(lambda x: is_duplicate(x))\n",
    "\n",
    "print(df['isDuplicate'])"
   ]
  },
  {
   "cell_type": "code",
   "execution_count": 7,
   "id": "3121314f",
   "metadata": {},
   "outputs": [
    {
     "name": "stdout",
     "output_type": "stream",
     "text": [
      "isDuplicate\n",
      "0    56126\n",
      "1    11998\n",
      "Name: count, dtype: int64\n"
     ]
    },
    {
     "data": {
      "image/png": "[encoded data removed]",
      "text/plain": [
       "<Figure size 800x600 with 1 Axes>"
      ]
     },
     "metadata": {},
     "output_type": "display_data"
    }
   ],
   "source": [
    "import matplotlib.pyplot as plt\n",
    "\n",
    "# Assuming 'df' is your DataFrame and 'isDuplicate' is the column indicating duplicates\n",
    "duplicate_counts = df['isDuplicate'].value_counts()\n",
    "\n",
    "# Check the contents of duplicate_counts\n",
    "print(duplicate_counts)\n",
    "\n",
    "# Create a list of labels matching the length of duplicate_counts\n",
    "# Ensure the labels match the values in the 'isDuplicate' column\n",
    "labels = duplicate_counts.index.tolist()\n",
    "\n",
    "# Define colors (length should match number of unique values in 'isDuplicate')\n",
    "colors = ['#F54BB4', 'purple'][:len(labels)]\n",
    "\n",
    "# Plotting the pie chart\n",
    "plt.figure(figsize=(8, 6))\n",
    "plt.pie(duplicate_counts, labels=labels, autopct='%1.1f%%', startangle=140, colors=colors)\n",
    "plt.title('Percentage of Duplicates vs. Non-Duplicates')\n",
    "plt.axis('equal')\n",
    "plt.show()\n"
   ]
  },
  {
   "cell_type": "markdown",
   "id": "ecb58971-03bf-4973-9c3d-888660521a17",
   "metadata": {},
   "source": [
    "# Preprocessing"
   ]
  },
  {
   "cell_type": "code",
   "execution_count": 8,
   "id": "809e2c8b-63f1-4f0a-b7de-c40aa25294be",
   "metadata": {},
   "outputs": [
    {
     "name": "stderr",
     "output_type": "stream",
     "text": [
      "/tmp/ipykernel_267430/77102330.py:1: SettingWithCopyWarning: \n",
      "A value is trying to be set on a copy of a slice from a DataFrame.\n",
      "Try using .loc[row_indexer,col_indexer] = value instead\n",
      "\n",
      "See the caveats in the documentation: https://pandas.pydata.org/pandas-docs/stable/user_guide/indexing.html#returning-a-view-versus-a-copy\n",
      "  df['Description'] = df['Description'].astype(str).fillna('')\n"
     ]
    }
   ],
   "source": [
    "df['Description'] = df['Description'].astype(str).fillna('')"
   ]
  },
  {
   "cell_type": "code",
   "execution_count": 9,
   "id": "13a586d1",
   "metadata": {},
   "outputs": [
    {
     "name": "stdout",
     "output_type": "stream",
     "text": [
      "0        - Setup a project that contains a *.gif resour...\n",
      "1        Opening repository resource always open the de...\n",
      "2        KM (10/2/2001 5:55:18 PM); \\tThis PR about the...\n",
      "3        - become synchronized with some project in a r...\n",
      "4        For getting/setting the managed state of a res...\n",
      "                               ...                        \n",
      "68119    Build ID: 3.3 (I am not sure what You mean by ...\n",
      "68120    There are several NPEs within the UI session t...\n",
      "68121    I20080501-0100; ; Now that were using the coll...\n",
      "68122    Created attachment 98318; screenshot; ; I20080...\n",
      "68123    Build ID: M20080221-1800; ; Steps To Reproduce...\n",
      "Name: full_text_data, Length: 68124, dtype: object\n"
     ]
    },
    {
     "name": "stderr",
     "output_type": "stream",
     "text": [
      "/tmp/ipykernel_267430/3345744263.py:2: SettingWithCopyWarning: \n",
      "A value is trying to be set on a copy of a slice from a DataFrame.\n",
      "Try using .loc[row_indexer,col_indexer] = value instead\n",
      "\n",
      "See the caveats in the documentation: https://pandas.pydata.org/pandas-docs/stable/user_guide/indexing.html#returning-a-view-versus-a-copy\n",
      "  df['full_text_data']=df['Description']+df['Title']\n",
      "/tmp/ipykernel_267430/3345744263.py:4: SettingWithCopyWarning: \n",
      "A value is trying to be set on a copy of a slice from a DataFrame.\n",
      "Try using .loc[row_indexer,col_indexer] = value instead\n",
      "\n",
      "See the caveats in the documentation: https://pandas.pydata.org/pandas-docs/stable/user_guide/indexing.html#returning-a-view-versus-a-copy\n",
      "  df['full_text_data']=df['full_text_data'].fillna('')\n"
     ]
    }
   ],
   "source": [
    "#creating freeform textual data column\n",
    "df['full_text_data']=df['Description']+df['Title']\n",
    "print(df['full_text_data'])\n",
    "df['full_text_data']=df['full_text_data'].fillna('')"
   ]
  },
  {
   "cell_type": "markdown",
   "id": "37f76b59",
   "metadata": {},
   "source": [
    "# Creating topics using LDA"
   ]
  },
  {
   "cell_type": "code",
   "execution_count": 10,
   "id": "0bf69911",
   "metadata": {},
   "outputs": [
    {
     "data": {
      "text/html": [
       "<style>#sk-container-id-1 {\n",
       "  /* Definition of color scheme common for light and dark mode */\n",
       "  --sklearn-color-text: black;\n",
       "  --sklearn-color-line: gray;\n",
       "  /* Definition of color scheme for unfitted estimators */\n",
       "  --sklearn-color-unfitted-level-0: #fff5e6;\n",
       "  --sklearn-color-unfitted-level-1: #f6e4d2;\n",
       "  --sklearn-color-unfitted-level-2: #ffe0b3;\n",
       "  --sklearn-color-unfitted-level-3: chocolate;\n",
       "  /* Definition of color scheme for fitted estimators */\n",
       "  --sklearn-color-fitted-level-0: #f0f8ff;\n",
       "  --sklearn-color-fitted-level-1: #d4ebff;\n",
       "  --sklearn-color-fitted-level-2: #b3dbfd;\n",
       "  --sklearn-color-fitted-level-3: cornflowerblue;\n",
       "\n",
       "  /* Specific color for light theme */\n",
       "  --sklearn-color-text-on-default-background: var(--sg-text-color, var(--theme-code-foreground, var(--jp-content-font-color1, black)));\n",
       "  --sklearn-color-background: var(--sg-background-color, var(--theme-background, var(--jp-layout-color0, white)));\n",
       "  --sklearn-color-border-box: var(--sg-text-color, var(--theme-code-foreground, var(--jp-content-font-color1, black)));\n",
       "  --sklearn-color-icon: #696969;\n",
       "\n",
       "  @media (prefers-color-scheme: dark) {\n",
       "    /* Redefinition of color scheme for dark theme */\n",
       "    --sklearn-color-text-on-default-background: var(--sg-text-color, var(--theme-code-foreground, var(--jp-content-font-color1, white)));\n",
       "    --sklearn-color-background: var(--sg-background-color, var(--theme-background, var(--jp-layout-color0, #111)));\n",
       "    --sklearn-color-border-box: var(--sg-text-color, var(--theme-code-foreground, var(--jp-content-font-color1, white)));\n",
       "    --sklearn-color-icon: #878787;\n",
       "  }\n",
       "}\n",
       "\n",
       "#sk-container-id-1 {\n",
       "  color: var(--sklearn-color-text);\n",
       "}\n",
       "\n",
       "#sk-container-id-1 pre {\n",
       "  padding: 0;\n",
       "}\n",
       "\n",
       "#sk-container-id-1 input.sk-hidden--visually {\n",
       "  border: 0;\n",
       "  clip: rect(1px 1px 1px 1px);\n",
       "  clip: rect(1px, 1px, 1px, 1px);\n",
       "  height: 1px;\n",
       "  margin: -1px;\n",
       "  overflow: hidden;\n",
       "  padding: 0;\n",
       "  position: absolute;\n",
       "  width: 1px;\n",
       "}\n",
       "\n",
       "#sk-container-id-1 div.sk-dashed-wrapped {\n",
       "  border: 1px dashed var(--sklearn-color-line);\n",
       "  margin: 0 0.4em 0.5em 0.4em;\n",
       "  box-sizing: border-box;\n",
       "  padding-bottom: 0.4em;\n",
       "  background-color: var(--sklearn-color-background);\n",
       "}\n",
       "\n",
       "#sk-container-id-1 div.sk-container {\n",
       "  /* jupyter's `normalize.less` sets `[hidden] { display: none; }`\n",
       "     but bootstrap.min.css set `[hidden] { display: none !important; }`\n",
       "     so we also need the `!important` here to be able to override the\n",
       "     default hidden behavior on the sphinx rendered scikit-learn.org.\n",
       "     See: https://github.com/scikit-learn/scikit-learn/issues/21755 */\n",
       "  display: inline-block !important;\n",
       "  position: relative;\n",
       "}\n",
       "\n",
       "#sk-container-id-1 div.sk-text-repr-fallback {\n",
       "  display: none;\n",
       "}\n",
       "\n",
       "div.sk-parallel-item,\n",
       "div.sk-serial,\n",
       "div.sk-item {\n",
       "  /* draw centered vertical line to link estimators */\n",
       "  background-image: linear-gradient(var(--sklearn-color-text-on-default-background), var(--sklearn-color-text-on-default-background));\n",
       "  background-size: 2px 100%;\n",
       "  background-repeat: no-repeat;\n",
       "  background-position: center center;\n",
       "}\n",
       "\n",
       "/* Parallel-specific style estimator block */\n",
       "\n",
       "#sk-container-id-1 div.sk-parallel-item::after {\n",
       "  content: \"\";\n",
       "  width: 100%;\n",
       "  border-bottom: 2px solid var(--sklearn-color-text-on-default-background);\n",
       "  flex-grow: 1;\n",
       "}\n",
       "\n",
       "#sk-container-id-1 div.sk-parallel {\n",
       "  display: flex;\n",
       "  align-items: stretch;\n",
       "  justify-content: center;\n",
       "  background-color: var(--sklearn-color-background);\n",
       "  position: relative;\n",
       "}\n",
       "\n",
       "#sk-container-id-1 div.sk-parallel-item {\n",
       "  display: flex;\n",
       "  flex-direction: column;\n",
       "}\n",
       "\n",
       "#sk-container-id-1 div.sk-parallel-item:first-child::after {\n",
       "  align-self: flex-end;\n",
       "  width: 50%;\n",
       "}\n",
       "\n",
       "#sk-container-id-1 div.sk-parallel-item:last-child::after {\n",
       "  align-self: flex-start;\n",
       "  width: 50%;\n",
       "}\n",
       "\n",
       "#sk-container-id-1 div.sk-parallel-item:only-child::after {\n",
       "  width: 0;\n",
       "}\n",
       "\n",
       "/* Serial-specific style estimator block */\n",
       "\n",
       "#sk-container-id-1 div.sk-serial {\n",
       "  display: flex;\n",
       "  flex-direction: column;\n",
       "  align-items: center;\n",
       "  background-color: var(--sklearn-color-background);\n",
       "  padding-right: 1em;\n",
       "  padding-left: 1em;\n",
       "}\n",
       "\n",
       "\n",
       "/* Toggleable style: style used for estimator/Pipeline/ColumnTransformer box that is\n",
       "clickable and can be expanded/collapsed.\n",
       "- Pipeline and ColumnTransformer use this feature and define the default style\n",
       "- Estimators will overwrite some part of the style using the `sk-estimator` class\n",
       "*/\n",
       "\n",
       "/* Pipeline and ColumnTransformer style (default) */\n",
       "\n",
       "#sk-container-id-1 div.sk-toggleable {\n",
       "  /* Default theme specific background. It is overwritten whether we have a\n",
       "  specific estimator or a Pipeline/ColumnTransformer */\n",
       "  background-color: var(--sklearn-color-background);\n",
       "}\n",
       "\n",
       "/* Toggleable label */\n",
       "#sk-container-id-1 label.sk-toggleable__label {\n",
       "  cursor: pointer;\n",
       "  display: block;\n",
       "  width: 100%;\n",
       "  margin-bottom: 0;\n",
       "  padding: 0.5em;\n",
       "  box-sizing: border-box;\n",
       "  text-align: center;\n",
       "}\n",
       "\n",
       "#sk-container-id-1 label.sk-toggleable__label-arrow:before {\n",
       "  /* Arrow on the left of the label */\n",
       "  content: \"▸\";\n",
       "  float: left;\n",
       "  margin-right: 0.25em;\n",
       "  color: var(--sklearn-color-icon);\n",
       "}\n",
       "\n",
       "#sk-container-id-1 label.sk-toggleable__label-arrow:hover:before {\n",
       "  color: var(--sklearn-color-text);\n",
       "}\n",
       "\n",
       "/* Toggleable content - dropdown */\n",
       "\n",
       "#sk-container-id-1 div.sk-toggleable__content {\n",
       "  max-height: 0;\n",
       "  max-width: 0;\n",
       "  overflow: hidden;\n",
       "  text-align: left;\n",
       "  /* unfitted */\n",
       "  background-color: var(--sklearn-color-unfitted-level-0);\n",
       "}\n",
       "\n",
       "#sk-container-id-1 div.sk-toggleable__content.fitted {\n",
       "  /* fitted */\n",
       "  background-color: var(--sklearn-color-fitted-level-0);\n",
       "}\n",
       "\n",
       "#sk-container-id-1 div.sk-toggleable__content pre {\n",
       "  margin: 0.2em;\n",
       "  border-radius: 0.25em;\n",
       "  color: var(--sklearn-color-text);\n",
       "  /* unfitted */\n",
       "  background-color: var(--sklearn-color-unfitted-level-0);\n",
       "}\n",
       "\n",
       "#sk-container-id-1 div.sk-toggleable__content.fitted pre {\n",
       "  /* unfitted */\n",
       "  background-color: var(--sklearn-color-fitted-level-0);\n",
       "}\n",
       "\n",
       "#sk-container-id-1 input.sk-toggleable__control:checked~div.sk-toggleable__content {\n",
       "  /* Expand drop-down */\n",
       "  max-height: 200px;\n",
       "  max-width: 100%;\n",
       "  overflow: auto;\n",
       "}\n",
       "\n",
       "#sk-container-id-1 input.sk-toggleable__control:checked~label.sk-toggleable__label-arrow:before {\n",
       "  content: \"▾\";\n",
       "}\n",
       "\n",
       "/* Pipeline/ColumnTransformer-specific style */\n",
       "\n",
       "#sk-container-id-1 div.sk-label input.sk-toggleable__control:checked~label.sk-toggleable__label {\n",
       "  color: var(--sklearn-color-text);\n",
       "  background-color: var(--sklearn-color-unfitted-level-2);\n",
       "}\n",
       "\n",
       "#sk-container-id-1 div.sk-label.fitted input.sk-toggleable__control:checked~label.sk-toggleable__label {\n",
       "  background-color: var(--sklearn-color-fitted-level-2);\n",
       "}\n",
       "\n",
       "/* Estimator-specific style */\n",
       "\n",
       "/* Colorize estimator box */\n",
       "#sk-container-id-1 div.sk-estimator input.sk-toggleable__control:checked~label.sk-toggleable__label {\n",
       "  /* unfitted */\n",
       "  background-color: var(--sklearn-color-unfitted-level-2);\n",
       "}\n",
       "\n",
       "#sk-container-id-1 div.sk-estimator.fitted input.sk-toggleable__control:checked~label.sk-toggleable__label {\n",
       "  /* fitted */\n",
       "  background-color: var(--sklearn-color-fitted-level-2);\n",
       "}\n",
       "\n",
       "#sk-container-id-1 div.sk-label label.sk-toggleable__label,\n",
       "#sk-container-id-1 div.sk-label label {\n",
       "  /* The background is the default theme color */\n",
       "  color: var(--sklearn-color-text-on-default-background);\n",
       "}\n",
       "\n",
       "/* On hover, darken the color of the background */\n",
       "#sk-container-id-1 div.sk-label:hover label.sk-toggleable__label {\n",
       "  color: var(--sklearn-color-text);\n",
       "  background-color: var(--sklearn-color-unfitted-level-2);\n",
       "}\n",
       "\n",
       "/* Label box, darken color on hover, fitted */\n",
       "#sk-container-id-1 div.sk-label.fitted:hover label.sk-toggleable__label.fitted {\n",
       "  color: var(--sklearn-color-text);\n",
       "  background-color: var(--sklearn-color-fitted-level-2);\n",
       "}\n",
       "\n",
       "/* Estimator label */\n",
       "\n",
       "#sk-container-id-1 div.sk-label label {\n",
       "  font-family: monospace;\n",
       "  font-weight: bold;\n",
       "  display: inline-block;\n",
       "  line-height: 1.2em;\n",
       "}\n",
       "\n",
       "#sk-container-id-1 div.sk-label-container {\n",
       "  text-align: center;\n",
       "}\n",
       "\n",
       "/* Estimator-specific */\n",
       "#sk-container-id-1 div.sk-estimator {\n",
       "  font-family: monospace;\n",
       "  border: 1px dotted var(--sklearn-color-border-box);\n",
       "  border-radius: 0.25em;\n",
       "  box-sizing: border-box;\n",
       "  margin-bottom: 0.5em;\n",
       "  /* unfitted */\n",
       "  background-color: var(--sklearn-color-unfitted-level-0);\n",
       "}\n",
       "\n",
       "#sk-container-id-1 div.sk-estimator.fitted {\n",
       "  /* fitted */\n",
       "  background-color: var(--sklearn-color-fitted-level-0);\n",
       "}\n",
       "\n",
       "/* on hover */\n",
       "#sk-container-id-1 div.sk-estimator:hover {\n",
       "  /* unfitted */\n",
       "  background-color: var(--sklearn-color-unfitted-level-2);\n",
       "}\n",
       "\n",
       "#sk-container-id-1 div.sk-estimator.fitted:hover {\n",
       "  /* fitted */\n",
       "  background-color: var(--sklearn-color-fitted-level-2);\n",
       "}\n",
       "\n",
       "/* Specification for estimator info (e.g. \"i\" and \"?\") */\n",
       "\n",
       "/* Common style for \"i\" and \"?\" */\n",
       "\n",
       ".sk-estimator-doc-link,\n",
       "a:link.sk-estimator-doc-link,\n",
       "a:visited.sk-estimator-doc-link {\n",
       "  float: right;\n",
       "  font-size: smaller;\n",
       "  line-height: 1em;\n",
       "  font-family: monospace;\n",
       "  background-color: var(--sklearn-color-background);\n",
       "  border-radius: 1em;\n",
       "  height: 1em;\n",
       "  width: 1em;\n",
       "  text-decoration: none !important;\n",
       "  margin-left: 1ex;\n",
       "  /* unfitted */\n",
       "  border: var(--sklearn-color-unfitted-level-1) 1pt solid;\n",
       "  color: var(--sklearn-color-unfitted-level-1);\n",
       "}\n",
       "\n",
       ".sk-estimator-doc-link.fitted,\n",
       "a:link.sk-estimator-doc-link.fitted,\n",
       "a:visited.sk-estimator-doc-link.fitted {\n",
       "  /* fitted */\n",
       "  border: var(--sklearn-color-fitted-level-1) 1pt solid;\n",
       "  color: var(--sklearn-color-fitted-level-1);\n",
       "}\n",
       "\n",
       "/* On hover */\n",
       "div.sk-estimator:hover .sk-estimator-doc-link:hover,\n",
       ".sk-estimator-doc-link:hover,\n",
       "div.sk-label-container:hover .sk-estimator-doc-link:hover,\n",
       ".sk-estimator-doc-link:hover {\n",
       "  /* unfitted */\n",
       "  background-color: var(--sklearn-color-unfitted-level-3);\n",
       "  color: var(--sklearn-color-background);\n",
       "  text-decoration: none;\n",
       "}\n",
       "\n",
       "div.sk-estimator.fitted:hover .sk-estimator-doc-link.fitted:hover,\n",
       ".sk-estimator-doc-link.fitted:hover,\n",
       "div.sk-label-container:hover .sk-estimator-doc-link.fitted:hover,\n",
       ".sk-estimator-doc-link.fitted:hover {\n",
       "  /* fitted */\n",
       "  background-color: var(--sklearn-color-fitted-level-3);\n",
       "  color: var(--sklearn-color-background);\n",
       "  text-decoration: none;\n",
       "}\n",
       "\n",
       "/* Span, style for the box shown on hovering the info icon */\n",
       ".sk-estimator-doc-link span {\n",
       "  display: none;\n",
       "  z-index: 9999;\n",
       "  position: relative;\n",
       "  font-weight: normal;\n",
       "  right: .2ex;\n",
       "  padding: .5ex;\n",
       "  margin: .5ex;\n",
       "  width: min-content;\n",
       "  min-width: 20ex;\n",
       "  max-width: 50ex;\n",
       "  color: var(--sklearn-color-text);\n",
       "  box-shadow: 2pt 2pt 4pt #999;\n",
       "  /* unfitted */\n",
       "  background: var(--sklearn-color-unfitted-level-0);\n",
       "  border: .5pt solid var(--sklearn-color-unfitted-level-3);\n",
       "}\n",
       "\n",
       ".sk-estimator-doc-link.fitted span {\n",
       "  /* fitted */\n",
       "  background: var(--sklearn-color-fitted-level-0);\n",
       "  border: var(--sklearn-color-fitted-level-3);\n",
       "}\n",
       "\n",
       ".sk-estimator-doc-link:hover span {\n",
       "  display: block;\n",
       "}\n",
       "\n",
       "/* \"?\"-specific style due to the `<a>` HTML tag */\n",
       "\n",
       "#sk-container-id-1 a.estimator_doc_link {\n",
       "  float: right;\n",
       "  font-size: 1rem;\n",
       "  line-height: 1em;\n",
       "  font-family: monospace;\n",
       "  background-color: var(--sklearn-color-background);\n",
       "  border-radius: 1rem;\n",
       "  height: 1rem;\n",
       "  width: 1rem;\n",
       "  text-decoration: none;\n",
       "  /* unfitted */\n",
       "  color: var(--sklearn-color-unfitted-level-1);\n",
       "  border: var(--sklearn-color-unfitted-level-1) 1pt solid;\n",
       "}\n",
       "\n",
       "#sk-container-id-1 a.estimator_doc_link.fitted {\n",
       "  /* fitted */\n",
       "  border: var(--sklearn-color-fitted-level-1) 1pt solid;\n",
       "  color: var(--sklearn-color-fitted-level-1);\n",
       "}\n",
       "\n",
       "/* On hover */\n",
       "#sk-container-id-1 a.estimator_doc_link:hover {\n",
       "  /* unfitted */\n",
       "  background-color: var(--sklearn-color-unfitted-level-3);\n",
       "  color: var(--sklearn-color-background);\n",
       "  text-decoration: none;\n",
       "}\n",
       "\n",
       "#sk-container-id-1 a.estimator_doc_link.fitted:hover {\n",
       "  /* fitted */\n",
       "  background-color: var(--sklearn-color-fitted-level-3);\n",
       "}\n",
       "</style><div id=\"sk-container-id-1\" class=\"sk-top-container\"><div class=\"sk-text-repr-fallback\"><pre>LatentDirichletAllocation(learning_method=&#x27;online&#x27;, learning_offset=50.0,\n",
       "                          n_components=7, random_state=0)</pre><b>In a Jupyter environment, please rerun this cell to show the HTML representation or trust the notebook. <br />On GitHub, the HTML representation is unable to render, please try loading this page with nbviewer.org.</b></div><div class=\"sk-container\" hidden><div class=\"sk-item\"><div class=\"sk-estimator fitted sk-toggleable\"><input class=\"sk-toggleable__control sk-hidden--visually\" id=\"sk-estimator-id-1\" type=\"checkbox\" checked><label for=\"sk-estimator-id-1\" class=\"sk-toggleable__label fitted sk-toggleable__label-arrow fitted\">&nbsp;&nbsp;LatentDirichletAllocation<a class=\"sk-estimator-doc-link fitted\" rel=\"noreferrer\" target=\"_blank\" href=\"https://scikit-learn.org/1.5/modules/generated/sklearn.decomposition.LatentDirichletAllocation.html\">?<span>Documentation for LatentDirichletAllocation</span></a><span class=\"sk-estimator-doc-link fitted\">i<span>Fitted</span></span></label><div class=\"sk-toggleable__content fitted\"><pre>LatentDirichletAllocation(learning_method=&#x27;online&#x27;, learning_offset=50.0,\n",
       "                          n_components=7, random_state=0)</pre></div> </div></div></div></div>"
      ],
      "text/plain": [
       "LatentDirichletAllocation(learning_method='online', learning_offset=50.0,\n",
       "                          n_components=7, random_state=0)"
      ]
     },
     "execution_count": 10,
     "metadata": {},
     "output_type": "execute_result"
    }
   ],
   "source": [
    "from sklearn.feature_extraction.text import CountVectorizer\n",
    "from sklearn.decomposition import LatentDirichletAllocation\n",
    "\n",
    "import pandas as pd\n",
    "from sklearn.feature_extraction.text import CountVectorizer\n",
    "\n",
    "# Initialize CountVectorizer\n",
    "count_vectorizer = CountVectorizer(max_df=0.9, min_df=2, stop_words='english')\n",
    "\n",
    "# Fit and transform the CountVectorizer on the text data\n",
    "counts = count_vectorizer.fit_transform(df['full_text_data'])\n",
    "\n",
    "count_vectorizer = CountVectorizer(max_df=0.9, min_df=2, stop_words='english')\n",
    "counts = count_vectorizer.fit_transform(df['full_text_data'])\n",
    "\n",
    "        # Fit LDA model\n",
    "lda = LatentDirichletAllocation(n_components=7, max_iter=10,learning_method='online',learning_offset=50.,random_state=0)\n",
    "lda.fit(counts)\n"
   ]
  },
  {
   "cell_type": "code",
   "execution_count": 11,
   "id": "74c99878",
   "metadata": {},
   "outputs": [
    {
     "name": "stdout",
     "output_type": "stream",
     "text": [
      "Topic 1:\n",
      "framework junit dylib tests thread versions frameworks test com library apple testsuite 4xestacktrace libclient uitestapplication testresult testcase carbon 0010 remotetestrunner\n",
      "\n",
      "Topic 2:\n",
      "eclipse org core osgi update framework plugins message ui com jar bundle platform help equinox http ibm runtime apache entry\n",
      "\n",
      "Topic 3:\n",
      "swt new shell display line string public table int event import eclipse null object void org tree image item return\n",
      "\n",
      "Topic 4:\n",
      "lib eclipse 03 00000000 usr dll 00 object jar xp system32 org java windows lang plugins rwxp jre 08 02\n",
      "\n",
      "Topic 5:\n",
      "java org eclipse internal ui core swt run widgets main workbench jface display runtime lang method widget reflect launcher invoke\n",
      "\n",
      "Topic 6:\n",
      "editor text view open window line click dialog help search page menu select perspective tab does button ctrl editors right\n",
      "\n",
      "Topic 7:\n",
      "file project build eclipse new cvs error view workspace files use dialog using does bug problem create user set like\n",
      "\n"
     ]
    }
   ],
   "source": [
    "feature_names = count_vectorizer.get_feature_names_out()\n",
    "for topic_idx, topic in enumerate(lda.components_):\n",
    "        print(f\"Topic {topic_idx + 1}:\")\n",
    "        print(\" \".join([feature_names[i]\n",
    "                        for i in topic.argsort()[:-20 - 1:-1]]))\n",
    "        \n",
    "        print()"
   ]
  },
  {
   "cell_type": "code",
   "execution_count": 12,
   "id": "d3bb239a",
   "metadata": {},
   "outputs": [],
   "source": [
    "#for alll columns in the df \n",
    "#compare each bug report to each topic \n",
    "#if\n",
    "topic_distributions = lda.transform(counts)"
   ]
  },
  {
   "cell_type": "code",
   "execution_count": 13,
   "id": "3a40154b",
   "metadata": {
    "scrolled": true
   },
   "outputs": [
    {
     "name": "stderr",
     "output_type": "stream",
     "text": [
      "/tmp/ipykernel_267430/2460893164.py:1: SettingWithCopyWarning: \n",
      "A value is trying to be set on a copy of a slice from a DataFrame.\n",
      "Try using .loc[row_indexer,col_indexer] = value instead\n",
      "\n",
      "See the caveats in the documentation: https://pandas.pydata.org/pandas-docs/stable/user_guide/indexing.html#returning-a-view-versus-a-copy\n",
      "  df['topic'] = topic_distributions.argmax(axis=1)\n"
     ]
    },
    {
     "name": "stdout",
     "output_type": "stream",
     "text": [
      "Topic 0:\n",
      "2735     Eclipse cannot display Japanese letters in the...\n",
      "2736     Please see the following test result of NLSed ...\n",
      "3320                                 This is a test PRTest\n",
      "4775     The following entries in the org.eclipse.jface...\n",
      "6971     There are no senders of ResourceState:storeSta...\n",
      "                               ...                        \n",
      "67512    In recent builds:; ; WIN XP; SUN 1.4.2; ; Wron...\n",
      "67525    I have a java application that has been workin...\n",
      "67599    1. Make a view a fast view.; 2. Click on the n...\n",
      "67826     Simplification in ContentMergeViewer#setRight...\n",
      "68048    I20080429-0100.; ; CachedMarkerBuilder writes ...\n",
      "Name: full_text_data, Length: 275, dtype: object\n",
      "\n",
      "Topic 1:\n",
      "105      The ingore resources page has the list box far...\n",
      "221      prefix        test; name          181178; refe...\n",
      "222      prefix        test; name          181342; refe...\n",
      "245      I created a new stream in the repository; made...\n",
      "295      |     To:  Brian Young/OTT/OTI@OTI; Dave Thoms...\n",
      "                               ...                        \n",
      "68043    I downloaded eclipse-jee-ganymede-M6-win32.zip...\n",
      "68045    Should check that sdk includes plugins and fea...\n",
      "68083    Build ID: I20080427-1857; ; Steps To Reproduce...\n",
      "68086    On startup and shutdown of the Eclipse I 04/29...\n",
      "68106    Build ID: 3.4 M6a; ; Steps To Reproduce:; ; Tr...\n",
      "Name: full_text_data, Length: 2669, dtype: object\n",
      "\n",
      "Topic 2:\n",
      "242      There are no senders of IRepository.isWritable...\n",
      "330      DW (12/8/00 4:03:27 PM); \\tThe old VAME debugg...\n",
      "339      public class Hello() {; ; \\tpublic static void...\n",
      "348      1. Create a script file test.xhtml; 2. Select ...\n",
      "425      Create a File A.usr.; \\tSelect a text field on...\n",
      "                               ...                        \n",
      "68103    If you try to add 50 million items to a virtua...\n",
      "68105    - run the snippet below; - note that the main ...\n",
      "68113    Build ID: 3.4M6; ; Steps To Reproduce:; Run an...\n",
      "68118    swt.jar from the I20080429-0100 build; setRegi...\n",
      "68119    Build ID: 3.3 (I am not sure what You mean by ...\n",
      "Name: full_text_data, Length: 5474, dtype: object\n",
      "\n",
      "Topic 3:\n",
      "391      In a self-hosting workspace; I have 4 Java edi...\n",
      "1564     SWT has libraries called libswt.so which have ...\n",
      "1765     Due June 15th.; ; \\tNeed to determine if embed...\n",
      "2063     (start eclipse from a terminal window so you c...\n",
      "2069     Per discussions with Mcq I tried 0.9 against t...\n",
      "                               ...                        \n",
      "66887    Build ID: eclipse-jee-europa-fall2-linux-gtk.t...\n",
      "66905    Created attachment 90663; The error log (3.4M5...\n",
      "67351    Build ID: 3.2; ; Steps To Reproduce:; 1. Open ...\n",
      "67436    Build ID: SWT 3346; ; Steps To Reproduce:; jus...\n",
      "67671    Created attachment 94999; jre hs_err_pid crash...\n",
      "Name: full_text_data, Length: 732, dtype: object\n",
      "\n",
      "Topic 4:\n",
      "121      After having synchronized and released success...\n",
      "144      *\\tConnect to cvslnxtest; *\\texpand Head; *\\te...\n",
      "145      UnknownHostException is not caught when the ho...\n",
      "150      Whenever you cancel the operation on the repos...\n",
      "162      AK (6/12/01 4:55:24 PM); \\ti got this exceptio...\n",
      "                               ...                        \n",
      "68079    I20080429-0100; ; I got this by quitting Eclip...\n",
      "68093    Just after click at Open Run Dialog... this er...\n",
      "68108    I found two of these in my .log.  I see restar...\n",
      "68114    Using eclipse.buildId=I20080427-2000; java.ful...\n",
      "68116    I20080430; ; When I self host Eclipse and try ...\n",
      "Name: full_text_data, Length: 6929, dtype: object\n",
      "\n",
      "Topic 5:\n",
      "93       When browsing files in the Repositories View; ...\n",
      "147      Not high priority; but we should be setting th...\n",
      "258      NOTES:Cant copy change from right to left in c...\n",
      "273      Must be known by now; but just in case it is n...\n",
      "281      KK (5/23/2001 4:42:37 PM); \\tIf help is a fast...\n",
      "                               ...                        \n",
      "68092    I20080430-0100.; ; This is more a seeking for ...\n",
      "68095    Build ID: I20080409-1425; ; Steps To Reproduce...\n",
      "68099    Clicking on the FVB and selecting a view from ...\n",
      "68101    Created attachment 98210; Screenshot; ; I20080...\n",
      "68115    1. In any of the resources views (Navigation; ...\n",
      "Name: full_text_data, Length: 16178, dtype: object\n",
      "\n",
      "Topic 6:\n",
      "0        - Setup a project that contains a *.gif resour...\n",
      "1        Opening repository resource always open the de...\n",
      "2        KM (10/2/2001 5:55:18 PM); \\tThis PR about the...\n",
      "3        - become synchronized with some project in a r...\n",
      "4        For getting/setting the managed state of a res...\n",
      "                               ...                        \n",
      "68117    I20080430; ; If I load a project into the work...\n",
      "68120    There are several NPEs within the UI session t...\n",
      "68121    I20080501-0100; ; Now that were using the coll...\n",
      "68122    Created attachment 98318; screenshot; ; I20080...\n",
      "68123    Build ID: M20080221-1800; ; Steps To Reproduce...\n",
      "Name: full_text_data, Length: 35867, dtype: object\n",
      "\n"
     ]
    }
   ],
   "source": [
    "df['topic'] = topic_distributions.argmax(axis=1)\n",
    "\n",
    "# Create DataFrames for each topic\n",
    "topic_dfs = []\n",
    "for topic_idx in range(7):\n",
    "    topic_df = df[df['topic'] == topic_idx].copy()\n",
    "    topic_dfs.append(topic_df)\n",
    "\n",
    "# Display the DataFrames for each topic\n",
    "for i, topic_df in enumerate(topic_dfs):\n",
    "    print(f\"Topic {i}:\")\n",
    "    print(topic_df['full_text_data'])\n",
    "    print()\n",
    "\n",
    "# Optionally, you can save each DataFrame to a CSV file\n",
    "for i, topic_df in enumerate(topic_dfs):\n",
    "    topic_df.to_csv(f'topic_{i}_bug_reports.csv', index=False)"
   ]
  },
  {
   "cell_type": "code",
   "execution_count": 14,
   "id": "df5e8718",
   "metadata": {},
   "outputs": [],
   "source": [
    "topic_0_df=pd.read_csv('topic_0_bug_reports.csv')\n",
    "topic_1_df=pd.read_csv('topic_1_bug_reports.csv')\n",
    "topic_2_df=pd.read_csv('topic_2_bug_reports.csv')\n",
    "topic_3_df=pd.read_csv('topic_3_bug_reports.csv')\n",
    "topic_4_df=pd.read_csv('topic_4_bug_reports.csv')\n",
    "topic_5_df=pd.read_csv('topic_5_bug_reports.csv')\n",
    "topic_6_df=pd.read_csv('topic_6_bug_reports.csv')\n",
    "\n",
    "\n",
    "#storaging them in seperate csv so when we do classifciaton on them its alll seperate "
   ]
  },
  {
   "cell_type": "code",
   "execution_count": 15,
   "id": "42c58f0d-05e2-4aee-b62b-ddd9c0c67a60",
   "metadata": {},
   "outputs": [
    {
     "name": "stderr",
     "output_type": "stream",
     "text": [
      "/tmp/ipykernel_267430/1678119556.py:1: SettingWithCopyWarning: \n",
      "A value is trying to be set on a copy of a slice from a DataFrame.\n",
      "Try using .loc[row_indexer,col_indexer] = value instead\n",
      "\n",
      "See the caveats in the documentation: https://pandas.pydata.org/pandas-docs/stable/user_guide/indexing.html#returning-a-view-versus-a-copy\n",
      "  df['topic'] = topic_distributions.argmax(axis=1)\n"
     ]
    }
   ],
   "source": [
    "df['topic'] = topic_distributions.argmax(axis=1)\n",
    "#adds column for topic to the df \n"
   ]
  },
  {
   "cell_type": "code",
   "execution_count": null,
   "id": "cd3d8dc8-dd8d-496f-85d0-747430e36c74",
   "metadata": {},
   "outputs": [],
   "source": []
  },
  {
   "cell_type": "markdown",
   "id": "4c86c8c4",
   "metadata": {},
   "source": [
    "# Comparing the bug text using Cosine Similarity"
   ]
  },
  {
   "cell_type": "markdown",
   "id": "170d7433-6703-4ffd-b4b8-46c6ea7c3cf9",
   "metadata": {},
   "source": [
    "### I am running this for topic 0 first to see how it works. Then I will refactor so that I can run it for all topics "
   ]
  },
  {
   "cell_type": "code",
   "execution_count": 16,
   "id": "5b114412",
   "metadata": {
    "scrolled": true
   },
   "outputs": [
    {
     "name": "stdout",
     "output_type": "stream",
     "text": [
      "Requirement already satisfied: sentence-transformers in /home/claney/anaconda3/envs/reu/lib/python3.11/site-packages (3.0.1)\n",
      "Requirement already satisfied: pandas in /home/claney/anaconda3/envs/reu/lib/python3.11/site-packages (2.2.2)\n",
      "Requirement already satisfied: torch in /home/claney/anaconda3/envs/reu/lib/python3.11/site-packages (2.3.1)\n",
      "Requirement already satisfied: transformers<5.0.0,>=4.34.0 in /home/claney/anaconda3/envs/reu/lib/python3.11/site-packages (from sentence-transformers) (4.41.2)\n",
      "Requirement already satisfied: tqdm in /home/claney/anaconda3/envs/reu/lib/python3.11/site-packages (from sentence-transformers) (4.66.4)\n",
      "Requirement already satisfied: numpy in /home/claney/anaconda3/envs/reu/lib/python3.11/site-packages (from sentence-transformers) (1.26.4)\n",
      "Requirement already satisfied: scikit-learn in /home/claney/anaconda3/envs/reu/lib/python3.11/site-packages (from sentence-transformers) (1.5.0)\n",
      "Requirement already satisfied: scipy in /home/claney/anaconda3/envs/reu/lib/python3.11/site-packages (from sentence-transformers) (1.13.1)\n",
      "Requirement already satisfied: huggingface-hub>=0.15.1 in /home/claney/anaconda3/envs/reu/lib/python3.11/site-packages (from sentence-transformers) (0.23.4)\n",
      "Requirement already satisfied: Pillow in /home/claney/anaconda3/envs/reu/lib/python3.11/site-packages (from sentence-transformers) (10.3.0)\n",
      "Requirement already satisfied: python-dateutil>=2.8.2 in /home/claney/anaconda3/envs/reu/lib/python3.11/site-packages (from pandas) (2.9.0)\n",
      "Requirement already satisfied: pytz>=2020.1 in /home/claney/anaconda3/envs/reu/lib/python3.11/site-packages (from pandas) (2024.1)\n",
      "Requirement already satisfied: tzdata>=2022.7 in /home/claney/anaconda3/envs/reu/lib/python3.11/site-packages (from pandas) (2024.1)\n",
      "Requirement already satisfied: filelock in /home/claney/anaconda3/envs/reu/lib/python3.11/site-packages (from torch) (3.15.4)\n",
      "Requirement already satisfied: typing-extensions>=4.8.0 in /home/claney/anaconda3/envs/reu/lib/python3.11/site-packages (from torch) (4.12.2)\n",
      "Requirement already satisfied: sympy in /home/claney/anaconda3/envs/reu/lib/python3.11/site-packages (from torch) (1.12.1)\n",
      "Requirement already satisfied: networkx in /home/claney/anaconda3/envs/reu/lib/python3.11/site-packages (from torch) (3.3)\n",
      "Requirement already satisfied: jinja2 in /home/claney/anaconda3/envs/reu/lib/python3.11/site-packages (from torch) (3.1.4)\n",
      "Requirement already satisfied: fsspec in /home/claney/anaconda3/envs/reu/lib/python3.11/site-packages (from torch) (2024.6.0)\n",
      "Requirement already satisfied: nvidia-cuda-nvrtc-cu12==12.1.105 in /home/claney/anaconda3/envs/reu/lib/python3.11/site-packages (from torch) (12.1.105)\n",
      "Requirement already satisfied: nvidia-cuda-runtime-cu12==12.1.105 in /home/claney/anaconda3/envs/reu/lib/python3.11/site-packages (from torch) (12.1.105)\n",
      "Requirement already satisfied: nvidia-cuda-cupti-cu12==12.1.105 in /home/claney/anaconda3/envs/reu/lib/python3.11/site-packages (from torch) (12.1.105)\n",
      "Requirement already satisfied: nvidia-cudnn-cu12==8.9.2.26 in /home/claney/anaconda3/envs/reu/lib/python3.11/site-packages (from torch) (8.9.2.26)\n",
      "Requirement already satisfied: nvidia-cublas-cu12==12.1.3.1 in /home/claney/anaconda3/envs/reu/lib/python3.11/site-packages (from torch) (12.1.3.1)\n",
      "Requirement already satisfied: nvidia-cufft-cu12==11.0.2.54 in /home/claney/anaconda3/envs/reu/lib/python3.11/site-packages (from torch) (11.0.2.54)\n",
      "Requirement already satisfied: nvidia-curand-cu12==10.3.2.106 in /home/claney/anaconda3/envs/reu/lib/python3.11/site-packages (from torch) (10.3.2.106)\n",
      "Requirement already satisfied: nvidia-cusolver-cu12==11.4.5.107 in /home/claney/anaconda3/envs/reu/lib/python3.11/site-packages (from torch) (11.4.5.107)\n",
      "Requirement already satisfied: nvidia-cusparse-cu12==12.1.0.106 in /home/claney/anaconda3/envs/reu/lib/python3.11/site-packages (from torch) (12.1.0.106)\n",
      "Requirement already satisfied: nvidia-nccl-cu12==2.20.5 in /home/claney/anaconda3/envs/reu/lib/python3.11/site-packages (from torch) (2.20.5)\n",
      "Requirement already satisfied: nvidia-nvtx-cu12==12.1.105 in /home/claney/anaconda3/envs/reu/lib/python3.11/site-packages (from torch) (12.1.105)\n",
      "Requirement already satisfied: triton==2.3.1 in /home/claney/anaconda3/envs/reu/lib/python3.11/site-packages (from torch) (2.3.1)\n",
      "Requirement already satisfied: nvidia-nvjitlink-cu12 in /home/claney/anaconda3/envs/reu/lib/python3.11/site-packages (from nvidia-cusolver-cu12==11.4.5.107->torch) (12.5.40)\n",
      "Requirement already satisfied: packaging>=20.9 in /home/claney/anaconda3/envs/reu/lib/python3.11/site-packages (from huggingface-hub>=0.15.1->sentence-transformers) (24.1)\n",
      "Requirement already satisfied: pyyaml>=5.1 in /home/claney/anaconda3/envs/reu/lib/python3.11/site-packages (from huggingface-hub>=0.15.1->sentence-transformers) (6.0.1)\n",
      "Requirement already satisfied: requests in /home/claney/anaconda3/envs/reu/lib/python3.11/site-packages (from huggingface-hub>=0.15.1->sentence-transformers) (2.32.3)\n",
      "Requirement already satisfied: six>=1.5 in /home/claney/anaconda3/envs/reu/lib/python3.11/site-packages (from python-dateutil>=2.8.2->pandas) (1.16.0)\n",
      "Requirement already satisfied: regex!=2019.12.17 in /home/claney/anaconda3/envs/reu/lib/python3.11/site-packages (from transformers<5.0.0,>=4.34.0->sentence-transformers) (2024.5.15)\n",
      "Requirement already satisfied: tokenizers<0.20,>=0.19 in /home/claney/anaconda3/envs/reu/lib/python3.11/site-packages (from transformers<5.0.0,>=4.34.0->sentence-transformers) (0.19.1)\n",
      "Requirement already satisfied: safetensors>=0.4.1 in /home/claney/anaconda3/envs/reu/lib/python3.11/site-packages (from transformers<5.0.0,>=4.34.0->sentence-transformers) (0.4.3)\n",
      "Requirement already satisfied: MarkupSafe>=2.0 in /home/claney/anaconda3/envs/reu/lib/python3.11/site-packages (from jinja2->torch) (2.1.3)\n",
      "Requirement already satisfied: joblib>=1.2.0 in /home/claney/anaconda3/envs/reu/lib/python3.11/site-packages (from scikit-learn->sentence-transformers) (1.4.2)\n",
      "Requirement already satisfied: threadpoolctl>=3.1.0 in /home/claney/anaconda3/envs/reu/lib/python3.11/site-packages (from scikit-learn->sentence-transformers) (3.5.0)\n",
      "Requirement already satisfied: mpmath<1.4.0,>=1.1.0 in /home/claney/anaconda3/envs/reu/lib/python3.11/site-packages (from sympy->torch) (1.3.0)\n",
      "Requirement already satisfied: charset-normalizer<4,>=2 in /home/claney/anaconda3/envs/reu/lib/python3.11/site-packages (from requests->huggingface-hub>=0.15.1->sentence-transformers) (3.3.2)\n",
      "Requirement already satisfied: idna<4,>=2.5 in /home/claney/anaconda3/envs/reu/lib/python3.11/site-packages (from requests->huggingface-hub>=0.15.1->sentence-transformers) (3.7)\n",
      "Requirement already satisfied: urllib3<3,>=1.21.1 in /home/claney/anaconda3/envs/reu/lib/python3.11/site-packages (from requests->huggingface-hub>=0.15.1->sentence-transformers) (2.2.1)\n",
      "Requirement already satisfied: certifi>=2017.4.17 in /home/claney/anaconda3/envs/reu/lib/python3.11/site-packages (from requests->huggingface-hub>=0.15.1->sentence-transformers) (2024.6.2)\n",
      "Note: you may need to restart the kernel to use updated packages.\n"
     ]
    }
   ],
   "source": [
    "pip install sentence-transformers pandas torch\n"
   ]
  },
  {
   "cell_type": "code",
   "execution_count": null,
   "id": "ebb023d6-6fda-4d31-894d-c20a90535276",
   "metadata": {},
   "outputs": [],
   "source": []
  },
  {
   "cell_type": "code",
   "execution_count": 17,
   "id": "99be05bf",
   "metadata": {},
   "outputs": [
    {
     "name": "stderr",
     "output_type": "stream",
     "text": [
      "/home/claney/anaconda3/envs/reu/lib/python3.11/site-packages/sentence_transformers/cross_encoder/CrossEncoder.py:11: TqdmExperimentalWarning: Using `tqdm.autonotebook.tqdm` in notebook mode. Use `tqdm.tqdm` instead to force console mode (e.g. in jupyter console)\n",
      "  from tqdm.autonotebook import tqdm, trange\n"
     ]
    }
   ],
   "source": [
    "from sentence_transformers import SentenceTransformer, util\n"
   ]
  },
  {
   "cell_type": "code",
   "execution_count": 18,
   "id": "05a322b0",
   "metadata": {
    "scrolled": true
   },
   "outputs": [
    {
     "name": "stderr",
     "output_type": "stream",
     "text": [
      "/home/claney/anaconda3/envs/reu/lib/python3.11/site-packages/torch/cuda/__init__.py:118: UserWarning: CUDA initialization: Unexpected error from cudaGetDeviceCount(). Did you run some cuda functions before calling NumCudaDevices() that might have already set an error? Error 804: forward compatibility was attempted on non supported HW (Triggered internally at ../c10/cuda/CUDAFunctions.cpp:108.)\n",
      "  return torch._C._cuda_getDeviceCount() > 0\n",
      "/home/claney/anaconda3/envs/reu/lib/python3.11/site-packages/huggingface_hub/file_download.py:1132: FutureWarning: `resume_download` is deprecated and will be removed in version 1.0.0. Downloads always resume when possible. If you want to force a new download, use `force_download=True`.\n",
      "  warnings.warn(\n",
      "/home/claney/anaconda3/envs/reu/lib/python3.11/site-packages/torch/cuda/__init__.py:619: UserWarning: Can't initialize NVML\n",
      "  warnings.warn(\"Can't initialize NVML\")\n"
     ]
    },
    {
     "name": "stdout",
     "output_type": "stream",
     "text": [
      "tensor([[1.0000, 0.9213, 0.1975,  ..., 0.4375, 0.0924, 0.1349],\n",
      "        [0.9213, 1.0000, 0.2574,  ..., 0.4001, 0.0968, 0.1321],\n",
      "        [0.1975, 0.2574, 1.0000,  ..., 0.0065, 0.1446, 0.1364],\n",
      "        ...,\n",
      "        [0.4375, 0.4001, 0.0065,  ..., 1.0000, 0.2337, 0.2753],\n",
      "        [0.0924, 0.0968, 0.1446,  ..., 0.2337, 1.0000, 0.1709],\n",
      "        [0.1349, 0.1321, 0.1364,  ..., 0.2753, 0.1709, 1.0000]])\n"
     ]
    }
   ],
   "source": [
    "import torch\n",
    "model = SentenceTransformer('paraphrase-MiniLM-L6-v2')\n",
    "\n",
    "# Encode sentences and store the embeddings in the DataFrame\n",
    "topic_0_df['embeddings'] = topic_0_df['full_text_data'].apply(lambda x: model.encode(x, convert_to_tensor=True))\n",
    "\n",
    "# Convert embeddings to a tensor\n",
    "embeddings = torch.stack(topic_0_df['embeddings'].tolist())\n",
    "\n",
    "# Calculate cosine similarity\n",
    "cosine_scores = util.pytorch_cos_sim(embeddings, embeddings)\n",
    "\n",
    "\n",
    "print(cosine_scores)\n"
   ]
  },
  {
   "cell_type": "code",
   "execution_count": 19,
   "id": "1a1ee342",
   "metadata": {},
   "outputs": [
    {
     "name": "stdout",
     "output_type": "stream",
     "text": [
      "[[1.     0.9213 0.1975 ... 0.4375 0.0924 0.1349]\n",
      " [0.9213 1.     0.2574 ... 0.4001 0.0968 0.1321]\n",
      " [0.1975 0.2574 1.     ... 0.0065 0.1446 0.1364]\n",
      " ...\n",
      " [0.4375 0.4001 0.0065 ... 1.     0.2337 0.2753]\n",
      " [0.0924 0.0968 0.1446 ... 0.2337 1.     0.1709]\n",
      " [0.1349 0.1321 0.1364 ... 0.2753 0.1709 1.    ]]\n",
      "(275, 275)\n"
     ]
    }
   ],
   "source": [
    "numpy_array = cosine_scores.numpy()\n",
    "\n",
    "# Reshape the NumPy array into a matrix\n",
    "similarity_Matrix= numpy_array.reshape(cosine_scores.shape)\n",
    "\n",
    "\n",
    "similarity_Matrix= np.round(similarity_Matrix, decimals=4)\n",
    "print(similarity_Matrix)\n",
    "print(similarity_Matrix.shape)\n"
   ]
  },
  {
   "cell_type": "code",
   "execution_count": 20,
   "id": "19275ff8",
   "metadata": {},
   "outputs": [
    {
     "data": {
      "image/png": "[encoded data removed]",
      "text/plain": [
       "<Figure size 800x600 with 2 Axes>"
      ]
     },
     "metadata": {},
     "output_type": "display_data"
    }
   ],
   "source": [
    "\n",
    "\n",
    "# Assuming your similarity matrix is named 'similarity_matrix'\n",
    "# Replace this with your actual similarity matrix\n",
    "\n",
    "# Plotting the heatmap\n",
    "plt.figure(figsize=(8, 6))\n",
    "plt.imshow(similarity_Matrix, cmap='BuPu', interpolation='nearest')\n",
    "plt.colorbar()  # Add color bar to show the scale\n",
    "plt.title('Bug Report Similarity Matrix')\n",
    "plt.xlabel('Bug Reports')\n",
    "plt.ylabel('Bug Reports')\n",
    "plt.show()"
   ]
  },
  {
   "cell_type": "markdown",
   "id": "63c1a363",
   "metadata": {},
   "source": [
    "# Matching df and matrix?"
   ]
  },
  {
   "cell_type": "code",
   "execution_count": 21,
   "id": "d8a57ba6-fe2d-4118-b570-a03c4dcb4285",
   "metadata": {},
   "outputs": [],
   "source": [
    "threshold_value = 0.\n",
    "#\"hyperparmeter\" kkinda except this isny machine learning "
   ]
  },
  {
   "cell_type": "code",
   "execution_count": 22,
   "id": "643037b4",
   "metadata": {},
   "outputs": [
    {
     "name": "stdout",
     "output_type": "stream",
     "text": [
      "\n",
      "Filtered Matrix:\n",
      "[[1.     0.9213 0.1975 ... 0.4375 0.0924 0.1349]\n",
      " [0.9213 1.     0.2574 ... 0.4001 0.0968 0.1321]\n",
      " [0.1975 0.2574 1.     ... 0.0065 0.1446 0.1364]\n",
      " ...\n",
      " [0.4375 0.4001 0.0065 ... 1.     0.2337 0.2753]\n",
      " [0.0924 0.0968 0.1446 ... 0.2337 1.     0.1709]\n",
      " [0.1349 0.1321 0.1364 ... 0.2753 0.1709 1.    ]]\n",
      "(275, 275)\n",
      "275\n"
     ]
    }
   ],
   "source": [
    "\n",
    "# Function to filter rows based on condition\n",
    "def filter_matrix(matrix, threshold):\n",
    "    filtered_matrix = []\n",
    "    for row in matrix:\n",
    "        if np.any((row > threshold) & (row < 1)): #<1 to igorne the sim. with itself \n",
    "            filtered_matrix.append(row)\n",
    "    return np.array(filtered_matrix)\n",
    "\n",
    "# Filtering the matrix\n",
    "filtered_matrix = filter_matrix(similarity_Matrix, threshold_value)\n",
    "\n",
    "print(\"\\nFiltered Matrix:\")\n",
    "print(filtered_matrix)\n",
    "print(filtered_matrix.shape)\n",
    "print(filtered_matrix.shape[0])#number of rows "
   ]
  },
  {
   "cell_type": "code",
   "execution_count": 23,
   "id": "a97b1907",
   "metadata": {},
   "outputs": [
    {
     "name": "stderr",
     "output_type": "stream",
     "text": [
      "/tmp/ipykernel_267430/3371150635.py:32: FutureWarning: ChainedAssignmentError: behaviour will change in pandas 3.0!\n",
      "You are setting values through chained assignment. Currently this works in certain cases, but when using Copy-on-Write (which will become the default behaviour in pandas 3.0) this will never work to update the original DataFrame or Series, because the intermediate object on which we are setting values will behave as a copy.\n",
      "A typical example is when you are setting values in a column of a DataFrame, like:\n",
      "\n",
      "df[\"col\"][row_indexer] = value\n",
      "\n",
      "Use `df.loc[row_indexer, \"col\"] = values` instead, to perform the assignment in a single step and ensure this keeps updating the original `df`.\n",
      "\n",
      "See the caveats in the documentation: https://pandas.pydata.org/pandas-docs/stable/user_guide/indexing.html#returning-a-view-versus-a-copy\n",
      "\n",
      "  topic_0_df['Experimental_Duplicate_ID'][index_in_df]=get_duplicate_ids(duplicateIDs_index_in_df)\n",
      "/tmp/ipykernel_267430/3371150635.py:32: SettingWithCopyWarning: \n",
      "A value is trying to be set on a copy of a slice from a DataFrame\n",
      "\n",
      "See the caveats in the documentation: https://pandas.pydata.org/pandas-docs/stable/user_guide/indexing.html#returning-a-view-versus-a-copy\n",
      "  topic_0_df['Experimental_Duplicate_ID'][index_in_df]=get_duplicate_ids(duplicateIDs_index_in_df)\n",
      "/tmp/ipykernel_267430/3371150635.py:32: FutureWarning: Setting an item of incompatible dtype is deprecated and will raise an error in a future version of pandas. Value ' 6137 7394 10114 14461 17390 18124 21177 23135 23646 24208 25628 26342 26541 26555 26563 27170 27176 27183 27243 27727 27813 27872 28234 30082 31570 31727 31878 32312 32821 33063 33068 33080 33086 33088 33100 33158 33162 33164 33166 33312 33313 33359 33365 34385 35019 35346 35801 36192 36386 36614 36924 37075 38307 39620 39834 40152 40385 41870 43362 44000 44174 44516 44660 46098 46156 46642 46722 47452 47538 48572 48588 48714 49533 50291 50698 53212 55556 56082 57953 59914 60340 60813 62311 64349 65905 68383 68384 68513 68657 69019 69490 69725 69726 69809 69892 70138 70139 70693 71997 72213 73100 74308 74883 74909 75469 75470 76394 76395 77174 77687 77744 77882 80216 81214 81221 81224 81226 81230 81235 81237 81240 81275 81279 83001 85069 85537 87988 88236 89405 89657 89999 91561 91665 93343 96652 97146 97490 98605 99187 99778 101748 101847 102830 105144 105913 106227 106229 106231 106232 106233 106330 106331 106619 107204 107832 109425 109439 110105 111305 112390 115083 116228 116237 116239 116245 116282 116283 116284 116286 119131 119944 124547 127561 127752 129215 130800 130999 132398 132427 132616 133670 134208 134406 135145 135146 135153 137246 139308 139309 141260 141261 146626 147294 147400 150728 153157 155679 156819 157572 157834 158467 159890 160824 162687 167625 169476 173573 176307 176501 176942 178343 178349 178359 178597 178626 178654 179115 179531 179587 179590 180178 181718 181719 181720 181724 182926 186629 189670 191516 192446 194302 194708 196686 198052 201568 202671 202735 203251 204626 206500 208571 209028 209473 210894 211131 211150 211205 211356 211361 211362 212636 213066 216287 216593 217735 217746 217758 217858 218212 219909 220534 220763 222895 223513 224619 224690 225263 227150 229240' has dtype incompatible with float64, please explicitly cast to a compatible dtype first.\n",
      "  topic_0_df['Experimental_Duplicate_ID'][index_in_df]=get_duplicate_ids(duplicateIDs_index_in_df)\n"
     ]
    },
    {
     "name": "stdout",
     "output_type": "stream",
     "text": [
      "0       6137 7394 10114 14461 17390 18124 21177 23135...\n",
      "1       6135 7394 10114 14461 17390 18124 21177 23135...\n",
      "2       6135 6137 10114 14461 16868 17390 18124 21177...\n",
      "3       6135 6137 7394 14461 17390 18124 21177 23135 ...\n",
      "4       6135 6137 7394 10114 16868 17390 18124 21177 ...\n",
      "                             ...                        \n",
      "270     6135 6137 7394 10114 14461 17390 18124 21177 ...\n",
      "271     6135 6137 7394 10114 14461 17390 21177 23135 ...\n",
      "272     6135 6137 7394 10114 14461 17390 18124 21177 ...\n",
      "273     6135 6137 7394 10114 14461 16868 17390 18124 ...\n",
      "274     6135 6137 7394 10114 14461 17390 18124 21177 ...\n",
      "Name: Experimental_Duplicate_ID, Length: 275, dtype: object\n"
     ]
    }
   ],
   "source": [
    "import numpy as np\n",
    "import pandas as pd\n",
    "\n",
    "n = 0\n",
    "topic_0_df['Experimental_Duplicate_ID'] = np.nan  #intailly sets everything to null\n",
    "while n < filtered_matrix.shape[0]:  # number of rows\n",
    "    matrix = filtered_matrix[n]\n",
    "\n",
    "    def find_position(matrix):  # finds position (index) of bug all other bugs are comparing to\n",
    "        result = np.where(matrix == 1.0)\n",
    "        return result[0][0]  # Extract the first index directly\n",
    "\n",
    "    def get_duplicate_ids_index(matrix):  # finds index where there are most similar bugs to the bug at find_position\n",
    "        condition = np.logical_and(matrix > threshold_value, matrix < 1)\n",
    "        indices = np.argwhere(condition)\n",
    "        return indices\n",
    "\n",
    "    def get_duplicate_ids(matrix_indexs_of_duplicates):\n",
    "        duplicate_ids = \"\"\n",
    "        for row in matrix_indexs_of_duplicates:\n",
    "            for element in row:\n",
    "                specific_row = topic_0_df.iloc[element]\n",
    "                duplicate_ids = duplicate_ids + \" \" + str(specific_row['Issue_id'])\n",
    "        return duplicate_ids\n",
    "\n",
    "    index_in_df = find_position(matrix)  # index of selected bug\n",
    "    specific_row = topic_0_df.iloc[index_in_df]  # selects bug row in dataframe\n",
    "\n",
    "    duplicateIDs_index_in_df = get_duplicate_ids_index(matrix)  # index of duplicate bugs\n",
    "    #print(int(index_in_df))\n",
    "    #print(get_duplicate_ids(duplicateIDs_index_in_df))\n",
    "    topic_0_df['Experimental_Duplicate_ID'][index_in_df]=get_duplicate_ids(duplicateIDs_index_in_df)\n",
    "    \n",
    "    # print(specific_row['Issue_id'])  # goes into row of selected bug and prints the bug id\n",
    "    # print(get_duplicate_ids(duplicateIDs_index_in_df))\n",
    "    #print(topic_0_df['Experimental_Duplicate_ID'][index_in_df])\n",
    "    #topic_0_df['Experimental_Duplicate_ID'][index_in_df]=get_duplicate_ids(duplicateIDs_index_in_df)\n",
    "    n += 1  # to go through each row in the matrix\n",
    "print(topic_0_df['Experimental_Duplicate_ID'])"
   ]
  },
  {
   "cell_type": "markdown",
   "id": "1f0c4c4e-11fc-4f5b-b2f3-d46f7ec870fb",
   "metadata": {},
   "source": [
    "## Results"
   ]
  },
  {
   "cell_type": "code",
   "execution_count": 24,
   "id": "5a5d24fa-0450-4208-ac9e-34d7fbae2cf2",
   "metadata": {},
   "outputs": [],
   "source": [
    "topic_0_df.fillna(0,inplace=True) #fills with zeros for new column "
   ]
  },
  {
   "cell_type": "code",
   "execution_count": 25,
   "id": "fddc097c-ad9f-49d3-9631-c2bc6fe90cba",
   "metadata": {},
   "outputs": [
    {
     "data": {
      "text/html": [
       "<div>\n",
       "<style scoped>\n",
       "    .dataframe tbody tr th:only-of-type {\n",
       "        vertical-align: middle;\n",
       "    }\n",
       "\n",
       "    .dataframe tbody tr th {\n",
       "        vertical-align: top;\n",
       "    }\n",
       "\n",
       "    .dataframe thead th {\n",
       "        text-align: right;\n",
       "    }\n",
       "</style>\n",
       "<table border=\"1\" class=\"dataframe\">\n",
       "  <thead>\n",
       "    <tr style=\"text-align: right;\">\n",
       "      <th></th>\n",
       "      <th>Issue_id</th>\n",
       "      <th>Priority</th>\n",
       "      <th>Component</th>\n",
       "      <th>Duplicated_issue</th>\n",
       "      <th>Title</th>\n",
       "      <th>Description</th>\n",
       "      <th>Status</th>\n",
       "      <th>Resolution</th>\n",
       "      <th>Version</th>\n",
       "      <th>Created_time</th>\n",
       "      <th>Resolved_time</th>\n",
       "      <th>isDuplicate</th>\n",
       "      <th>full_text_data</th>\n",
       "      <th>topic</th>\n",
       "      <th>embeddings</th>\n",
       "      <th>Experimental_Duplicate_ID</th>\n",
       "    </tr>\n",
       "  </thead>\n",
       "  <tbody>\n",
       "    <tr>\n",
       "      <th>0</th>\n",
       "      <td>6135</td>\n",
       "      <td>P2</td>\n",
       "      <td>UI</td>\n",
       "      <td>0.0</td>\n",
       "      <td>NLS WSDD problems in IDE and VM - Japanese pro...</td>\n",
       "      <td>Eclipse cannot display Japanese letters in the...</td>\n",
       "      <td>CLOSED</td>\n",
       "      <td>FIXED</td>\n",
       "      <td>1.0</td>\n",
       "      <td>2001-11-20 17:49:00 -0500</td>\n",
       "      <td>2005-05-10 14:56:02 -0400</td>\n",
       "      <td>0</td>\n",
       "      <td>Eclipse cannot display Japanese letters in the...</td>\n",
       "      <td>0</td>\n",
       "      <td>[tensor(-0.1554), tensor(-0.5071), tensor(-0.0...</td>\n",
       "      <td>6137 7394 10114 14461 17390 18124 21177 23135...</td>\n",
       "    </tr>\n",
       "    <tr>\n",
       "      <th>1</th>\n",
       "      <td>6137</td>\n",
       "      <td>P2</td>\n",
       "      <td>UI</td>\n",
       "      <td>0.0</td>\n",
       "      <td>NLS WSDD problems in IDE and VM - ASCII project</td>\n",
       "      <td>Please see the following test result of NLSed ...</td>\n",
       "      <td>CLOSED</td>\n",
       "      <td>FIXED</td>\n",
       "      <td>1.0</td>\n",
       "      <td>2001-11-20 17:54:00 -0500</td>\n",
       "      <td>2005-05-10 14:56:28 -0400</td>\n",
       "      <td>0</td>\n",
       "      <td>Please see the following test result of NLSed ...</td>\n",
       "      <td>0</td>\n",
       "      <td>[tensor(-0.1815), tensor(-0.4352), tensor(-0.1...</td>\n",
       "      <td>6135 7394 10114 14461 17390 18124 21177 23135...</td>\n",
       "    </tr>\n",
       "    <tr>\n",
       "      <th>2</th>\n",
       "      <td>7394</td>\n",
       "      <td>P3</td>\n",
       "      <td>UI</td>\n",
       "      <td>0.0</td>\n",
       "      <td>Test</td>\n",
       "      <td>This is a test PR</td>\n",
       "      <td>RESOLVED</td>\n",
       "      <td>INVALID</td>\n",
       "      <td>1.0</td>\n",
       "      <td>2002-01-09 13:47:00 -0500</td>\n",
       "      <td>2002-01-21 21:29:19 -0500</td>\n",
       "      <td>0</td>\n",
       "      <td>This is a test PRTest</td>\n",
       "      <td>0</td>\n",
       "      <td>[tensor(-0.2421), tensor(0.1078), tensor(-0.14...</td>\n",
       "      <td>6135 6137 10114 14461 16868 17390 18124 21177...</td>\n",
       "    </tr>\n",
       "    <tr>\n",
       "      <th>3</th>\n",
       "      <td>10114</td>\n",
       "      <td>P3</td>\n",
       "      <td>Releng</td>\n",
       "      <td>0.0</td>\n",
       "      <td>NL: WSWB rollup 2 - Japanese translations have...</td>\n",
       "      <td>The following entries in the org.eclipse.jface...</td>\n",
       "      <td>CLOSED</td>\n",
       "      <td>FIXED</td>\n",
       "      <td>2.0</td>\n",
       "      <td>2002-02-22 14:45:00 -0500</td>\n",
       "      <td>2002-11-21 14:23:47 -0500</td>\n",
       "      <td>0</td>\n",
       "      <td>The following entries in the org.eclipse.jface...</td>\n",
       "      <td>0</td>\n",
       "      <td>[tensor(-0.2245), tensor(0.0546), tensor(-0.16...</td>\n",
       "      <td>6135 6137 7394 14461 17390 18124 21177 23135 ...</td>\n",
       "    </tr>\n",
       "    <tr>\n",
       "      <th>4</th>\n",
       "      <td>14461</td>\n",
       "      <td>P3</td>\n",
       "      <td>Team</td>\n",
       "      <td>0.0</td>\n",
       "      <td>Dav: No senders of ResourceState:storeState()</td>\n",
       "      <td>There are no senders of ResourceState:storeSta...</td>\n",
       "      <td>RESOLVED</td>\n",
       "      <td>FIXED</td>\n",
       "      <td>2.0</td>\n",
       "      <td>2002-04-23 18:14:00 -0400</td>\n",
       "      <td>2002-05-23 21:21:02 -0400</td>\n",
       "      <td>0</td>\n",
       "      <td>There are no senders of ResourceState:storeSta...</td>\n",
       "      <td>0</td>\n",
       "      <td>[tensor(-0.1081), tensor(-0.3207), tensor(-0.0...</td>\n",
       "      <td>6135 6137 7394 10114 16868 17390 18124 21177 ...</td>\n",
       "    </tr>\n",
       "  </tbody>\n",
       "</table>\n",
       "</div>"
      ],
      "text/plain": [
       "   Issue_id Priority Component  Duplicated_issue  \\\n",
       "0      6135       P2        UI               0.0   \n",
       "1      6137       P2        UI               0.0   \n",
       "2      7394       P3        UI               0.0   \n",
       "3     10114       P3    Releng               0.0   \n",
       "4     14461       P3      Team               0.0   \n",
       "\n",
       "                                               Title  \\\n",
       "0  NLS WSDD problems in IDE and VM - Japanese pro...   \n",
       "1    NLS WSDD problems in IDE and VM - ASCII project   \n",
       "2                                               Test   \n",
       "3  NL: WSWB rollup 2 - Japanese translations have...   \n",
       "4      Dav: No senders of ResourceState:storeState()   \n",
       "\n",
       "                                         Description    Status Resolution  \\\n",
       "0  Eclipse cannot display Japanese letters in the...    CLOSED      FIXED   \n",
       "1  Please see the following test result of NLSed ...    CLOSED      FIXED   \n",
       "2                                  This is a test PR  RESOLVED    INVALID   \n",
       "3  The following entries in the org.eclipse.jface...    CLOSED      FIXED   \n",
       "4  There are no senders of ResourceState:storeSta...  RESOLVED      FIXED   \n",
       "\n",
       "  Version               Created_time              Resolved_time  isDuplicate  \\\n",
       "0     1.0  2001-11-20 17:49:00 -0500  2005-05-10 14:56:02 -0400            0   \n",
       "1     1.0  2001-11-20 17:54:00 -0500  2005-05-10 14:56:28 -0400            0   \n",
       "2     1.0  2002-01-09 13:47:00 -0500  2002-01-21 21:29:19 -0500            0   \n",
       "3     2.0  2002-02-22 14:45:00 -0500  2002-11-21 14:23:47 -0500            0   \n",
       "4     2.0  2002-04-23 18:14:00 -0400  2002-05-23 21:21:02 -0400            0   \n",
       "\n",
       "                                      full_text_data  topic  \\\n",
       "0  Eclipse cannot display Japanese letters in the...      0   \n",
       "1  Please see the following test result of NLSed ...      0   \n",
       "2                              This is a test PRTest      0   \n",
       "3  The following entries in the org.eclipse.jface...      0   \n",
       "4  There are no senders of ResourceState:storeSta...      0   \n",
       "\n",
       "                                          embeddings  \\\n",
       "0  [tensor(-0.1554), tensor(-0.5071), tensor(-0.0...   \n",
       "1  [tensor(-0.1815), tensor(-0.4352), tensor(-0.1...   \n",
       "2  [tensor(-0.2421), tensor(0.1078), tensor(-0.14...   \n",
       "3  [tensor(-0.2245), tensor(0.0546), tensor(-0.16...   \n",
       "4  [tensor(-0.1081), tensor(-0.3207), tensor(-0.0...   \n",
       "\n",
       "                           Experimental_Duplicate_ID  \n",
       "0   6137 7394 10114 14461 17390 18124 21177 23135...  \n",
       "1   6135 7394 10114 14461 17390 18124 21177 23135...  \n",
       "2   6135 6137 10114 14461 16868 17390 18124 21177...  \n",
       "3   6135 6137 7394 14461 17390 18124 21177 23135 ...  \n",
       "4   6135 6137 7394 10114 16868 17390 18124 21177 ...  "
      ]
     },
     "execution_count": 25,
     "metadata": {},
     "output_type": "execute_result"
    }
   ],
   "source": [
    "topic_0_df.head()"
   ]
  },
  {
   "cell_type": "code",
   "execution_count": 26,
   "id": "9f236061-8d02-43b0-a940-b15b53c73ce4",
   "metadata": {},
   "outputs": [
    {
     "data": {
      "text/plain": [
       "0       6137 7394 10114 14461 17390 18124 21177 23135...\n",
       "1       6135 7394 10114 14461 17390 18124 21177 23135...\n",
       "2       6135 6137 10114 14461 16868 17390 18124 21177...\n",
       "3       6135 6137 7394 14461 17390 18124 21177 23135 ...\n",
       "4       6135 6137 7394 10114 16868 17390 18124 21177 ...\n",
       "                             ...                        \n",
       "270     6135 6137 7394 10114 14461 17390 18124 21177 ...\n",
       "271     6135 6137 7394 10114 14461 17390 21177 23135 ...\n",
       "272     6135 6137 7394 10114 14461 17390 18124 21177 ...\n",
       "273     6135 6137 7394 10114 14461 16868 17390 18124 ...\n",
       "274     6135 6137 7394 10114 14461 17390 18124 21177 ...\n",
       "Name: Experimental_Duplicate_ID, Length: 275, dtype: object"
      ]
     },
     "execution_count": 26,
     "metadata": {},
     "output_type": "execute_result"
    }
   ],
   "source": [
    "topic_0_df['Experimental_Duplicate_ID']"
   ]
  },
  {
   "cell_type": "code",
   "execution_count": 27,
   "id": "dbe02413-bc96-43bc-b503-025311f657d8",
   "metadata": {},
   "outputs": [
    {
     "data": {
      "text/plain": [
       "0           0.0\n",
       "1           0.0\n",
       "2           0.0\n",
       "3           0.0\n",
       "4           0.0\n",
       "         ...   \n",
       "270    252609.0\n",
       "271         0.0\n",
       "272         0.0\n",
       "273         0.0\n",
       "274         0.0\n",
       "Name: Duplicated_issue, Length: 275, dtype: float64"
      ]
     },
     "execution_count": 27,
     "metadata": {},
     "output_type": "execute_result"
    }
   ],
   "source": [
    "topic_0_df['Duplicated_issue']"
   ]
  },
  {
   "cell_type": "code",
   "execution_count": null,
   "id": "c202ec2c-7fa4-4d1b-a0b5-9cd8661d150d",
   "metadata": {},
   "outputs": [],
   "source": []
  },
  {
   "cell_type": "code",
   "execution_count": 28,
   "id": "f63b1b33-82cc-483c-a1e4-7050fbf51a07",
   "metadata": {},
   "outputs": [
    {
     "name": "stdout",
     "output_type": "stream",
     "text": [
      "0      [6137.0, 7394.0, 10114.0, 14461.0, 17390.0, 18...\n",
      "1      [6135.0, 7394.0, 10114.0, 14461.0, 17390.0, 18...\n",
      "2      [6135.0, 6137.0, 10114.0, 14461.0, 16868.0, 17...\n",
      "3      [6135.0, 6137.0, 7394.0, 14461.0, 17390.0, 181...\n",
      "4      [6135.0, 6137.0, 7394.0, 10114.0, 16868.0, 173...\n",
      "                             ...                        \n",
      "270    [6135.0, 6137.0, 7394.0, 10114.0, 14461.0, 173...\n",
      "271    [6135.0, 6137.0, 7394.0, 10114.0, 14461.0, 173...\n",
      "272    [6135.0, 6137.0, 7394.0, 10114.0, 14461.0, 173...\n",
      "273    [6135.0, 6137.0, 7394.0, 10114.0, 14461.0, 168...\n",
      "274    [6135.0, 6137.0, 7394.0, 10114.0, 14461.0, 173...\n",
      "Name: Experimental_Duplicate_ID, Length: 275, dtype: object\n",
      "0           [0.0]\n",
      "1           [0.0]\n",
      "2           [0.0]\n",
      "3           [0.0]\n",
      "4           [0.0]\n",
      "          ...    \n",
      "270    [252609.0]\n",
      "271         [0.0]\n",
      "272         [0.0]\n",
      "273         [0.0]\n",
      "274         [0.0]\n",
      "Name: Duplicated_issue, Length: 275, dtype: object\n",
      "0      False\n",
      "1      False\n",
      "2      False\n",
      "3      False\n",
      "4      False\n",
      "       ...  \n",
      "270    False\n",
      "271    False\n",
      "272    False\n",
      "273    False\n",
      "274    False\n",
      "Length: 275, dtype: bool\n",
      "22\n"
     ]
    }
   ],
   "source": [
    "# Split the IDs by spaces and strip whitespace\n",
    "exp_ids = topic_0_df['Experimental_Duplicate_ID'].astype(str).str.split().apply(lambda x: [i.strip() for i in x])\n",
    "dup_ids = topic_0_df['Duplicated_issue'].astype(str).str.split().apply(lambda x: [i.strip() for i in x])\n",
    "\n",
    "# Convert all elements to strings to ensure consistent comparison\n",
    "exp_ids = exp_ids.apply(lambda x: [float(i) for i in x])\n",
    "dup_ids = dup_ids.apply(lambda x: [float(i) for i in x])\n",
    "print(exp_ids)\n",
    "print(dup_ids)\n",
    "# Check for any matches for each row\n",
    "matches = exp_ids.combine(dup_ids, lambda exp_list, dup_list: any(dup_id in exp_list for dup_id in dup_list))\n",
    "\n",
    "# Print the matches\n",
    "print(matches)\n",
    "\n",
    "# Count the number of matches\n",
    "num_matches = matches.sum()\n",
    "print(num_matches)\n",
    "\n"
   ]
  },
  {
   "cell_type": "code",
   "execution_count": 29,
   "id": "fd811676-3002-4f98-b6a0-c7ba50a4f5a8",
   "metadata": {},
   "outputs": [
    {
     "name": "stdout",
     "output_type": "stream",
     "text": [
      "Accuracy: %8.0\n"
     ]
    }
   ],
   "source": [
    "accuracy=num_matches/len(topic_0_df)\n",
    "print(\"Accuracy: %\"+str((accuracy*100))) \n"
   ]
  },
  {
   "cell_type": "code",
   "execution_count": 30,
   "id": "dabb7b02-120d-4e99-8334-af898cb13a6a",
   "metadata": {},
   "outputs": [
    {
     "name": "stdout",
     "output_type": "stream",
     "text": [
      "Precision value (percentage):% 3\n"
     ]
    }
   ],
   "source": [
    "\n",
    "\n",
    "\n",
    "# Check for identical values\n",
    "identical_values = topic_0_df[topic_0_df['Experimental_Duplicate_ID'] == topic_0_df['Duplicated_issue']]\n",
    "\n",
    "# Check for different values\n",
    "different_values = topic_0_df[topic_0_df['Experimental_Duplicate_ID'] != topic_0_df['Duplicated_issue']]\n",
    "\n",
    "# Check for missing values\n",
    "missing_values_exp = topic_0_df[topic_0_df['Experimental_Duplicate_ID'].isnull()]\n",
    "missing_values_issue = topic_0_df[topic_0_df['Duplicated_issue'].isnull()]\n",
    "\n",
    "# Assuming you have true positive (TP) and false positive (FP) counts\n",
    "TP = len(identical_values)  # True positives (Experimental_Duplicate_ID matches Duplicated_issue)\n",
    "FP = len(different_values)  # False positives (Experimental_Duplicate_ID does not match Duplicated_issue)\n",
    "\n",
    "# Calculate precision\n",
    "precision = TP / (TP + FP)\n",
    "\n",
    "print(\"Precision value (percentage):%\", str(round((100*precision))))\n",
    "#again for very small scale "
   ]
  },
  {
   "cell_type": "code",
   "execution_count": 31,
   "id": "a4aba987-6631-40fb-baba-16ea51a30bb1",
   "metadata": {},
   "outputs": [
    {
     "name": "stdout",
     "output_type": "stream",
     "text": [
      "Recall value: 1.0\n"
     ]
    }
   ],
   "source": [
    "# Assuming you have true positive (TP) and false negative (FN) counts\n",
    "FN = len(missing_values_exp)  # False negatives (Experimental_Duplicate_ID missing but Duplicated_issue present)\n",
    "\n",
    "# Calculate recall\n",
    "recall = TP / (TP + FN)\n",
    "\n",
    "print(\"Recall value:\", recall)\n"
   ]
  },
  {
   "cell_type": "code",
   "execution_count": 32,
   "id": "a55ce4f4-2557-46c7-9e45-8e8870551871",
   "metadata": {},
   "outputs": [
    {
     "name": "stdout",
     "output_type": "stream",
     "text": [
      "F1 score: 0.06338028169014084\n"
     ]
    }
   ],
   "source": [
    "# Calculate F1 score\n",
    "f1_score = 2 * (precision * recall) / (precision + recall)\n",
    "\n",
    "print(\"F1 score:\", (f1_score))\n"
   ]
  },
  {
   "cell_type": "markdown",
   "id": "d8e40cdc-b75e-4b4b-8a0e-dcd7e939b011",
   "metadata": {},
   "source": [
    "# Creating functions to test with different parameters"
   ]
  },
  {
   "cell_type": "code",
   "execution_count": 33,
   "id": "00e0f612-e2bf-4027-a42e-ec35d990304c",
   "metadata": {},
   "outputs": [],
   "source": [
    "def getDuplicateBugIDS(threshold_value,topic_x_df): \n",
    "    import torch\n",
    "    model = SentenceTransformer('paraphrase-MiniLM-L6-v2')\n",
    "    # Encode sentences and store the embeddings in the DataFrame\n",
    "    topic_x_df['embeddings'] = topic_x_df['full_text_data'].apply(lambda x: model.encode(x, convert_to_tensor=True))\n",
    "    # Convert embeddings to a tensor\n",
    "    embeddings = torch.stack(topic_x_df['embeddings'].tolist())\n",
    "    # Calculate cosine similarity\n",
    "    cosine_scores = util.pytorch_cos_sim(embeddings, embeddings)\n",
    "    numpy_array = cosine_scores.numpy()\n",
    "    # Reshape the NumPy array into a matrix\n",
    "    similarity_Matrix= numpy_array.reshape(cosine_scores.shape)\n",
    "    similarity_Matrix= np.round(similarity_Matrix, decimals=4)\n",
    "    # Function to filter rows based on condition\n",
    "    def filter_matrix(matrix, threshold):\n",
    "        filtered_matrix = []\n",
    "        for row in matrix:\n",
    "            if np.any((row > threshold) & (row < 1)): #<1 to igorne the sim. with itself \n",
    "                filtered_matrix.append(row)\n",
    "        return np.array(filtered_matrix)\n",
    "    # Filtering the matrix\n",
    "    filtered_matrix = filter_matrix(similarity_Matrix, threshold_value)\n",
    "    n = 0\n",
    "    topic_x_df['Experimental_Duplicate_ID'] = np.nan  #intailly sets everything to null\n",
    "    while n < filtered_matrix.shape[0]:  # number of rows do this process to each row \n",
    "        matrix = filtered_matrix[n]\n",
    "        def find_position(matrix):  # finds position (index) of bug all other bugs are comparing to\n",
    "            result = np.where(matrix == 1.0)\n",
    "            return result[0][0]  # Extract the first index directly\n",
    "    \n",
    "        def get_duplicate_ids_index(matrix):  # finds index where there are most similar bugs to the bug at find_position\n",
    "            condition = np.logical_and(matrix > threshold_value, matrix < 1)\n",
    "            indices = np.argwhere(condition)\n",
    "            return indices\n",
    "        def get_duplicate_ids(matrix_indexs_of_duplicates):\n",
    "            duplicate_ids = \"\"\n",
    "            for row in matrix_indexs_of_duplicates:\n",
    "                for element in row:\n",
    "                    specific_row = topic_x_df.iloc[element]\n",
    "                    duplicate_ids = duplicate_ids + \" \" + str(specific_row['Issue_id'])\n",
    "            return duplicate_ids\n",
    "        index_in_df = find_position(matrix)  # index of selected bug\n",
    "        specific_row = topic_x_df.iloc[index_in_df]  # selects bug row in dataframe\n",
    "        duplicateIDs_index_in_df = get_duplicate_ids_index(matrix)  # index of duplicate bugs\n",
    "        topic_x_df['Experimental_Duplicate_ID'][index_in_df]=get_duplicate_ids(duplicateIDs_index_in_df)\n",
    "        n += 1  # to go through each row in the matrix\n",
    "    return topic_x_df['Experimental_Duplicate_ID']"
   ]
  },
  {
   "cell_type": "code",
   "execution_count": 47,
   "id": "aa7dd017-6c6b-4972-9f74-6fd172583291",
   "metadata": {},
   "outputs": [],
   "source": [
    "def accuracy(topic_x_df):\n",
    "       # Split the IDs by spaces and strip whitespace\n",
    "    topic_x_df.fillna(0,inplace=True) #fills with zeros for new column \n",
    "    exp_ids = topic_x_df['Experimental_Duplicate_ID'].astype(str).str.split().apply(lambda x: [i.strip() for i in x])\n",
    "    dup_ids = topic_x_df['Duplicated_issue'].astype(str).str.split().apply(lambda x: [i.strip() for i in x])\n",
    "    \n",
    "    # Convert all elements to strings to ensure consistent comparison\n",
    "    exp_ids = exp_ids.apply(lambda x: [float(i) for i in x])\n",
    "    dup_ids = dup_ids.apply(lambda x: [float(i) for i in x])\n",
    "    # Check for any matches for each row\n",
    "    matches = exp_ids.combine(dup_ids, lambda exp_list, dup_list: any(dup_id in exp_list for dup_id in dup_list))\n",
    "    \n",
    "    # Count the number of matches\n",
    "    num_matches = matches.sum()\n",
    "    accuracy=num_matches/len(topic_x_df)\n",
    "    return accuracy"
   ]
  },
  {
   "cell_type": "code",
   "execution_count": 35,
   "id": "e2a22c9c-105d-4e9a-a78b-c164cebbd531",
   "metadata": {},
   "outputs": [],
   "source": [
    "def precison(topic_x_df):\n",
    "    topic_x_df.fillna(0,inplace=True) #fills with zeros for new column\n",
    "    from sklearn.metrics import precision_score\n",
    "\n",
    "    actual_values = float(topic_x_df['Duplicated_issue'])\n",
    "    predicted_values = float(topic_x_df['Experimental_Duplicate_ID'])\n",
    "    precision = precision_score(actual_values, predicted_values)\n",
    "    return precision"
   ]
  },
  {
   "cell_type": "code",
   "execution_count": 36,
   "id": "d5d100d9-8ced-4f92-b55c-a9d7cbcbe758",
   "metadata": {},
   "outputs": [],
   "source": [
    "def recall(topic_x_df):\n",
    "    from sklearn.metrics import recall_score\n",
    "    \n",
    "    # Assuming df is your dataframe\n",
    "    \n",
    "    actual_values = float(topic_x_df['Duplicated_issue'])\n",
    "    predicted_values = float(topic_x_df['Experimental_Duplicate_ID'])\n",
    "    # Calculate recall for Experimental_Duplicate_ID column\n",
    "    recall= recall_score(actual_values, predicted_values)\n",
    "    return  recall\n"
   ]
  },
  {
   "cell_type": "code",
   "execution_count": 37,
   "id": "acaa2620-383b-4c2c-9335-bbd3d1d6187e",
   "metadata": {},
   "outputs": [],
   "source": [
    "def f1(topic_x_df):\n",
    "    from sklearn.metrics import f1_score\n",
    "    actual_values = float(topic_x_df['Duplicated_issue'])\n",
    "    predicted_values = float(topic_x_df['Experimental_Duplicate_ID'])\n",
    "    f1 = f1_score(actual_values, predicted_values)\n",
    "    return f1"
   ]
  },
  {
   "cell_type": "code",
   "execution_count": 48,
   "id": "b7e4c242-2af3-4540-a12f-1947ec278264",
   "metadata": {},
   "outputs": [],
   "source": [
    "def experimentalisDuplicate(topic_x_df): #creates column for binary isDuplciates\n",
    "    def is_duplicate(val):\n",
    "        return 1 if val !=(0.0 or 0) else 0\n",
    "    topic_x_df['isExperimentalDuplicate'] = topic_x_df['Experimental_Duplicate_ID'].apply(lambda x: is_duplicate(x))\n",
    "    return topic_x_df['isExperimentalDuplicate']"
   ]
  },
  {
   "cell_type": "code",
   "execution_count": 49,
   "id": "7bfb1ee5-f807-402b-8b86-aa8ba7e92f4e",
   "metadata": {},
   "outputs": [],
   "source": [
    "def binaryAccuracy(topic_x_df): #see if the ones and zeros match, different from other acuracy becuase that one can have only one element mathc and it count ex bug 1 has ids 1234 and 8472 it should still count as a duplciate to bug 2 with 1234 0889 \n",
    "    matches=topic_x_df['isExperimentalDuplicate']==topic_x_df['isDuplicate']\n",
    "    num_matches=matches.sum()\n",
    "    accuracy=num_matches/len(topic_x_df['isExperimentalDuplicate'])\n",
    "    return accuracy"
   ]
  },
  {
   "cell_type": "code",
   "execution_count": 50,
   "id": "025ab80b-678b-43e6-81d6-4a243c502c4a",
   "metadata": {
    "scrolled": true
   },
   "outputs": [
    {
     "name": "stdout",
     "output_type": "stream",
     "text": [
      "69.0909090909091\n"
     ]
    },
    {
     "name": "stderr",
     "output_type": "stream",
     "text": [
      "/tmp/ipykernel_267430/2579120456.py:45: FutureWarning: ChainedAssignmentError: behaviour will change in pandas 3.0!\n",
      "You are setting values through chained assignment. Currently this works in certain cases, but when using Copy-on-Write (which will become the default behaviour in pandas 3.0) this will never work to update the original DataFrame or Series, because the intermediate object on which we are setting values will behave as a copy.\n",
      "A typical example is when you are setting values in a column of a DataFrame, like:\n",
      "\n",
      "df[\"col\"][row_indexer] = value\n",
      "\n",
      "Use `df.loc[row_indexer, \"col\"] = values` instead, to perform the assignment in a single step and ensure this keeps updating the original `df`.\n",
      "\n",
      "See the caveats in the documentation: https://pandas.pydata.org/pandas-docs/stable/user_guide/indexing.html#returning-a-view-versus-a-copy\n",
      "\n",
      "  topic_x_df['Experimental_Duplicate_ID'][index_in_df]=get_duplicate_ids(duplicateIDs_index_in_df)\n",
      "/tmp/ipykernel_267430/2579120456.py:45: SettingWithCopyWarning: \n",
      "A value is trying to be set on a copy of a slice from a DataFrame\n",
      "\n",
      "See the caveats in the documentation: https://pandas.pydata.org/pandas-docs/stable/user_guide/indexing.html#returning-a-view-versus-a-copy\n",
      "  topic_x_df['Experimental_Duplicate_ID'][index_in_df]=get_duplicate_ids(duplicateIDs_index_in_df)\n",
      "/tmp/ipykernel_267430/2579120456.py:45: FutureWarning: Setting an item of incompatible dtype is deprecated and will raise an error in a future version of pandas. Value ' 6137' has dtype incompatible with float64, please explicitly cast to a compatible dtype first.\n",
      "  topic_x_df['Experimental_Duplicate_ID'][index_in_df]=get_duplicate_ids(duplicateIDs_index_in_df)\n"
     ]
    },
    {
     "data": {
      "text/plain": [
       "70.18181818181817"
      ]
     },
     "execution_count": 50,
     "metadata": {},
     "output_type": "execute_result"
    }
   ],
   "source": [
    "topic_0_df['Experimental_Duplicate_ID']=getDuplicateBugIDS(.85,topic_0_df)\n",
    "print(accuracy(topic_0_df)*100)\n",
    "experimentalisDuplicate(topic_0_df)\n",
    "binaryAccuracy(topic_0_df)*100"
   ]
  },
  {
   "cell_type": "code",
   "execution_count": 51,
   "id": "83b387fb-2732-4508-9621-a12ac272a257",
   "metadata": {
    "scrolled": true
   },
   "outputs": [
    {
     "name": "stderr",
     "output_type": "stream",
     "text": [
      "/home/claney/anaconda3/envs/reu/lib/python3.11/site-packages/huggingface_hub/file_download.py:1132: FutureWarning: `resume_download` is deprecated and will be removed in version 1.0.0. Downloads always resume when possible. If you want to force a new download, use `force_download=True`.\n",
      "  warnings.warn(\n",
      "/tmp/ipykernel_267430/2579120456.py:45: FutureWarning: ChainedAssignmentError: behaviour will change in pandas 3.0!\n",
      "You are setting values through chained assignment. Currently this works in certain cases, but when using Copy-on-Write (which will become the default behaviour in pandas 3.0) this will never work to update the original DataFrame or Series, because the intermediate object on which we are setting values will behave as a copy.\n",
      "A typical example is when you are setting values in a column of a DataFrame, like:\n",
      "\n",
      "df[\"col\"][row_indexer] = value\n",
      "\n",
      "Use `df.loc[row_indexer, \"col\"] = values` instead, to perform the assignment in a single step and ensure this keeps updating the original `df`.\n",
      "\n",
      "See the caveats in the documentation: https://pandas.pydata.org/pandas-docs/stable/user_guide/indexing.html#returning-a-view-versus-a-copy\n",
      "\n",
      "  topic_x_df['Experimental_Duplicate_ID'][index_in_df]=get_duplicate_ids(duplicateIDs_index_in_df)\n",
      "/tmp/ipykernel_267430/2579120456.py:45: SettingWithCopyWarning: \n",
      "A value is trying to be set on a copy of a slice from a DataFrame\n",
      "\n",
      "See the caveats in the documentation: https://pandas.pydata.org/pandas-docs/stable/user_guide/indexing.html#returning-a-view-versus-a-copy\n",
      "  topic_x_df['Experimental_Duplicate_ID'][index_in_df]=get_duplicate_ids(duplicateIDs_index_in_df)\n",
      "/tmp/ipykernel_267430/2579120456.py:45: FutureWarning: Setting an item of incompatible dtype is deprecated and will raise an error in a future version of pandas. Value ' 1793 2697 2698 2700 4780 4782 4784 4883' has dtype incompatible with float64, please explicitly cast to a compatible dtype first.\n",
      "  topic_x_df['Experimental_Duplicate_ID'][index_in_df]=get_duplicate_ids(duplicateIDs_index_in_df)\n"
     ]
    },
    {
     "data": {
      "text/plain": [
       "76.50805545147995"
      ]
     },
     "execution_count": 51,
     "metadata": {},
     "output_type": "execute_result"
    }
   ],
   "source": [
    "topic_1_df['Experimental_Duplicate_ID']=getDuplicateBugIDS(.85,topic_1_df)\n",
    "accuracy(topic_1_df)*100\n",
    "experimentalisDuplicate(topic_1_df)\n",
    "binaryAccuracy(topic_1_df)*100"
   ]
  },
  {
   "cell_type": "code",
   "execution_count": 52,
   "id": "d442e0b0-924f-42a0-9465-ae38d33c2617",
   "metadata": {
    "scrolled": true
   },
   "outputs": [
    {
     "name": "stderr",
     "output_type": "stream",
     "text": [
      "/home/claney/anaconda3/envs/reu/lib/python3.11/site-packages/huggingface_hub/file_download.py:1132: FutureWarning: `resume_download` is deprecated and will be removed in version 1.0.0. Downloads always resume when possible. If you want to force a new download, use `force_download=True`.\n",
      "  warnings.warn(\n",
      "/tmp/ipykernel_267430/2579120456.py:45: FutureWarning: ChainedAssignmentError: behaviour will change in pandas 3.0!\n",
      "You are setting values through chained assignment. Currently this works in certain cases, but when using Copy-on-Write (which will become the default behaviour in pandas 3.0) this will never work to update the original DataFrame or Series, because the intermediate object on which we are setting values will behave as a copy.\n",
      "A typical example is when you are setting values in a column of a DataFrame, like:\n",
      "\n",
      "df[\"col\"][row_indexer] = value\n",
      "\n",
      "Use `df.loc[row_indexer, \"col\"] = values` instead, to perform the assignment in a single step and ensure this keeps updating the original `df`.\n",
      "\n",
      "See the caveats in the documentation: https://pandas.pydata.org/pandas-docs/stable/user_guide/indexing.html#returning-a-view-versus-a-copy\n",
      "\n",
      "  topic_x_df['Experimental_Duplicate_ID'][index_in_df]=get_duplicate_ids(duplicateIDs_index_in_df)\n",
      "/tmp/ipykernel_267430/2579120456.py:45: SettingWithCopyWarning: \n",
      "A value is trying to be set on a copy of a slice from a DataFrame\n",
      "\n",
      "See the caveats in the documentation: https://pandas.pydata.org/pandas-docs/stable/user_guide/indexing.html#returning-a-view-versus-a-copy\n",
      "  topic_x_df['Experimental_Duplicate_ID'][index_in_df]=get_duplicate_ids(duplicateIDs_index_in_df)\n",
      "/tmp/ipykernel_267430/2579120456.py:45: FutureWarning: Setting an item of incompatible dtype is deprecated and will raise an error in a future version of pandas. Value ' 24330 107930' has dtype incompatible with float64, please explicitly cast to a compatible dtype first.\n",
      "  topic_x_df['Experimental_Duplicate_ID'][index_in_df]=get_duplicate_ids(duplicateIDs_index_in_df)\n"
     ]
    },
    {
     "data": {
      "text/plain": [
       "84.38070880526124"
      ]
     },
     "execution_count": 52,
     "metadata": {},
     "output_type": "execute_result"
    }
   ],
   "source": [
    "topic_2_df['Experimental_Duplicate_ID']=getDuplicateBugIDS(.85,topic_2_df)\n",
    "accuracy(topic_2_df)*100\n",
    "experimentalisDuplicate(topic_2_df)\n",
    "binaryAccuracy(topic_2_df)*100"
   ]
  },
  {
   "cell_type": "code",
   "execution_count": 53,
   "id": "025cca73-455a-4c4c-b315-f1729c0b100f",
   "metadata": {
    "scrolled": true
   },
   "outputs": [
    {
     "name": "stderr",
     "output_type": "stream",
     "text": [
      "/home/claney/anaconda3/envs/reu/lib/python3.11/site-packages/huggingface_hub/file_download.py:1132: FutureWarning: `resume_download` is deprecated and will be removed in version 1.0.0. Downloads always resume when possible. If you want to force a new download, use `force_download=True`.\n",
      "  warnings.warn(\n",
      "/tmp/ipykernel_267430/2579120456.py:45: FutureWarning: ChainedAssignmentError: behaviour will change in pandas 3.0!\n",
      "You are setting values through chained assignment. Currently this works in certain cases, but when using Copy-on-Write (which will become the default behaviour in pandas 3.0) this will never work to update the original DataFrame or Series, because the intermediate object on which we are setting values will behave as a copy.\n",
      "A typical example is when you are setting values in a column of a DataFrame, like:\n",
      "\n",
      "df[\"col\"][row_indexer] = value\n",
      "\n",
      "Use `df.loc[row_indexer, \"col\"] = values` instead, to perform the assignment in a single step and ensure this keeps updating the original `df`.\n",
      "\n",
      "See the caveats in the documentation: https://pandas.pydata.org/pandas-docs/stable/user_guide/indexing.html#returning-a-view-versus-a-copy\n",
      "\n",
      "  topic_x_df['Experimental_Duplicate_ID'][index_in_df]=get_duplicate_ids(duplicateIDs_index_in_df)\n",
      "/tmp/ipykernel_267430/2579120456.py:45: SettingWithCopyWarning: \n",
      "A value is trying to be set on a copy of a slice from a DataFrame\n",
      "\n",
      "See the caveats in the documentation: https://pandas.pydata.org/pandas-docs/stable/user_guide/indexing.html#returning-a-view-versus-a-copy\n",
      "  topic_x_df['Experimental_Duplicate_ID'][index_in_df]=get_duplicate_ids(duplicateIDs_index_in_df)\n",
      "/tmp/ipykernel_267430/2579120456.py:45: FutureWarning: Setting an item of incompatible dtype is deprecated and will raise an error in a future version of pandas. Value ' 60398' has dtype incompatible with float64, please explicitly cast to a compatible dtype first.\n",
      "  topic_x_df['Experimental_Duplicate_ID'][index_in_df]=get_duplicate_ids(duplicateIDs_index_in_df)\n"
     ]
    },
    {
     "data": {
      "text/plain": [
       "64.20765027322405"
      ]
     },
     "execution_count": 53,
     "metadata": {},
     "output_type": "execute_result"
    }
   ],
   "source": [
    "topic_3_df['Experimental_Duplicate_ID']=getDuplicateBugIDS(.85,topic_3_df)\n",
    "accuracy(topic_3_df)*100\n",
    "experimentalisDuplicate(topic_3_df)\n",
    "binaryAccuracy(topic_3_df)*100"
   ]
  },
  {
   "cell_type": "code",
   "execution_count": 54,
   "id": "3c8e2e6e-ae6c-4a8a-938c-4d772150654f",
   "metadata": {
    "scrolled": true
   },
   "outputs": [
    {
     "name": "stderr",
     "output_type": "stream",
     "text": [
      "/home/claney/anaconda3/envs/reu/lib/python3.11/site-packages/huggingface_hub/file_download.py:1132: FutureWarning: `resume_download` is deprecated and will be removed in version 1.0.0. Downloads always resume when possible. If you want to force a new download, use `force_download=True`.\n",
      "  warnings.warn(\n",
      "/tmp/ipykernel_267430/2579120456.py:45: FutureWarning: ChainedAssignmentError: behaviour will change in pandas 3.0!\n",
      "You are setting values through chained assignment. Currently this works in certain cases, but when using Copy-on-Write (which will become the default behaviour in pandas 3.0) this will never work to update the original DataFrame or Series, because the intermediate object on which we are setting values will behave as a copy.\n",
      "A typical example is when you are setting values in a column of a DataFrame, like:\n",
      "\n",
      "df[\"col\"][row_indexer] = value\n",
      "\n",
      "Use `df.loc[row_indexer, \"col\"] = values` instead, to perform the assignment in a single step and ensure this keeps updating the original `df`.\n",
      "\n",
      "See the caveats in the documentation: https://pandas.pydata.org/pandas-docs/stable/user_guide/indexing.html#returning-a-view-versus-a-copy\n",
      "\n",
      "  topic_x_df['Experimental_Duplicate_ID'][index_in_df]=get_duplicate_ids(duplicateIDs_index_in_df)\n",
      "/tmp/ipykernel_267430/2579120456.py:45: SettingWithCopyWarning: \n",
      "A value is trying to be set on a copy of a slice from a DataFrame\n",
      "\n",
      "See the caveats in the documentation: https://pandas.pydata.org/pandas-docs/stable/user_guide/indexing.html#returning-a-view-versus-a-copy\n",
      "  topic_x_df['Experimental_Duplicate_ID'][index_in_df]=get_duplicate_ids(duplicateIDs_index_in_df)\n",
      "/tmp/ipykernel_267430/2579120456.py:45: FutureWarning: Setting an item of incompatible dtype is deprecated and will raise an error in a future version of pandas. Value ' 4944' has dtype incompatible with float64, please explicitly cast to a compatible dtype first.\n",
      "  topic_x_df['Experimental_Duplicate_ID'][index_in_df]=get_duplicate_ids(duplicateIDs_index_in_df)\n"
     ]
    },
    {
     "data": {
      "text/plain": [
       "61.466301053543084"
      ]
     },
     "execution_count": 54,
     "metadata": {},
     "output_type": "execute_result"
    }
   ],
   "source": [
    "topic_4_df['Experimental_Duplicate_ID']=getDuplicateBugIDS(.85,topic_4_df)\n",
    "accuracy(topic_4_df)*100\n",
    "experimentalisDuplicate(topic_4_df)\n",
    "binaryAccuracy(topic_4_df)*100"
   ]
  },
  {
   "cell_type": "code",
   "execution_count": 55,
   "id": "c800102b-c28e-40d6-9316-4f92c324df80",
   "metadata": {
    "scrolled": true
   },
   "outputs": [
    {
     "name": "stderr",
     "output_type": "stream",
     "text": [
      "/home/claney/anaconda3/envs/reu/lib/python3.11/site-packages/huggingface_hub/file_download.py:1132: FutureWarning: `resume_download` is deprecated and will be removed in version 1.0.0. Downloads always resume when possible. If you want to force a new download, use `force_download=True`.\n",
      "  warnings.warn(\n",
      "/tmp/ipykernel_267430/2579120456.py:45: FutureWarning: ChainedAssignmentError: behaviour will change in pandas 3.0!\n",
      "You are setting values through chained assignment. Currently this works in certain cases, but when using Copy-on-Write (which will become the default behaviour in pandas 3.0) this will never work to update the original DataFrame or Series, because the intermediate object on which we are setting values will behave as a copy.\n",
      "A typical example is when you are setting values in a column of a DataFrame, like:\n",
      "\n",
      "df[\"col\"][row_indexer] = value\n",
      "\n",
      "Use `df.loc[row_indexer, \"col\"] = values` instead, to perform the assignment in a single step and ensure this keeps updating the original `df`.\n",
      "\n",
      "See the caveats in the documentation: https://pandas.pydata.org/pandas-docs/stable/user_guide/indexing.html#returning-a-view-versus-a-copy\n",
      "\n",
      "  topic_x_df['Experimental_Duplicate_ID'][index_in_df]=get_duplicate_ids(duplicateIDs_index_in_df)\n",
      "/tmp/ipykernel_267430/2579120456.py:45: SettingWithCopyWarning: \n",
      "A value is trying to be set on a copy of a slice from a DataFrame\n",
      "\n",
      "See the caveats in the documentation: https://pandas.pydata.org/pandas-docs/stable/user_guide/indexing.html#returning-a-view-versus-a-copy\n",
      "  topic_x_df['Experimental_Duplicate_ID'][index_in_df]=get_duplicate_ids(duplicateIDs_index_in_df)\n",
      "/tmp/ipykernel_267430/2579120456.py:45: FutureWarning: Setting an item of incompatible dtype is deprecated and will raise an error in a future version of pandas. Value ' 2237' has dtype incompatible with float64, please explicitly cast to a compatible dtype first.\n",
      "  topic_x_df['Experimental_Duplicate_ID'][index_in_df]=get_duplicate_ids(duplicateIDs_index_in_df)\n"
     ]
    },
    {
     "data": {
      "text/plain": [
       "79.57720360984052"
      ]
     },
     "execution_count": 55,
     "metadata": {},
     "output_type": "execute_result"
    }
   ],
   "source": [
    "topic_5_df['Experimental_Duplicate_ID']=getDuplicateBugIDS(.85,topic_5_df)\n",
    "accuracy(topic_5_df)*100\n",
    "experimentalisDuplicate(topic_5_df)\n",
    "binaryAccuracy(topic_5_df)*100"
   ]
  },
  {
   "cell_type": "code",
   "execution_count": 56,
   "id": "019dfb84-3d3d-4606-be12-4b587c915464",
   "metadata": {
    "scrolled": true
   },
   "outputs": [
    {
     "name": "stderr",
     "output_type": "stream",
     "text": [
      "/home/claney/anaconda3/envs/reu/lib/python3.11/site-packages/huggingface_hub/file_download.py:1132: FutureWarning: `resume_download` is deprecated and will be removed in version 1.0.0. Downloads always resume when possible. If you want to force a new download, use `force_download=True`.\n",
      "  warnings.warn(\n",
      "/tmp/ipykernel_267430/2579120456.py:45: FutureWarning: ChainedAssignmentError: behaviour will change in pandas 3.0!\n",
      "You are setting values through chained assignment. Currently this works in certain cases, but when using Copy-on-Write (which will become the default behaviour in pandas 3.0) this will never work to update the original DataFrame or Series, because the intermediate object on which we are setting values will behave as a copy.\n",
      "A typical example is when you are setting values in a column of a DataFrame, like:\n",
      "\n",
      "df[\"col\"][row_indexer] = value\n",
      "\n",
      "Use `df.loc[row_indexer, \"col\"] = values` instead, to perform the assignment in a single step and ensure this keeps updating the original `df`.\n",
      "\n",
      "See the caveats in the documentation: https://pandas.pydata.org/pandas-docs/stable/user_guide/indexing.html#returning-a-view-versus-a-copy\n",
      "\n",
      "  topic_x_df['Experimental_Duplicate_ID'][index_in_df]=get_duplicate_ids(duplicateIDs_index_in_df)\n",
      "/tmp/ipykernel_267430/2579120456.py:45: SettingWithCopyWarning: \n",
      "A value is trying to be set on a copy of a slice from a DataFrame\n",
      "\n",
      "See the caveats in the documentation: https://pandas.pydata.org/pandas-docs/stable/user_guide/indexing.html#returning-a-view-versus-a-copy\n",
      "  topic_x_df['Experimental_Duplicate_ID'][index_in_df]=get_duplicate_ids(duplicateIDs_index_in_df)\n",
      "/tmp/ipykernel_267430/2579120456.py:45: FutureWarning: Setting an item of incompatible dtype is deprecated and will raise an error in a future version of pandas. Value ' 2699 3098' has dtype incompatible with float64, please explicitly cast to a compatible dtype first.\n",
      "  topic_x_df['Experimental_Duplicate_ID'][index_in_df]=get_duplicate_ids(duplicateIDs_index_in_df)\n"
     ]
    },
    {
     "data": {
      "text/plain": [
       "82.98157080324532"
      ]
     },
     "execution_count": 56,
     "metadata": {},
     "output_type": "execute_result"
    }
   ],
   "source": [
    "topic_6_df['Experimental_Duplicate_ID']=getDuplicateBugIDS(.85,topic_6_df)\n",
    "accuracy(topic_6_df)*100\n",
    "experimentalisDuplicate(topic_6_df)\n",
    "binaryAccuracy(topic_6_df)*100"
   ]
  },
  {
   "cell_type": "code",
   "execution_count": null,
   "id": "dafdec28-5b6b-4bc8-aaf0-005b6c722428",
   "metadata": {},
   "outputs": [],
   "source": []
  }
 ],
 "metadata": {
  "kernelspec": {
   "display_name": "Python 3 (ipykernel)",
   "language": "python",
   "name": "python3"
  },
  "language_info": {
   "codemirror_mode": {
    "name": "ipython",
    "version": 3
   },
   "file_extension": ".py",
   "mimetype": "text/x-python",
   "name": "python",
   "nbconvert_exporter": "python",
   "pygments_lexer": "ipython3",
   "version": "3.11.9"
  }
 },
 "nbformat": 4,
 "nbformat_minor": 5
}
