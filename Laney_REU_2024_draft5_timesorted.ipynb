{
 "cells": [
  {
   "cell_type": "code",
   "execution_count": 22,
   "id": "33cb93d2-735f-4dfa-ae30-6ba878d28b87",
   "metadata": {},
   "outputs": [],
   "source": [
    "# This version is timesorted to compare cosine similarity"
   ]
  },
  {
   "cell_type": "code",
   "execution_count": 23,
   "id": "f93a284e",
   "metadata": {
    "scrolled": true
   },
   "outputs": [],
   "source": [
    "\n",
    "import zipfile\n",
    "import os\n",
    "import pandas as pd\n",
    "import numpy as np\n",
    "import scipy.stats as st\n",
    "import matplotlib.pyplot as plt\n",
    "import seaborn as sns\n",
    "import requests\n",
    "import xml.etree.ElementTree as ET\n",
    "import tensorflow as t\n",
    "import torch\n",
    "import torch\n",
    "from sentence_transformers import SentenceTransformer, util\n"
   ]
  },
  {
   "cell_type": "markdown",
   "id": "ef981db0",
   "metadata": {},
   "source": [
    "# Unzipping csv file"
   ]
  },
  {
   "cell_type": "code",
   "execution_count": 24,
   "id": "d7c043fc",
   "metadata": {},
   "outputs": [],
   "source": [
    "\n",
    "uploaded_zip = '/home/claney/EclipsePlatform/eclipse_platform.zip'\n",
    "extract_dir = '/home/claney/extracted'\n",
    "if not os.path.exists(extract_dir):\n",
    "    os.makedirs(extract_dir)\n",
    "with zipfile.ZipFile(uploaded_zip, 'r') as zip_ref:\n",
    "    zip_ref.extractall(extract_dir)\n",
    "\n",
    "csv_file = os.path.join(extract_dir, 'eclipse_platform.csv')\n",
    "full_df = pd.read_csv(csv_file)"
   ]
  },
  {
   "cell_type": "code",
   "execution_count": 25,
   "id": "34e21509",
   "metadata": {},
   "outputs": [],
   "source": [
    "full_df.fillna(0,inplace=True)"
   ]
  },
  {
   "cell_type": "markdown",
   "id": "83de5f3d",
   "metadata": {},
   "source": [
    "# Spliting testing and training"
   ]
  },
  {
   "cell_type": "code",
   "execution_count": 26,
   "id": "099a10a7",
   "metadata": {},
   "outputs": [],
   "source": [
    "length=len(full_df)\n",
    "split_index=int(.8*length)\n",
    "df=full_df.iloc[:split_index] #df=training set\n"
   ]
  },
  {
   "cell_type": "markdown",
   "id": "feff3889",
   "metadata": {},
   "source": [
    "# Creating isDuplicate column"
   ]
  },
  {
   "cell_type": "code",
   "execution_count": 27,
   "id": "d6ed45e5",
   "metadata": {},
   "outputs": [
    {
     "name": "stdout",
     "output_type": "stream",
     "text": [
      "0        0\n",
      "1        0\n",
      "2        0\n",
      "3        0\n",
      "4        0\n",
      "        ..\n",
      "68119    0\n",
      "68120    0\n",
      "68121    0\n",
      "68122    0\n",
      "68123    0\n",
      "Name: isDuplicate, Length: 68124, dtype: int64\n"
     ]
    },
    {
     "name": "stderr",
     "output_type": "stream",
     "text": [
      "/tmp/ipykernel_291979/1537637410.py:3: SettingWithCopyWarning: \n",
      "A value is trying to be set on a copy of a slice from a DataFrame.\n",
      "Try using .loc[row_indexer,col_indexer] = value instead\n",
      "\n",
      "See the caveats in the documentation: https://pandas.pydata.org/pandas-docs/stable/user_guide/indexing.html#returning-a-view-versus-a-copy\n",
      "  df['isDuplicate'] = df['Duplicated_issue'].apply(lambda x: is_duplicate(x))\n"
     ]
    }
   ],
   "source": [
    "def is_duplicate(val):\n",
    "    return 1 if val !=0.0 else 0\n",
    "df['isDuplicate'] = df['Duplicated_issue'].apply(lambda x: is_duplicate(x))\n",
    "\n",
    "print(df['isDuplicate'])"
   ]
  },
  {
   "cell_type": "code",
   "execution_count": 28,
   "id": "3121314f",
   "metadata": {},
   "outputs": [
    {
     "name": "stdout",
     "output_type": "stream",
     "text": [
      "isDuplicate\n",
      "0    56126\n",
      "1    11998\n",
      "Name: count, dtype: int64\n"
     ]
    },
    {
     "data": {
      "image/png": "[encoded data removed]",
      "text/plain": [
       "<Figure size 800x600 with 1 Axes>"
      ]
     },
     "metadata": {},
     "output_type": "display_data"
    }
   ],
   "source": [
    "import matplotlib.pyplot as plt\n",
    "\n",
    "# Assuming 'df' is your DataFrame and 'isDuplicate' is the column indicating duplicates\n",
    "duplicate_counts = df['isDuplicate'].value_counts()\n",
    "\n",
    "# Check the contents of duplicate_counts\n",
    "print(duplicate_counts)\n",
    "\n",
    "# Create a list of labels matching the length of duplicate_counts\n",
    "# Ensure the labels match the values in the 'isDuplicate' column\n",
    "labels = duplicate_counts.index.tolist()\n",
    "\n",
    "# Define colors (length should match number of unique values in 'isDuplicate')\n",
    "colors = ['#FFB6C1', '#D8BFD8'][:len(labels)]\n",
    "\n",
    "# Plotting the pie chart\n",
    "plt.figure(figsize=(8, 6))\n",
    "plt.pie(duplicate_counts, labels=labels, autopct='%1.1f%%', startangle=140, colors=colors)\n",
    "plt.title('Percentage of Duplicates vs. Non-Duplicates')\n",
    "plt.axis('equal')\n",
    "plt.show()\n"
   ]
  },
  {
   "cell_type": "markdown",
   "id": "ecb58971-03bf-4973-9c3d-888660521a17",
   "metadata": {},
   "source": [
    "# Preprocessing"
   ]
  },
  {
   "cell_type": "code",
   "execution_count": 29,
   "id": "809e2c8b-63f1-4f0a-b7de-c40aa25294be",
   "metadata": {},
   "outputs": [
    {
     "name": "stderr",
     "output_type": "stream",
     "text": [
      "/tmp/ipykernel_291979/77102330.py:1: SettingWithCopyWarning: \n",
      "A value is trying to be set on a copy of a slice from a DataFrame.\n",
      "Try using .loc[row_indexer,col_indexer] = value instead\n",
      "\n",
      "See the caveats in the documentation: https://pandas.pydata.org/pandas-docs/stable/user_guide/indexing.html#returning-a-view-versus-a-copy\n",
      "  df['Description'] = df['Description'].astype(str).fillna('')\n"
     ]
    }
   ],
   "source": [
    "df['Description'] = df['Description'].astype(str).fillna('')"
   ]
  },
  {
   "cell_type": "code",
   "execution_count": 30,
   "id": "13a586d1",
   "metadata": {},
   "outputs": [
    {
     "name": "stdout",
     "output_type": "stream",
     "text": [
      "0        - Setup a project that contains a *.gif resour...\n",
      "1        Opening repository resource always open the de...\n",
      "2        KM (10/2/2001 5:55:18 PM); \\tThis PR about the...\n",
      "3        - become synchronized with some project in a r...\n",
      "4        For getting/setting the managed state of a res...\n",
      "                               ...                        \n",
      "68119    Build ID: 3.3 (I am not sure what You mean by ...\n",
      "68120    There are several NPEs within the UI session t...\n",
      "68121    I20080501-0100; ; Now that were using the coll...\n",
      "68122    Created attachment 98318; screenshot; ; I20080...\n",
      "68123    Build ID: M20080221-1800; ; Steps To Reproduce...\n",
      "Name: full_text_data, Length: 68124, dtype: object\n"
     ]
    },
    {
     "name": "stderr",
     "output_type": "stream",
     "text": [
      "/tmp/ipykernel_291979/3345744263.py:2: SettingWithCopyWarning: \n",
      "A value is trying to be set on a copy of a slice from a DataFrame.\n",
      "Try using .loc[row_indexer,col_indexer] = value instead\n",
      "\n",
      "See the caveats in the documentation: https://pandas.pydata.org/pandas-docs/stable/user_guide/indexing.html#returning-a-view-versus-a-copy\n",
      "  df['full_text_data']=df['Description']+df['Title']\n",
      "/tmp/ipykernel_291979/3345744263.py:4: SettingWithCopyWarning: \n",
      "A value is trying to be set on a copy of a slice from a DataFrame.\n",
      "Try using .loc[row_indexer,col_indexer] = value instead\n",
      "\n",
      "See the caveats in the documentation: https://pandas.pydata.org/pandas-docs/stable/user_guide/indexing.html#returning-a-view-versus-a-copy\n",
      "  df['full_text_data']=df['full_text_data'].fillna('')\n"
     ]
    }
   ],
   "source": [
    "#creating freeform textual data column\n",
    "df['full_text_data']=df['Description']+df['Title']\n",
    "print(df['full_text_data'])\n",
    "df['full_text_data']=df['full_text_data'].fillna('')"
   ]
  },
  {
   "cell_type": "markdown",
   "id": "4307e49d",
   "metadata": {},
   "source": [
    "# Sorting by time"
   ]
  },
  {
   "cell_type": "code",
   "execution_count": 31,
   "id": "11181186",
   "metadata": {},
   "outputs": [
    {
     "name": "stdout",
     "output_type": "stream",
     "text": [
      "0        2001-10-10 21:34:00 -0400\n",
      "1        2001-10-10 21:34:00 -0400\n",
      "2        2001-10-10 21:34:00 -0400\n",
      "3        2001-10-10 21:34:00 -0400\n",
      "4        2001-10-10 21:34:00 -0400\n",
      "                   ...            \n",
      "68119    2008-05-01 09:47:00 -0400\n",
      "68120    2008-05-01 09:52:00 -0400\n",
      "68121    2008-05-01 10:05:00 -0400\n",
      "68122    2008-05-01 11:02:00 -0400\n",
      "68123    2008-05-01 11:20:00 -0400\n",
      "Name: Created_time, Length: 68124, dtype: object\n"
     ]
    }
   ],
   "source": [
    "print(df['Created_time'])"
   ]
  },
  {
   "cell_type": "code",
   "execution_count": 32,
   "id": "2f7b3c66",
   "metadata": {},
   "outputs": [
    {
     "name": "stderr",
     "output_type": "stream",
     "text": [
      "/tmp/ipykernel_291979/497475349.py:3: SettingWithCopyWarning: \n",
      "A value is trying to be set on a copy of a slice from a DataFrame.\n",
      "Try using .loc[row_indexer,col_indexer] = value instead\n",
      "\n",
      "See the caveats in the documentation: https://pandas.pydata.org/pandas-docs/stable/user_guide/indexing.html#returning-a-view-versus-a-copy\n",
      "  df['Created_time'] = pd.to_datetime(df['Created_time'], utc=True)\n"
     ]
    }
   ],
   "source": [
    "# Convert the 'Created_time' column to datetime\n",
    "# Convert the 'Created_time' column to datetime with UTC\n",
    "df['Created_time'] = pd.to_datetime(df['Created_time'], utc=True)"
   ]
  },
  {
   "cell_type": "code",
   "execution_count": 33,
   "id": "6e21f12e",
   "metadata": {},
   "outputs": [
    {
     "name": "stdout",
     "output_type": "stream",
     "text": [
      "      Issue_id Priority Component  Duplicated_issue  \\\n",
      "0            1       P3      Team               0.0   \n",
      "1            2       P5      Team               0.0   \n",
      "2            3       P5      Team               0.0   \n",
      "3            4       P5      Team               0.0   \n",
      "4            5       P3      Team               0.0   \n",
      "...        ...      ...       ...               ...   \n",
      "3218      7202       P3     Debug               0.0   \n",
      "3219      7204       P3     Debug               0.0   \n",
      "3220      7205       P5      Team               0.0   \n",
      "3221      7207       P1     Debug               0.0   \n",
      "3222      7208       P1     Debug               0.0   \n",
      "\n",
      "                                                  Title  \\\n",
      "0       Usability issue with external editors (1GE6IRL)   \n",
      "1     Opening repository resources doesnt honor type...   \n",
      "2             Sync does not indicate deletion (1GIEN83)   \n",
      "3     need better error message if catching up over ...   \n",
      "4     ISharingManager sharing API inconsistent (1GAU...   \n",
      "...                                                 ...   \n",
      "3218  Detail area does not respect primitive type di...   \n",
      "3219                   Copy variables action needs icon   \n",
      "3220  Existing CVS repositories impossible to use wh...   \n",
      "3221                          Launch configuration bugs   \n",
      "3222               Variables tree collapsed on stepping   \n",
      "\n",
      "                                            Description    Status  Resolution  \\\n",
      "0     - Setup a project that contains a *.gif resour...    CLOSED       FIXED   \n",
      "1     Opening repository resource always open the de...  RESOLVED       FIXED   \n",
      "2     KM (10/2/2001 5:55:18 PM); \\tThis PR about the...  RESOLVED       FIXED   \n",
      "3     - become synchronized with some project in a r...  RESOLVED       FIXED   \n",
      "4     For getting/setting the managed state of a res...  RESOLVED     WONTFIX   \n",
      "...                                                 ...       ...         ...   \n",
      "3218  The detail area of both the expression view an...  VERIFIED       FIXED   \n",
      "3219  It can use the same icon as for the copy stack...  VERIFIED       FIXED   \n",
      "3220  When an existing CVS repository has a source d...  RESOLVED       FIXED   \n",
      "3221  The initial message in the launch config dialo...  VERIFIED       FIXED   \n",
      "3222  If you have an object variable expanded in the...  RESOLVED  WORKSFORME   \n",
      "\n",
      "     Version              Created_time              Resolved_time  \\\n",
      "0        2.0 2001-10-11 01:34:00+00:00  2012-02-09 15:57:47 -0500   \n",
      "1        2.0 2001-10-11 01:34:00+00:00  2002-05-07 10:33:56 -0400   \n",
      "2        2.0 2001-10-11 01:34:00+00:00  2010-05-07 10:28:53 -0400   \n",
      "3        2.0 2001-10-11 01:34:00+00:00  2002-03-01 16:27:31 -0500   \n",
      "4        2.0 2001-10-11 01:34:00+00:00  2008-08-15 08:04:36 -0400   \n",
      "...      ...                       ...                        ...   \n",
      "3218     2.0 2001-12-31 00:49:00+00:00  2002-08-12 15:57:54 -0400   \n",
      "3219     2.0 2001-12-31 00:52:00+00:00  2001-12-31 11:08:40 -0500   \n",
      "3220     2.0 2001-12-31 15:39:00+00:00  2002-05-23 21:20:29 -0400   \n",
      "3221     2.0 2001-12-31 18:10:00+00:00  2002-03-05 10:39:01 -0500   \n",
      "3222     2.0 2001-12-31 18:43:00+00:00  2002-01-02 13:44:31 -0500   \n",
      "\n",
      "      isDuplicate                                     full_text_data  Period  \n",
      "0               0  - Setup a project that contains a *.gif resour...  2001Q4  \n",
      "1               0  Opening repository resource always open the de...  2001Q4  \n",
      "2               0  KM (10/2/2001 5:55:18 PM); \\tThis PR about the...  2001Q4  \n",
      "3               0  - become synchronized with some project in a r...  2001Q4  \n",
      "4               0  For getting/setting the managed state of a res...  2001Q4  \n",
      "...           ...                                                ...     ...  \n",
      "3218            0  The detail area of both the expression view an...  2001Q4  \n",
      "3219            0  It can use the same icon as for the copy stack...  2001Q4  \n",
      "3220            0  When an existing CVS repository has a source d...  2001Q4  \n",
      "3221            0  The initial message in the launch config dialo...  2001Q4  \n",
      "3222            0  If you have an object variable expanded in the...  2001Q4  \n",
      "\n",
      "[3223 rows x 14 columns]\n"
     ]
    },
    {
     "name": "stderr",
     "output_type": "stream",
     "text": [
      "/tmp/ipykernel_291979/4009835520.py:8: UserWarning: Converting to PeriodArray/Index representation will drop timezone information.\n",
      "  df['Period'] = df['Created_time'].dt.to_period('Q')\n",
      "/tmp/ipykernel_291979/4009835520.py:8: SettingWithCopyWarning: \n",
      "A value is trying to be set on a copy of a slice from a DataFrame.\n",
      "Try using .loc[row_indexer,col_indexer] = value instead\n",
      "\n",
      "See the caveats in the documentation: https://pandas.pydata.org/pandas-docs/stable/user_guide/indexing.html#returning-a-view-versus-a-copy\n",
      "  df['Period'] = df['Created_time'].dt.to_period('Q')\n"
     ]
    }
   ],
   "source": [
    "import pandas as pd\n",
    "\n",
    "# Assuming df is your original DataFrame with 'Created_time' column already converted to datetime\n",
    "\n",
    "\n",
    "\n",
    "# Create a 'Period' column to represent quarters\n",
    "df['Period'] = df['Created_time'].dt.to_period('Q') \n",
    "\n",
    "# Group by quarters\n",
    "period_groups = df.groupby('Period')\n",
    "\n",
    "# List to store DataFrames for each quarter\n",
    "quarterly_dfs = []\n",
    "count=0\n",
    "# Iterate over groups and append DataFrames to list\n",
    "for i, (period, group_df) in enumerate(period_groups):\n",
    "    quarterly_dfs.append(group_df)\n",
    "    count=count+1\n",
    "\n",
    "# Accessing each quarter's DataFrame:\n",
    "# For example, to access the DataFrame for the first quarter:\n",
    "print(quarterly_dfs[0])  # Index 0 corresponds to the first quarter DataFrame\n",
    "\n"
   ]
  },
  {
   "cell_type": "markdown",
   "id": "c7dceeba-8501-4dfe-9c40-ae61aeaea1e0",
   "metadata": {},
   "source": [
    "# Refactoring"
   ]
  },
  {
   "cell_type": "markdown",
   "id": "d8e40cdc-b75e-4b4b-8a0e-dcd7e939b011",
   "metadata": {},
   "source": [
    "### Creating functions to test with different parameters"
   ]
  },
  {
   "cell_type": "code",
   "execution_count": 34,
   "id": "00e0f612-e2bf-4027-a42e-ec35d990304c",
   "metadata": {},
   "outputs": [],
   "source": [
    "def getDuplicateBugIDS(threshold_value,time_x_df): \n",
    "    import torch\n",
    "    model = SentenceTransformer('paraphrase-MiniLM-L6-v2')\n",
    "    # Encode sentences and store the embeddings in the DataFrame\n",
    "    time_x_df['embeddings'] = time_x_df['full_text_data'].apply(lambda x: model.encode(x, convert_to_tensor=True))\n",
    "    # Convert embeddings to a tensor\n",
    "    embeddings = torch.stack(time_x_df['embeddings'].tolist())\n",
    "    # Calculate cosine similarity\n",
    "    cosine_scores = util.pytorch_cos_sim(embeddings, embeddings)\n",
    "    numpy_array = cosine_scores.numpy()\n",
    "    # Reshape the NumPy array into a matrix\n",
    "    similarity_Matrix= numpy_array.reshape(cosine_scores.shape)\n",
    "    similarity_Matrix= np.round(similarity_Matrix, decimals=4)\n",
    "    # Function to filter rows based on condition\n",
    "    def filter_matrix(matrix, threshold):\n",
    "        filtered_matrix = []\n",
    "        for row in matrix:\n",
    "            if np.any((row > threshold) & (row < 1)): #<1 to igorne the sim. with itself \n",
    "                filtered_matrix.append(row)\n",
    "        return np.array(filtered_matrix)\n",
    "    # Filtering the matrix\n",
    "    filtered_matrix = filter_matrix(similarity_Matrix, threshold_value)\n",
    "    n = 0 #to iterate through\n",
    "    time_x_df['Experimental_Duplicate_ID'] = np.nan  #intailly sets everything to null\n",
    "    while n < filtered_matrix.shape[0]:  # number of rows do this process to each row \n",
    "        matrix = filtered_matrix[n]\n",
    "        def find_position(matrix):  # finds position (index) of bug all other bugs are comparing to\n",
    "            result = np.where(matrix == 1.0)\n",
    "            return result[0][0]  # Extract the first index directly\n",
    "    \n",
    "        def get_duplicate_ids_index(matrix):  # finds index where there are most similar bugs to the bug at find_position\n",
    "            condition = np.logical_and(matrix > threshold_value, matrix < 1)\n",
    "            indices = np.argwhere(condition)\n",
    "            return indices\n",
    "        def get_duplicate_ids(matrix_indexs_of_duplicates):\n",
    "            duplicate_ids = \"\"\n",
    "            for row in matrix_indexs_of_duplicates:\n",
    "                for element in row:\n",
    "                    specific_row = time_x_df.iloc[element]\n",
    "                    duplicate_ids = duplicate_ids + \" \" + str(specific_row['Issue_id'])\n",
    "            return duplicate_ids\n",
    "        index_in_df = find_position(matrix)  # index of selected bug\n",
    "        specific_row = time_x_df.iloc[index_in_df]  # selects bug row in dataframe\n",
    "        duplicateIDs_index_in_df = get_duplicate_ids_index(matrix)  # index of duplicate bugs\n",
    "        time_x_df['Experimental_Duplicate_ID'][index_in_df]=get_duplicate_ids(duplicateIDs_index_in_df)\n",
    "        n += 1  # to go through each row in the matrix\n",
    "    return time_x_df['Experimental_Duplicate_ID']"
   ]
  },
  {
   "cell_type": "code",
   "execution_count": 35,
   "id": "aa7dd017-6c6b-4972-9f74-6fd172583291",
   "metadata": {},
   "outputs": [],
   "source": [
    "def accuracy(time_x_df):\n",
    "    #a match is considered if there are any matching values in exp_ids and dup_ids \n",
    "       # Split the IDs by spaces and strip whitespace\n",
    "    time_x_df.fillna(0,inplace=True) #fills with zeros for new column \n",
    "    exp_ids = time_x_df['Experimental_Duplicate_ID'].astype(str).str.split().apply(lambda x: [i.strip() for i in x])\n",
    "    dup_ids = time_x_df['Duplicated_issue'].astype(str).str.split().apply(lambda x: [i.strip() for i in x])\n",
    "    \n",
    "    # Convert all elements to strings to ensure consistent comparison\n",
    "    exp_ids = exp_ids.apply(lambda x: [float(i) for i in x])\n",
    "    dup_ids = dup_ids.apply(lambda x: [float(i) for i in x])\n",
    "    # Check for any matches for each row\n",
    "    matches = exp_ids.combine(dup_ids, lambda exp_list, dup_list: any(dup_id in exp_list for dup_id in dup_list))\n",
    "    \n",
    "    # Count the number of matches\n",
    "    num_matches = matches.sum()\n",
    "    accuracy=num_matches/len(time_x_df)\n",
    "    return accuracy"
   ]
  },
  {
   "cell_type": "code",
   "execution_count": 36,
   "id": "e2a22c9c-105d-4e9a-a78b-c164cebbd531",
   "metadata": {},
   "outputs": [],
   "source": [
    "def precision(time_x_df):\n",
    "    time_x_df.fillna(0,inplace=True) #fills with zeros for new column \n",
    "    exp_ids = time_x_df['Experimental_Duplicate_ID'].astype(str).str.split().apply(lambda x: [i.strip() for i in x])\n",
    "    dup_ids = time_x_df['Duplicated_issue'].astype(str).str.split().apply(lambda x: [i.strip() for i in x])\n",
    "    \n",
    "    # Convert all elements to strings to ensure consistent comparison\n",
    "    exp_ids = exp_ids.apply(lambda x: [float(i) for i in x])\n",
    "    dup_ids = dup_ids.apply(lambda x: [float(i) for i in x])\n",
    "    # Check for any matches for each row\n",
    "    matches = exp_ids.combine(dup_ids, lambda exp_list, dup_list: any(dup_id in exp_list for dup_id in dup_list))\n",
    "    \n",
    "    # Count the number of matches which is when the experiment and actual match aka true positive\n",
    "    truePositive = matches.sum()\n",
    "    #falsePositive is when the experimental duplicate id has a number but the actual one doesn't\n",
    "    falsePositives = ((time_x_df['Duplicated_issue'] == 0) & (time_x_df['Experimental_Duplicate_ID'] != 0)).sum()\n",
    "    precison= truePositive/(truePositive+falsePositives)\n",
    "    return precison\n",
    "    "
   ]
  },
  {
   "cell_type": "code",
   "execution_count": 37,
   "id": "d5d100d9-8ced-4f92-b55c-a9d7cbcbe758",
   "metadata": {},
   "outputs": [],
   "source": [
    "def recall(time_x_df):\n",
    "    time_x_df.fillna(0,inplace=True) #fills with zeros for new column \n",
    "    exp_ids = time_x_df['Experimental_Duplicate_ID'].astype(str).str.split().apply(lambda x: [i.strip() for i in x])\n",
    "    dup_ids = time_x_df['Duplicated_issue'].astype(str).str.split().apply(lambda x: [i.strip() for i in x])\n",
    "    \n",
    "    # Convert all elements to strings to ensure consistent comparison\n",
    "    exp_ids = exp_ids.apply(lambda x: [float(i) for i in x])\n",
    "    dup_ids = dup_ids.apply(lambda x: [float(i) for i in x])\n",
    "    # Check for any matches for each row\n",
    "    matches = exp_ids.combine(dup_ids, lambda exp_list, dup_list: any(dup_id in exp_list for dup_id in dup_list))\n",
    "    \n",
    "    # Count the number of matches which is when the experiment and actual match aka true positive\n",
    "    truePositive = matches.sum()\n",
    "\n",
    "    # Convert columns to sets\n",
    "    experimental_set = set(time_x_df['Experimental_Duplicate_ID'])\n",
    "    actual_set = set(time_x_df['Duplicated_issue'])\n",
    "\n",
    "    # Identify False Negatives\n",
    "    falseNegatives = actual_set - experimental_set\n",
    "    falseNegativesCount=len(list(falseNegatives))\n",
    "    recall=truePositive/(truePositive+falseNegativesCount)\n",
    "    return recall"
   ]
  },
  {
   "cell_type": "code",
   "execution_count": 38,
   "id": "acaa2620-383b-4c2c-9335-bbd3d1d6187e",
   "metadata": {},
   "outputs": [],
   "source": [
    "def f1(time_x_df):\n",
    "    recallVal=recall(time_x_df)\n",
    "    precisonVal=precision(time_x_df)\n",
    "    f1=2*((recallVal*precisonVal)/(precisonVal+recallVal))\n",
    "    return f1"
   ]
  },
  {
   "cell_type": "code",
   "execution_count": 39,
   "id": "b7e4c242-2af3-4540-a12f-1947ec278264",
   "metadata": {},
   "outputs": [],
   "source": [
    "def experimentalisDuplicate(time_x_df): #creates column for experimental binary isDuplciates\n",
    "    def is_duplicate(val):\n",
    "        return 1 if val !=(0.0 or 0) else 0\n",
    "    time_x_df['isExperimentalDuplicate'] = time_x_df['Experimental_Duplicate_ID'].apply(lambda x: is_duplicate(x))\n",
    "    return time_x_df['isExperimentalDuplicate']"
   ]
  },
  {
   "cell_type": "code",
   "execution_count": 40,
   "id": "7bfb1ee5-f807-402b-8b86-aa8ba7e92f4e",
   "metadata": {},
   "outputs": [],
   "source": [
    "def binaryAccuracy(time_x_df): #see if the ones and zeros match, different from other acuracy becuase that one can have only one element mathc and it count ex bug 1 has ids 1234 and 8472 it should still count as a duplciate to bug 2 with 1234 0889 \n",
    "    matches=time_x_df['isExperimentalDuplicate']==time_x_df['isDuplicate']\n",
    "    num_matches=matches.sum()\n",
    "    accuracy=num_matches/len(time_x_df['isExperimentalDuplicate'])\n",
    "    return accuracy"
   ]
  },
  {
   "cell_type": "markdown",
   "id": "122da3eb-c8a3-4551-9752-e74449cdefe2",
   "metadata": {},
   "source": [
    "# MORE refactoring"
   ]
  },
  {
   "cell_type": "code",
   "execution_count": 44,
   "id": "8fe363a3",
   "metadata": {},
   "outputs": [
    {
     "name": "stderr",
     "output_type": "stream",
     "text": [
      "/home/claney/anaconda3/lib/python3.11/site-packages/huggingface_hub/file_download.py:1132: FutureWarning: `resume_download` is deprecated and will be removed in version 1.0.0. Downloads always resume when possible. If you want to force a new download, use `force_download=True`.\n",
      "  warnings.warn(\n",
      "/tmp/ipykernel_291979/474897665.py:45: SettingWithCopyWarning: \n",
      "A value is trying to be set on a copy of a slice from a DataFrame\n",
      "\n",
      "See the caveats in the documentation: https://pandas.pydata.org/pandas-docs/stable/user_guide/indexing.html#returning-a-view-versus-a-copy\n",
      "  time_x_df['Experimental_Duplicate_ID'][index_in_df]=get_duplicate_ids(duplicateIDs_index_in_df)\n"
     ]
    },
    {
     "name": "stdout",
     "output_type": "stream",
     "text": [
      "Accuracy for topic 0 for matching id is %90.32\n",
      "Accuracy for topic 0 for duplicate or not is %90.32\n",
      "Recall for topic 0 is %92.38\n",
      "Precision for topic 0 is %99.52\n",
      "F1 score for topic 0 is %95.82\n"
     ]
    },
    {
     "name": "stderr",
     "output_type": "stream",
     "text": [
      "/home/claney/anaconda3/lib/python3.11/site-packages/huggingface_hub/file_download.py:1132: FutureWarning: `resume_download` is deprecated and will be removed in version 1.0.0. Downloads always resume when possible. If you want to force a new download, use `force_download=True`.\n",
      "  warnings.warn(\n",
      "/tmp/ipykernel_291979/474897665.py:45: SettingWithCopyWarning: \n",
      "A value is trying to be set on a copy of a slice from a DataFrame\n",
      "\n",
      "See the caveats in the documentation: https://pandas.pydata.org/pandas-docs/stable/user_guide/indexing.html#returning-a-view-versus-a-copy\n",
      "  time_x_df['Experimental_Duplicate_ID'][index_in_df]=get_duplicate_ids(duplicateIDs_index_in_df)\n"
     ]
    },
    {
     "name": "stdout",
     "output_type": "stream",
     "text": [
      "Accuracy for topic 1 for matching id is %88.01\n",
      "Accuracy for topic 1 for duplicate or not is %88.01\n",
      "Recall for topic 1 is %89.66\n",
      "Precision for topic 1 is %100.00\n",
      "F1 score for topic 1 is %94.55\n"
     ]
    },
    {
     "name": "stderr",
     "output_type": "stream",
     "text": [
      "/home/claney/anaconda3/lib/python3.11/site-packages/huggingface_hub/file_download.py:1132: FutureWarning: `resume_download` is deprecated and will be removed in version 1.0.0. Downloads always resume when possible. If you want to force a new download, use `force_download=True`.\n",
      "  warnings.warn(\n",
      "/tmp/ipykernel_291979/474897665.py:45: SettingWithCopyWarning: \n",
      "A value is trying to be set on a copy of a slice from a DataFrame\n",
      "\n",
      "See the caveats in the documentation: https://pandas.pydata.org/pandas-docs/stable/user_guide/indexing.html#returning-a-view-versus-a-copy\n",
      "  time_x_df['Experimental_Duplicate_ID'][index_in_df]=get_duplicate_ids(duplicateIDs_index_in_df)\n"
     ]
    },
    {
     "name": "stdout",
     "output_type": "stream",
     "text": [
      "Accuracy for topic 2 for matching id is %83.06\n",
      "Accuracy for topic 2 for duplicate or not is %83.06\n",
      "Recall for topic 2 is %86.61\n",
      "Precision for topic 2 is %100.00\n",
      "F1 score for topic 2 is %92.83\n"
     ]
    },
    {
     "name": "stderr",
     "output_type": "stream",
     "text": [
      "/home/claney/anaconda3/lib/python3.11/site-packages/huggingface_hub/file_download.py:1132: FutureWarning: `resume_download` is deprecated and will be removed in version 1.0.0. Downloads always resume when possible. If you want to force a new download, use `force_download=True`.\n",
      "  warnings.warn(\n",
      "/tmp/ipykernel_291979/474897665.py:45: SettingWithCopyWarning: \n",
      "A value is trying to be set on a copy of a slice from a DataFrame\n",
      "\n",
      "See the caveats in the documentation: https://pandas.pydata.org/pandas-docs/stable/user_guide/indexing.html#returning-a-view-versus-a-copy\n",
      "  time_x_df['Experimental_Duplicate_ID'][index_in_df]=get_duplicate_ids(duplicateIDs_index_in_df)\n"
     ]
    },
    {
     "name": "stdout",
     "output_type": "stream",
     "text": [
      "Accuracy for topic 3 for matching id is %84.44\n",
      "Accuracy for topic 3 for duplicate or not is %84.44\n",
      "Recall for topic 3 is %86.51\n",
      "Precision for topic 3 is %100.00\n",
      "F1 score for topic 3 is %92.77\n"
     ]
    },
    {
     "name": "stderr",
     "output_type": "stream",
     "text": [
      "/home/claney/anaconda3/lib/python3.11/site-packages/huggingface_hub/file_download.py:1132: FutureWarning: `resume_download` is deprecated and will be removed in version 1.0.0. Downloads always resume when possible. If you want to force a new download, use `force_download=True`.\n",
      "  warnings.warn(\n",
      "/tmp/ipykernel_291979/474897665.py:45: SettingWithCopyWarning: \n",
      "A value is trying to be set on a copy of a slice from a DataFrame\n",
      "\n",
      "See the caveats in the documentation: https://pandas.pydata.org/pandas-docs/stable/user_guide/indexing.html#returning-a-view-versus-a-copy\n",
      "  time_x_df['Experimental_Duplicate_ID'][index_in_df]=get_duplicate_ids(duplicateIDs_index_in_df)\n"
     ]
    },
    {
     "name": "stdout",
     "output_type": "stream",
     "text": [
      "Accuracy for topic 4 for matching id is %80.74\n",
      "Accuracy for topic 4 for duplicate or not is %80.74\n",
      "Recall for topic 4 is %83.55\n",
      "Precision for topic 4 is %100.00\n",
      "F1 score for topic 4 is %91.04\n"
     ]
    },
    {
     "name": "stderr",
     "output_type": "stream",
     "text": [
      "/home/claney/anaconda3/lib/python3.11/site-packages/huggingface_hub/file_download.py:1132: FutureWarning: `resume_download` is deprecated and will be removed in version 1.0.0. Downloads always resume when possible. If you want to force a new download, use `force_download=True`.\n",
      "  warnings.warn(\n",
      "/tmp/ipykernel_291979/474897665.py:45: SettingWithCopyWarning: \n",
      "A value is trying to be set on a copy of a slice from a DataFrame\n",
      "\n",
      "See the caveats in the documentation: https://pandas.pydata.org/pandas-docs/stable/user_guide/indexing.html#returning-a-view-versus-a-copy\n",
      "  time_x_df['Experimental_Duplicate_ID'][index_in_df]=get_duplicate_ids(duplicateIDs_index_in_df)\n"
     ]
    },
    {
     "name": "stdout",
     "output_type": "stream",
     "text": [
      "Accuracy for topic 5 for matching id is %80.28\n",
      "Accuracy for topic 5 for duplicate or not is %80.28\n",
      "Recall for topic 5 is %84.43\n",
      "Precision for topic 5 is %100.00\n",
      "F1 score for topic 5 is %91.56\n"
     ]
    },
    {
     "name": "stderr",
     "output_type": "stream",
     "text": [
      "/home/claney/anaconda3/lib/python3.11/site-packages/huggingface_hub/file_download.py:1132: FutureWarning: `resume_download` is deprecated and will be removed in version 1.0.0. Downloads always resume when possible. If you want to force a new download, use `force_download=True`.\n",
      "  warnings.warn(\n",
      "/tmp/ipykernel_291979/474897665.py:45: SettingWithCopyWarning: \n",
      "A value is trying to be set on a copy of a slice from a DataFrame\n",
      "\n",
      "See the caveats in the documentation: https://pandas.pydata.org/pandas-docs/stable/user_guide/indexing.html#returning-a-view-versus-a-copy\n",
      "  time_x_df['Experimental_Duplicate_ID'][index_in_df]=get_duplicate_ids(duplicateIDs_index_in_df)\n"
     ]
    },
    {
     "name": "stdout",
     "output_type": "stream",
     "text": [
      "Accuracy for topic 6 for matching id is %78.62\n",
      "Accuracy for topic 6 for duplicate or not is %78.62\n",
      "Recall for topic 6 is %82.24\n",
      "Precision for topic 6 is %100.00\n",
      "F1 score for topic 6 is %90.26\n"
     ]
    },
    {
     "name": "stderr",
     "output_type": "stream",
     "text": [
      "/home/claney/anaconda3/lib/python3.11/site-packages/huggingface_hub/file_download.py:1132: FutureWarning: `resume_download` is deprecated and will be removed in version 1.0.0. Downloads always resume when possible. If you want to force a new download, use `force_download=True`.\n",
      "  warnings.warn(\n",
      "/tmp/ipykernel_291979/474897665.py:45: SettingWithCopyWarning: \n",
      "A value is trying to be set on a copy of a slice from a DataFrame\n",
      "\n",
      "See the caveats in the documentation: https://pandas.pydata.org/pandas-docs/stable/user_guide/indexing.html#returning-a-view-versus-a-copy\n",
      "  time_x_df['Experimental_Duplicate_ID'][index_in_df]=get_duplicate_ids(duplicateIDs_index_in_df)\n"
     ]
    },
    {
     "name": "stdout",
     "output_type": "stream",
     "text": [
      "Accuracy for topic 7 for matching id is %80.29\n",
      "Accuracy for topic 7 for duplicate or not is %80.29\n",
      "Recall for topic 7 is %83.94\n",
      "Precision for topic 7 is %100.00\n",
      "F1 score for topic 7 is %91.27\n"
     ]
    },
    {
     "name": "stderr",
     "output_type": "stream",
     "text": [
      "/home/claney/anaconda3/lib/python3.11/site-packages/huggingface_hub/file_download.py:1132: FutureWarning: `resume_download` is deprecated and will be removed in version 1.0.0. Downloads always resume when possible. If you want to force a new download, use `force_download=True`.\n",
      "  warnings.warn(\n",
      "/tmp/ipykernel_291979/474897665.py:45: SettingWithCopyWarning: \n",
      "A value is trying to be set on a copy of a slice from a DataFrame\n",
      "\n",
      "See the caveats in the documentation: https://pandas.pydata.org/pandas-docs/stable/user_guide/indexing.html#returning-a-view-versus-a-copy\n",
      "  time_x_df['Experimental_Duplicate_ID'][index_in_df]=get_duplicate_ids(duplicateIDs_index_in_df)\n"
     ]
    },
    {
     "name": "stdout",
     "output_type": "stream",
     "text": [
      "Accuracy for topic 8 for matching id is %77.59\n",
      "Accuracy for topic 8 for duplicate or not is %77.59\n",
      "Recall for topic 8 is %82.44\n",
      "Precision for topic 8 is %100.00\n",
      "F1 score for topic 8 is %90.37\n"
     ]
    },
    {
     "name": "stderr",
     "output_type": "stream",
     "text": [
      "/home/claney/anaconda3/lib/python3.11/site-packages/huggingface_hub/file_download.py:1132: FutureWarning: `resume_download` is deprecated and will be removed in version 1.0.0. Downloads always resume when possible. If you want to force a new download, use `force_download=True`.\n",
      "  warnings.warn(\n",
      "/tmp/ipykernel_291979/474897665.py:45: SettingWithCopyWarning: \n",
      "A value is trying to be set on a copy of a slice from a DataFrame\n",
      "\n",
      "See the caveats in the documentation: https://pandas.pydata.org/pandas-docs/stable/user_guide/indexing.html#returning-a-view-versus-a-copy\n",
      "  time_x_df['Experimental_Duplicate_ID'][index_in_df]=get_duplicate_ids(duplicateIDs_index_in_df)\n"
     ]
    },
    {
     "name": "stdout",
     "output_type": "stream",
     "text": [
      "Accuracy for topic 9 for matching id is %77.58\n",
      "Accuracy for topic 9 for duplicate or not is %77.58\n",
      "Recall for topic 9 is %82.61\n",
      "Precision for topic 9 is %100.00\n",
      "F1 score for topic 9 is %90.48\n"
     ]
    },
    {
     "name": "stderr",
     "output_type": "stream",
     "text": [
      "/home/claney/anaconda3/lib/python3.11/site-packages/huggingface_hub/file_download.py:1132: FutureWarning: `resume_download` is deprecated and will be removed in version 1.0.0. Downloads always resume when possible. If you want to force a new download, use `force_download=True`.\n",
      "  warnings.warn(\n",
      "/tmp/ipykernel_291979/474897665.py:45: SettingWithCopyWarning: \n",
      "A value is trying to be set on a copy of a slice from a DataFrame\n",
      "\n",
      "See the caveats in the documentation: https://pandas.pydata.org/pandas-docs/stable/user_guide/indexing.html#returning-a-view-versus-a-copy\n",
      "  time_x_df['Experimental_Duplicate_ID'][index_in_df]=get_duplicate_ids(duplicateIDs_index_in_df)\n"
     ]
    },
    {
     "name": "stdout",
     "output_type": "stream",
     "text": [
      "Accuracy for topic 10 for matching id is %78.14\n",
      "Accuracy for topic 10 for duplicate or not is %78.14\n",
      "Recall for topic 10 is %83.14\n",
      "Precision for topic 10 is %100.00\n",
      "F1 score for topic 10 is %90.80\n"
     ]
    },
    {
     "name": "stderr",
     "output_type": "stream",
     "text": [
      "/home/claney/anaconda3/lib/python3.11/site-packages/huggingface_hub/file_download.py:1132: FutureWarning: `resume_download` is deprecated and will be removed in version 1.0.0. Downloads always resume when possible. If you want to force a new download, use `force_download=True`.\n",
      "  warnings.warn(\n",
      "/tmp/ipykernel_291979/474897665.py:45: SettingWithCopyWarning: \n",
      "A value is trying to be set on a copy of a slice from a DataFrame\n",
      "\n",
      "See the caveats in the documentation: https://pandas.pydata.org/pandas-docs/stable/user_guide/indexing.html#returning-a-view-versus-a-copy\n",
      "  time_x_df['Experimental_Duplicate_ID'][index_in_df]=get_duplicate_ids(duplicateIDs_index_in_df)\n"
     ]
    },
    {
     "name": "stdout",
     "output_type": "stream",
     "text": [
      "Accuracy for topic 11 for matching id is %80.67\n",
      "Accuracy for topic 11 for duplicate or not is %80.67\n",
      "Recall for topic 11 is %83.38\n",
      "Precision for topic 11 is %100.00\n",
      "F1 score for topic 11 is %90.93\n"
     ]
    },
    {
     "name": "stderr",
     "output_type": "stream",
     "text": [
      "/home/claney/anaconda3/lib/python3.11/site-packages/huggingface_hub/file_download.py:1132: FutureWarning: `resume_download` is deprecated and will be removed in version 1.0.0. Downloads always resume when possible. If you want to force a new download, use `force_download=True`.\n",
      "  warnings.warn(\n",
      "/tmp/ipykernel_291979/474897665.py:45: SettingWithCopyWarning: \n",
      "A value is trying to be set on a copy of a slice from a DataFrame\n",
      "\n",
      "See the caveats in the documentation: https://pandas.pydata.org/pandas-docs/stable/user_guide/indexing.html#returning-a-view-versus-a-copy\n",
      "  time_x_df['Experimental_Duplicate_ID'][index_in_df]=get_duplicate_ids(duplicateIDs_index_in_df)\n"
     ]
    },
    {
     "name": "stdout",
     "output_type": "stream",
     "text": [
      "Accuracy for topic 12 for matching id is %81.86\n",
      "Accuracy for topic 12 for duplicate or not is %81.86\n",
      "Recall for topic 12 is %84.29\n",
      "Precision for topic 12 is %100.00\n",
      "F1 score for topic 12 is %91.48\n"
     ]
    },
    {
     "name": "stderr",
     "output_type": "stream",
     "text": [
      "/home/claney/anaconda3/lib/python3.11/site-packages/huggingface_hub/file_download.py:1132: FutureWarning: `resume_download` is deprecated and will be removed in version 1.0.0. Downloads always resume when possible. If you want to force a new download, use `force_download=True`.\n",
      "  warnings.warn(\n",
      "/tmp/ipykernel_291979/474897665.py:45: SettingWithCopyWarning: \n",
      "A value is trying to be set on a copy of a slice from a DataFrame\n",
      "\n",
      "See the caveats in the documentation: https://pandas.pydata.org/pandas-docs/stable/user_guide/indexing.html#returning-a-view-versus-a-copy\n",
      "  time_x_df['Experimental_Duplicate_ID'][index_in_df]=get_duplicate_ids(duplicateIDs_index_in_df)\n"
     ]
    },
    {
     "name": "stdout",
     "output_type": "stream",
     "text": [
      "Accuracy for topic 13 for matching id is %83.99\n",
      "Accuracy for topic 13 for duplicate or not is %83.99\n",
      "Recall for topic 13 is %86.38\n",
      "Precision for topic 13 is %100.00\n",
      "F1 score for topic 13 is %92.69\n"
     ]
    },
    {
     "name": "stderr",
     "output_type": "stream",
     "text": [
      "/home/claney/anaconda3/lib/python3.11/site-packages/huggingface_hub/file_download.py:1132: FutureWarning: `resume_download` is deprecated and will be removed in version 1.0.0. Downloads always resume when possible. If you want to force a new download, use `force_download=True`.\n",
      "  warnings.warn(\n",
      "/tmp/ipykernel_291979/474897665.py:45: SettingWithCopyWarning: \n",
      "A value is trying to be set on a copy of a slice from a DataFrame\n",
      "\n",
      "See the caveats in the documentation: https://pandas.pydata.org/pandas-docs/stable/user_guide/indexing.html#returning-a-view-versus-a-copy\n",
      "  time_x_df['Experimental_Duplicate_ID'][index_in_df]=get_duplicate_ids(duplicateIDs_index_in_df)\n"
     ]
    },
    {
     "name": "stdout",
     "output_type": "stream",
     "text": [
      "Accuracy for topic 14 for matching id is %83.64\n",
      "Accuracy for topic 14 for duplicate or not is %83.64\n",
      "Recall for topic 14 is %86.49\n",
      "Precision for topic 14 is %100.00\n",
      "F1 score for topic 14 is %92.75\n"
     ]
    },
    {
     "name": "stderr",
     "output_type": "stream",
     "text": [
      "/home/claney/anaconda3/lib/python3.11/site-packages/huggingface_hub/file_download.py:1132: FutureWarning: `resume_download` is deprecated and will be removed in version 1.0.0. Downloads always resume when possible. If you want to force a new download, use `force_download=True`.\n",
      "  warnings.warn(\n",
      "/tmp/ipykernel_291979/474897665.py:45: SettingWithCopyWarning: \n",
      "A value is trying to be set on a copy of a slice from a DataFrame\n",
      "\n",
      "See the caveats in the documentation: https://pandas.pydata.org/pandas-docs/stable/user_guide/indexing.html#returning-a-view-versus-a-copy\n",
      "  time_x_df['Experimental_Duplicate_ID'][index_in_df]=get_duplicate_ids(duplicateIDs_index_in_df)\n"
     ]
    },
    {
     "name": "stdout",
     "output_type": "stream",
     "text": [
      "Accuracy for topic 15 for matching id is %80.92\n",
      "Accuracy for topic 15 for duplicate or not is %80.92\n",
      "Recall for topic 15 is %82.94\n",
      "Precision for topic 15 is %100.00\n",
      "F1 score for topic 15 is %90.68\n"
     ]
    },
    {
     "name": "stderr",
     "output_type": "stream",
     "text": [
      "/home/claney/anaconda3/lib/python3.11/site-packages/huggingface_hub/file_download.py:1132: FutureWarning: `resume_download` is deprecated and will be removed in version 1.0.0. Downloads always resume when possible. If you want to force a new download, use `force_download=True`.\n",
      "  warnings.warn(\n",
      "/tmp/ipykernel_291979/474897665.py:45: SettingWithCopyWarning: \n",
      "A value is trying to be set on a copy of a slice from a DataFrame\n",
      "\n",
      "See the caveats in the documentation: https://pandas.pydata.org/pandas-docs/stable/user_guide/indexing.html#returning-a-view-versus-a-copy\n",
      "  time_x_df['Experimental_Duplicate_ID'][index_in_df]=get_duplicate_ids(duplicateIDs_index_in_df)\n"
     ]
    },
    {
     "name": "stdout",
     "output_type": "stream",
     "text": [
      "Accuracy for topic 16 for matching id is %83.73\n",
      "Accuracy for topic 16 for duplicate or not is %83.73\n",
      "Recall for topic 16 is %85.65\n",
      "Precision for topic 16 is %100.00\n",
      "F1 score for topic 16 is %92.27\n"
     ]
    },
    {
     "name": "stderr",
     "output_type": "stream",
     "text": [
      "/home/claney/anaconda3/lib/python3.11/site-packages/huggingface_hub/file_download.py:1132: FutureWarning: `resume_download` is deprecated and will be removed in version 1.0.0. Downloads always resume when possible. If you want to force a new download, use `force_download=True`.\n",
      "  warnings.warn(\n",
      "/tmp/ipykernel_291979/474897665.py:45: SettingWithCopyWarning: \n",
      "A value is trying to be set on a copy of a slice from a DataFrame\n",
      "\n",
      "See the caveats in the documentation: https://pandas.pydata.org/pandas-docs/stable/user_guide/indexing.html#returning-a-view-versus-a-copy\n",
      "  time_x_df['Experimental_Duplicate_ID'][index_in_df]=get_duplicate_ids(duplicateIDs_index_in_df)\n"
     ]
    },
    {
     "name": "stdout",
     "output_type": "stream",
     "text": [
      "Accuracy for topic 17 for matching id is %84.35\n",
      "Accuracy for topic 17 for duplicate or not is %84.35\n",
      "Recall for topic 17 is %86.47\n",
      "Precision for topic 17 is %100.00\n",
      "F1 score for topic 17 is %92.75\n"
     ]
    },
    {
     "name": "stderr",
     "output_type": "stream",
     "text": [
      "/home/claney/anaconda3/lib/python3.11/site-packages/huggingface_hub/file_download.py:1132: FutureWarning: `resume_download` is deprecated and will be removed in version 1.0.0. Downloads always resume when possible. If you want to force a new download, use `force_download=True`.\n",
      "  warnings.warn(\n",
      "/tmp/ipykernel_291979/474897665.py:45: SettingWithCopyWarning: \n",
      "A value is trying to be set on a copy of a slice from a DataFrame\n",
      "\n",
      "See the caveats in the documentation: https://pandas.pydata.org/pandas-docs/stable/user_guide/indexing.html#returning-a-view-versus-a-copy\n",
      "  time_x_df['Experimental_Duplicate_ID'][index_in_df]=get_duplicate_ids(duplicateIDs_index_in_df)\n"
     ]
    },
    {
     "name": "stdout",
     "output_type": "stream",
     "text": [
      "Accuracy for topic 18 for matching id is %81.21\n",
      "Accuracy for topic 18 for duplicate or not is %81.21\n",
      "Recall for topic 18 is %84.98\n",
      "Precision for topic 18 is %100.00\n",
      "F1 score for topic 18 is %91.88\n"
     ]
    },
    {
     "name": "stderr",
     "output_type": "stream",
     "text": [
      "/home/claney/anaconda3/lib/python3.11/site-packages/huggingface_hub/file_download.py:1132: FutureWarning: `resume_download` is deprecated and will be removed in version 1.0.0. Downloads always resume when possible. If you want to force a new download, use `force_download=True`.\n",
      "  warnings.warn(\n",
      "/tmp/ipykernel_291979/474897665.py:45: SettingWithCopyWarning: \n",
      "A value is trying to be set on a copy of a slice from a DataFrame\n",
      "\n",
      "See the caveats in the documentation: https://pandas.pydata.org/pandas-docs/stable/user_guide/indexing.html#returning-a-view-versus-a-copy\n",
      "  time_x_df['Experimental_Duplicate_ID'][index_in_df]=get_duplicate_ids(duplicateIDs_index_in_df)\n"
     ]
    },
    {
     "name": "stdout",
     "output_type": "stream",
     "text": [
      "Accuracy for topic 19 for matching id is %78.90\n",
      "Accuracy for topic 19 for duplicate or not is %78.90\n",
      "Recall for topic 19 is %82.13\n",
      "Precision for topic 19 is %100.00\n",
      "F1 score for topic 19 is %90.19\n"
     ]
    },
    {
     "name": "stderr",
     "output_type": "stream",
     "text": [
      "/home/claney/anaconda3/lib/python3.11/site-packages/huggingface_hub/file_download.py:1132: FutureWarning: `resume_download` is deprecated and will be removed in version 1.0.0. Downloads always resume when possible. If you want to force a new download, use `force_download=True`.\n",
      "  warnings.warn(\n",
      "/tmp/ipykernel_291979/474897665.py:45: SettingWithCopyWarning: \n",
      "A value is trying to be set on a copy of a slice from a DataFrame\n",
      "\n",
      "See the caveats in the documentation: https://pandas.pydata.org/pandas-docs/stable/user_guide/indexing.html#returning-a-view-versus-a-copy\n",
      "  time_x_df['Experimental_Duplicate_ID'][index_in_df]=get_duplicate_ids(duplicateIDs_index_in_df)\n"
     ]
    },
    {
     "name": "stdout",
     "output_type": "stream",
     "text": [
      "Accuracy for topic 20 for matching id is %83.23\n",
      "Accuracy for topic 20 for duplicate or not is %83.23\n",
      "Recall for topic 20 is %86.40\n",
      "Precision for topic 20 is %100.00\n",
      "F1 score for topic 20 is %92.70\n"
     ]
    },
    {
     "name": "stderr",
     "output_type": "stream",
     "text": [
      "/home/claney/anaconda3/lib/python3.11/site-packages/huggingface_hub/file_download.py:1132: FutureWarning: `resume_download` is deprecated and will be removed in version 1.0.0. Downloads always resume when possible. If you want to force a new download, use `force_download=True`.\n",
      "  warnings.warn(\n",
      "/tmp/ipykernel_291979/474897665.py:45: SettingWithCopyWarning: \n",
      "A value is trying to be set on a copy of a slice from a DataFrame\n",
      "\n",
      "See the caveats in the documentation: https://pandas.pydata.org/pandas-docs/stable/user_guide/indexing.html#returning-a-view-versus-a-copy\n",
      "  time_x_df['Experimental_Duplicate_ID'][index_in_df]=get_duplicate_ids(duplicateIDs_index_in_df)\n"
     ]
    },
    {
     "name": "stdout",
     "output_type": "stream",
     "text": [
      "Accuracy for topic 21 for matching id is %85.29\n",
      "Accuracy for topic 21 for duplicate or not is %85.29\n",
      "Recall for topic 21 is %87.10\n",
      "Precision for topic 21 is %100.00\n",
      "F1 score for topic 21 is %93.11\n"
     ]
    },
    {
     "name": "stderr",
     "output_type": "stream",
     "text": [
      "/home/claney/anaconda3/lib/python3.11/site-packages/huggingface_hub/file_download.py:1132: FutureWarning: `resume_download` is deprecated and will be removed in version 1.0.0. Downloads always resume when possible. If you want to force a new download, use `force_download=True`.\n",
      "  warnings.warn(\n",
      "/tmp/ipykernel_291979/474897665.py:45: SettingWithCopyWarning: \n",
      "A value is trying to be set on a copy of a slice from a DataFrame\n",
      "\n",
      "See the caveats in the documentation: https://pandas.pydata.org/pandas-docs/stable/user_guide/indexing.html#returning-a-view-versus-a-copy\n",
      "  time_x_df['Experimental_Duplicate_ID'][index_in_df]=get_duplicate_ids(duplicateIDs_index_in_df)\n"
     ]
    },
    {
     "name": "stdout",
     "output_type": "stream",
     "text": [
      "Accuracy for topic 22 for matching id is %86.00\n",
      "Accuracy for topic 22 for duplicate or not is %86.00\n",
      "Recall for topic 22 is %87.49\n",
      "Precision for topic 22 is %100.00\n",
      "F1 score for topic 22 is %93.33\n"
     ]
    },
    {
     "name": "stderr",
     "output_type": "stream",
     "text": [
      "/home/claney/anaconda3/lib/python3.11/site-packages/huggingface_hub/file_download.py:1132: FutureWarning: `resume_download` is deprecated and will be removed in version 1.0.0. Downloads always resume when possible. If you want to force a new download, use `force_download=True`.\n",
      "  warnings.warn(\n",
      "/tmp/ipykernel_291979/474897665.py:45: SettingWithCopyWarning: \n",
      "A value is trying to be set on a copy of a slice from a DataFrame\n",
      "\n",
      "See the caveats in the documentation: https://pandas.pydata.org/pandas-docs/stable/user_guide/indexing.html#returning-a-view-versus-a-copy\n",
      "  time_x_df['Experimental_Duplicate_ID'][index_in_df]=get_duplicate_ids(duplicateIDs_index_in_df)\n"
     ]
    },
    {
     "name": "stdout",
     "output_type": "stream",
     "text": [
      "Accuracy for topic 23 for matching id is %82.48\n",
      "Accuracy for topic 23 for duplicate or not is %82.48\n",
      "Recall for topic 23 is %85.22\n",
      "Precision for topic 23 is %100.00\n",
      "F1 score for topic 23 is %92.02\n"
     ]
    },
    {
     "name": "stderr",
     "output_type": "stream",
     "text": [
      "/home/claney/anaconda3/lib/python3.11/site-packages/huggingface_hub/file_download.py:1132: FutureWarning: `resume_download` is deprecated and will be removed in version 1.0.0. Downloads always resume when possible. If you want to force a new download, use `force_download=True`.\n",
      "  warnings.warn(\n",
      "/tmp/ipykernel_291979/474897665.py:45: SettingWithCopyWarning: \n",
      "A value is trying to be set on a copy of a slice from a DataFrame\n",
      "\n",
      "See the caveats in the documentation: https://pandas.pydata.org/pandas-docs/stable/user_guide/indexing.html#returning-a-view-versus-a-copy\n",
      "  time_x_df['Experimental_Duplicate_ID'][index_in_df]=get_duplicate_ids(duplicateIDs_index_in_df)\n"
     ]
    },
    {
     "name": "stdout",
     "output_type": "stream",
     "text": [
      "Accuracy for topic 24 for matching id is %85.19\n",
      "Accuracy for topic 24 for duplicate or not is %85.19\n",
      "Recall for topic 24 is %87.76\n",
      "Precision for topic 24 is %100.00\n",
      "F1 score for topic 24 is %93.48\n"
     ]
    },
    {
     "name": "stderr",
     "output_type": "stream",
     "text": [
      "/home/claney/anaconda3/lib/python3.11/site-packages/huggingface_hub/file_download.py:1132: FutureWarning: `resume_download` is deprecated and will be removed in version 1.0.0. Downloads always resume when possible. If you want to force a new download, use `force_download=True`.\n",
      "  warnings.warn(\n",
      "/tmp/ipykernel_291979/474897665.py:45: SettingWithCopyWarning: \n",
      "A value is trying to be set on a copy of a slice from a DataFrame\n",
      "\n",
      "See the caveats in the documentation: https://pandas.pydata.org/pandas-docs/stable/user_guide/indexing.html#returning-a-view-versus-a-copy\n",
      "  time_x_df['Experimental_Duplicate_ID'][index_in_df]=get_duplicate_ids(duplicateIDs_index_in_df)\n"
     ]
    },
    {
     "name": "stdout",
     "output_type": "stream",
     "text": [
      "Accuracy for topic 25 for matching id is %85.74\n",
      "Accuracy for topic 25 for duplicate or not is %85.74\n",
      "Recall for topic 25 is %87.78\n",
      "Precision for topic 25 is %100.00\n",
      "F1 score for topic 25 is %93.49\n"
     ]
    },
    {
     "name": "stderr",
     "output_type": "stream",
     "text": [
      "/home/claney/anaconda3/lib/python3.11/site-packages/huggingface_hub/file_download.py:1132: FutureWarning: `resume_download` is deprecated and will be removed in version 1.0.0. Downloads always resume when possible. If you want to force a new download, use `force_download=True`.\n",
      "  warnings.warn(\n"
     ]
    },
    {
     "name": "stdout",
     "output_type": "stream",
     "text": [
      "Accuracy for topic 26 for matching id is %85.20\n",
      "Accuracy for topic 26 for duplicate or not is %85.20\n",
      "Recall for topic 26 is %86.29\n",
      "Precision for topic 26 is %100.00\n",
      "F1 score for topic 26 is %92.64\n"
     ]
    },
    {
     "name": "stderr",
     "output_type": "stream",
     "text": [
      "/tmp/ipykernel_291979/474897665.py:45: SettingWithCopyWarning: \n",
      "A value is trying to be set on a copy of a slice from a DataFrame\n",
      "\n",
      "See the caveats in the documentation: https://pandas.pydata.org/pandas-docs/stable/user_guide/indexing.html#returning-a-view-versus-a-copy\n",
      "  time_x_df['Experimental_Duplicate_ID'][index_in_df]=get_duplicate_ids(duplicateIDs_index_in_df)\n"
     ]
    }
   ],
   "source": [
    "\n",
    "# Initialize lists to store the results\n",
    "#for 85% similarity b\n",
    "accuracy_values = []\n",
    "binary_accuracy_values = []\n",
    "recall_values = []\n",
    "precision_values = []\n",
    "f1_values = []\n",
    "time_dfs=quarterly_dfs\n",
    "for x in range(count): #counts is from when the dataframe was split into time \n",
    "    df = time_dfs[x]\n",
    "\n",
    "    df['Experimental_Duplicate_ID'] = getDuplicateBugIDS(0.95, df)\n",
    "    accuracyVal = accuracy(df) * 100\n",
    "    accuracy_values.append(accuracyVal)\n",
    "    print(f\"Accuracy for topic {x} for matching id is %{accuracyVal:.2f}\")\n",
    "\n",
    "    experimentalisDuplicate(df)\n",
    "    binaryAccuracyVal = binaryAccuracy(df) * 100\n",
    "    binary_accuracy_values.append(binaryAccuracyVal)\n",
    "    print(f\"Accuracy for topic {x} for duplicate or not is %{binaryAccuracyVal:.2f}\")\n",
    "\n",
    "    recallVal = recall(df) * 100\n",
    "    recall_values.append(recallVal)\n",
    "    print(f\"Recall for topic {x} is %{recallVal:.2f}\")\n",
    "\n",
    "    precisionVal = precision(df) * 100\n",
    "    precision_values.append(precisionVal)\n",
    "    print(f\"Precision for topic {x} is %{precisionVal:.2f}\")\n",
    "\n",
    "    f1Val = f1(df) * 100\n",
    "    f1_values.append(f1Val)\n",
    "    print(f\"F1 score for topic {x} is %{f1Val:.2f}\")\n"
   ]
  },
  {
   "cell_type": "code",
   "execution_count": null,
   "id": "5acaf010",
   "metadata": {},
   "outputs": [],
   "source": []
  },
  {
   "cell_type": "markdown",
   "id": "0c094bd5",
   "metadata": {},
   "source": [
    "# Averages"
   ]
  },
  {
   "cell_type": "code",
   "execution_count": 45,
   "id": "1f583a5e",
   "metadata": {},
   "outputs": [
    {
     "name": "stdout",
     "output_type": "stream",
     "text": [
      "82.64709680189063\n",
      "82.64709680189063\n",
      "85.49167079176021\n",
      "99.98227287116175\n",
      "92.15260406985833\n"
     ]
    }
   ],
   "source": [
    "import statistics\n",
    "print(statistics.mean(accuracy_values))\n",
    "print(statistics.mean(binary_accuracy_values))\n",
    "print(statistics.mean(recall_values))\n",
    "print(statistics.mean(precision_values))\n",
    "print(statistics.mean(f1_values))"
   ]
  },
  {
   "cell_type": "markdown",
   "id": "f21c2245-e24c-4375-b187-38cb5005aa7c",
   "metadata": {},
   "source": [
    " # Visualizations"
   ]
  },
  {
   "cell_type": "code",
   "execution_count": 43,
   "id": "8a124d1d-479a-4101-adbc-ac1847ba7857",
   "metadata": {},
   "outputs": [
    {
     "data": {
      "image/png": "[encoded data removed]",
      "text/plain": [
       "<Figure size 1400x800 with 1 Axes>"
      ]
     },
     "metadata": {},
     "output_type": "display_data"
    }
   ],
   "source": [
    "import numpy as np\n",
    "import matplotlib.pyplot as plt\n",
    "\n",
    "# Define the number of time intervals\n",
    "\n",
    "# Define the time intervals (e.g., hours)\n",
    "time_intervals = range(count)\n",
    "bar_width = 0.15\n",
    "index = np.arange(len(time_intervals))\n",
    "\n",
    "# Create the plot\n",
    "fig, ax = plt.subplots(figsize=(14, 8))\n",
    "\n",
    "# Define pastel rainbow colors\n",
    "colors = ['#FFB3BA', '#FFDFBA', '#FFFFBA', '#BAFFC9', '#BAE1FF']\n",
    "\n",
    "# Plot each set of values\n",
    "bar1 = plt.bar(index, accuracy_values, bar_width, label='Accuracy', color=colors[0])\n",
    "bar2 = plt.bar(index + bar_width, binary_accuracy_values, bar_width, label='Binary Accuracy', color=colors[1])\n",
    "bar3 = plt.bar(index + 2 * bar_width, recall_values, bar_width, label='Recall', color=colors[2])\n",
    "bar4 = plt.bar(index + 3 * bar_width, precision_values, bar_width, label='Precision', color=colors[3])\n",
    "bar5 = plt.bar(index + 4 * bar_width, f1_values, bar_width, label='F1 Score', color=colors[4])\n",
    "\n",
    "# Set labels, title, and legend\n",
    "plt.xlabel('Time Interval')\n",
    "plt.ylabel('Percentage')\n",
    "plt.title('Performance Metrics by Time Interval')\n",
    "plt.xticks(index + 2 * bar_width, time_intervals)\n",
    "plt.legend()\n",
    "\n",
    "# Adjust layout and show plot\n",
    "plt.tight_layout()\n",
    "plt.show()\n"
   ]
  },
  {
   "cell_type": "code",
   "execution_count": null,
   "id": "e6c8749c",
   "metadata": {},
   "outputs": [],
   "source": []
  },
  {
   "cell_type": "code",
   "execution_count": null,
   "id": "e09152a7",
   "metadata": {},
   "outputs": [],
   "source": []
  }
 ],
 "metadata": {
  "kernelspec": {
   "display_name": "Python 3 (ipykernel)",
   "language": "python",
   "name": "python3"
  },
  "language_info": {
   "codemirror_mode": {
    "name": "ipython",
    "version": 3
   },
   "file_extension": ".py",
   "mimetype": "text/x-python",
   "name": "python",
   "nbconvert_exporter": "python",
   "pygments_lexer": "ipython3",
   "version": "3.11.5"
  }
 },
 "nbformat": 4,
 "nbformat_minor": 5
}
