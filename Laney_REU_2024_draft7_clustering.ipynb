{
 "cells": [
  {
   "cell_type": "code",
   "execution_count": 1,
   "id": "33cb93d2-735f-4dfa-ae30-6ba878d28b87",
   "metadata": {},
   "outputs": [],
   "source": [
    "# This version is without chatGPT summarization just cosine "
   ]
  },
  {
   "cell_type": "code",
   "execution_count": 27,
   "id": "f93a284e",
   "metadata": {
    "scrolled": true
   },
   "outputs": [],
   "source": [
    "\n",
    "import zipfile\n",
    "import os\n",
    "import pandas as pd\n",
    "import numpy as np\n",
    "import scipy.stats as st\n",
    "import matplotlib.pyplot as plt\n",
    "import seaborn as sns\n",
    "import requests\n",
    "import xml.etree.ElementTree as ET\n",
    "import tensorflow as t\n",
    "import torch\n",
    "from sklearn.feature_extraction.text import TfidfVectorizer\n",
    "from sklearn.cluster import KMeans\n",
    "from sklearn.metrics.pairwise import cosine_similarity\n",
    "from sklearn.metrics import silhouette_score\n",
    "from sentence_transformers import SentenceTransformer, util\n",
    "from sklearn.model_selection import train_test_split\n",
    "from sklearn.preprocessing import StandardScaler\n",
    "from sklearn.neighbors import KNeighborsClassifier\n",
    "from sklearn.metrics import classification_report, confusion_matrix"
   ]
  },
  {
   "cell_type": "markdown",
   "id": "ef981db0",
   "metadata": {},
   "source": [
    "# Unzipping csv file"
   ]
  },
  {
   "cell_type": "code",
   "execution_count": 3,
   "id": "d7c043fc",
   "metadata": {},
   "outputs": [],
   "source": [
    "\n",
    "uploaded_zip = '/home/claney/EclipsePlatform/eclipse_platform.zip'\n",
    "extract_dir = '/home/claney/extracted'\n",
    "if not os.path.exists(extract_dir):\n",
    "    os.makedirs(extract_dir)\n",
    "with zipfile.ZipFile(uploaded_zip, 'r') as zip_ref:\n",
    "    zip_ref.extractall(extract_dir)\n",
    "\n",
    "csv_file = os.path.join(extract_dir, 'eclipse_platform.csv')\n",
    "full_df = pd.read_csv(csv_file)"
   ]
  },
  {
   "cell_type": "code",
   "execution_count": 4,
   "id": "34e21509",
   "metadata": {},
   "outputs": [],
   "source": [
    "full_df.fillna(0,inplace=True)"
   ]
  },
  {
   "cell_type": "markdown",
   "id": "83de5f3d",
   "metadata": {},
   "source": [
    "# Spliting testing and training"
   ]
  },
  {
   "cell_type": "code",
   "execution_count": 5,
   "id": "099a10a7",
   "metadata": {},
   "outputs": [],
   "source": [
    "length=len(full_df)\n",
    "split_index=int(.8*length)\n",
    "df=full_df.iloc[:split_index] #df=training set\n"
   ]
  },
  {
   "cell_type": "markdown",
   "id": "feff3889",
   "metadata": {},
   "source": [
    "# Creating isDuplicate column"
   ]
  },
  {
   "cell_type": "code",
   "execution_count": 6,
   "id": "d6ed45e5",
   "metadata": {},
   "outputs": [
    {
     "name": "stdout",
     "output_type": "stream",
     "text": [
      "0        0\n",
      "1        0\n",
      "2        0\n",
      "3        0\n",
      "4        0\n",
      "        ..\n",
      "68119    0\n",
      "68120    0\n",
      "68121    0\n",
      "68122    0\n",
      "68123    0\n",
      "Name: isDuplicate, Length: 68124, dtype: int64\n"
     ]
    },
    {
     "name": "stderr",
     "output_type": "stream",
     "text": [
      "/tmp/ipykernel_268298/1537637410.py:3: SettingWithCopyWarning: \n",
      "A value is trying to be set on a copy of a slice from a DataFrame.\n",
      "Try using .loc[row_indexer,col_indexer] = value instead\n",
      "\n",
      "See the caveats in the documentation: https://pandas.pydata.org/pandas-docs/stable/user_guide/indexing.html#returning-a-view-versus-a-copy\n",
      "  df['isDuplicate'] = df['Duplicated_issue'].apply(lambda x: is_duplicate(x))\n"
     ]
    }
   ],
   "source": [
    "def is_duplicate(val):\n",
    "    return 1 if val !=0.0 else 0\n",
    "df['isDuplicate'] = df['Duplicated_issue'].apply(lambda x: is_duplicate(x))\n",
    "\n",
    "print(df['isDuplicate'])"
   ]
  },
  {
   "cell_type": "code",
   "execution_count": 7,
   "id": "3121314f",
   "metadata": {},
   "outputs": [
    {
     "name": "stdout",
     "output_type": "stream",
     "text": [
      "isDuplicate\n",
      "0    56126\n",
      "1    11998\n",
      "Name: count, dtype: int64\n"
     ]
    },
    {
     "data": {
      "image/png": "[encoded data removed]",
      "text/plain": [
       "<Figure size 800x600 with 1 Axes>"
      ]
     },
     "metadata": {},
     "output_type": "display_data"
    }
   ],
   "source": [
    "import matplotlib.pyplot as plt\n",
    "\n",
    "# Assuming 'df' is your DataFrame and 'isDuplicate' is the column indicating duplicates\n",
    "duplicate_counts = df['isDuplicate'].value_counts()\n",
    "\n",
    "# Check the contents of duplicate_counts\n",
    "print(duplicate_counts)\n",
    "\n",
    "# Create a list of labels matching the length of duplicate_counts\n",
    "# Ensure the labels match the values in the 'isDuplicate' column\n",
    "labels = duplicate_counts.index.tolist()\n",
    "\n",
    "# Define colors (length should match number of unique values in 'isDuplicate')\n",
    "colors = ['#FFB6C1', '#D8BFD8'][:len(labels)]\n",
    "\n",
    "# Plotting the pie chart\n",
    "plt.figure(figsize=(8, 6))\n",
    "plt.pie(duplicate_counts, labels=labels, autopct='%1.1f%%', startangle=140, colors=colors)\n",
    "plt.title('Percentage of Duplicates vs. Non-Duplicates')\n",
    "plt.axis('equal')\n",
    "plt.show()\n"
   ]
  },
  {
   "cell_type": "markdown",
   "id": "ecb58971-03bf-4973-9c3d-888660521a17",
   "metadata": {},
   "source": [
    "# Preprocessing"
   ]
  },
  {
   "cell_type": "code",
   "execution_count": 8,
   "id": "809e2c8b-63f1-4f0a-b7de-c40aa25294be",
   "metadata": {},
   "outputs": [
    {
     "name": "stderr",
     "output_type": "stream",
     "text": [
      "/tmp/ipykernel_268298/77102330.py:1: SettingWithCopyWarning: \n",
      "A value is trying to be set on a copy of a slice from a DataFrame.\n",
      "Try using .loc[row_indexer,col_indexer] = value instead\n",
      "\n",
      "See the caveats in the documentation: https://pandas.pydata.org/pandas-docs/stable/user_guide/indexing.html#returning-a-view-versus-a-copy\n",
      "  df['Description'] = df['Description'].astype(str).fillna('')\n"
     ]
    }
   ],
   "source": [
    "df['Description'] = df['Description'].astype(str).fillna('')"
   ]
  },
  {
   "cell_type": "code",
   "execution_count": 9,
   "id": "080f6812",
   "metadata": {},
   "outputs": [
    {
     "name": "stdout",
     "output_type": "stream",
     "text": [
      "0        - Setup a project that contains a *.gif resour...\n",
      "1        Opening repository resource always open the de...\n",
      "2        KM (10/2/2001 5:55:18 PM); \\tThis PR about the...\n",
      "3        - become synchronized with some project in a r...\n",
      "4        For getting/setting the managed state of a res...\n",
      "                               ...                        \n",
      "68119    Build ID: 3.3 (I am not sure what You mean by ...\n",
      "68120    There are several NPEs within the UI session t...\n",
      "68121    I20080501-0100; ; Now that were using the coll...\n",
      "68122    Created attachment 98318; screenshot; ; I20080...\n",
      "68123    Build ID: M20080221-1800; ; Steps To Reproduce...\n",
      "Name: full_text_data, Length: 68124, dtype: object\n"
     ]
    },
    {
     "name": "stderr",
     "output_type": "stream",
     "text": [
      "/tmp/ipykernel_268298/3345744263.py:2: SettingWithCopyWarning: \n",
      "A value is trying to be set on a copy of a slice from a DataFrame.\n",
      "Try using .loc[row_indexer,col_indexer] = value instead\n",
      "\n",
      "See the caveats in the documentation: https://pandas.pydata.org/pandas-docs/stable/user_guide/indexing.html#returning-a-view-versus-a-copy\n",
      "  df['full_text_data']=df['Description']+df['Title']\n",
      "/tmp/ipykernel_268298/3345744263.py:4: SettingWithCopyWarning: \n",
      "A value is trying to be set on a copy of a slice from a DataFrame.\n",
      "Try using .loc[row_indexer,col_indexer] = value instead\n",
      "\n",
      "See the caveats in the documentation: https://pandas.pydata.org/pandas-docs/stable/user_guide/indexing.html#returning-a-view-versus-a-copy\n",
      "  df['full_text_data']=df['full_text_data'].fillna('')\n"
     ]
    }
   ],
   "source": [
    "#creating freeform textual data column\n",
    "df['full_text_data']=df['Description']+df['Title']\n",
    "print(df['full_text_data'])\n",
    "df['full_text_data']=df['full_text_data'].fillna('')"
   ]
  },
  {
   "cell_type": "code",
   "execution_count": 10,
   "id": "42964e08",
   "metadata": {},
   "outputs": [],
   "source": [
    "vectorizer = TfidfVectorizer(stop_words='english')\n",
    "X = vectorizer.fit_transform(df['full_text_data'])"
   ]
  },
  {
   "cell_type": "markdown",
   "id": "b9f4c928",
   "metadata": {},
   "source": [
    "# K-Means Clustering"
   ]
  },
  {
   "cell_type": "code",
   "execution_count": 11,
   "id": "36587615",
   "metadata": {},
   "outputs": [
    {
     "name": "stderr",
     "output_type": "stream",
     "text": [
      "/home/claney/anaconda3/lib/python3.11/site-packages/sklearn/cluster/_kmeans.py:1412: FutureWarning: The default value of `n_init` will change from 10 to 'auto' in 1.4. Set the value of `n_init` explicitly to suppress the warning\n",
      "  super()._check_params_vs_input(X, default_n_init=10)\n"
     ]
    },
    {
     "name": "stdout",
     "output_type": "stream",
     "text": [
      "Fit 2 clusters\n"
     ]
    },
    {
     "name": "stderr",
     "output_type": "stream",
     "text": [
      "/home/claney/anaconda3/lib/python3.11/site-packages/sklearn/cluster/_kmeans.py:1412: FutureWarning: The default value of `n_init` will change from 10 to 'auto' in 1.4. Set the value of `n_init` explicitly to suppress the warning\n",
      "  super()._check_params_vs_input(X, default_n_init=10)\n"
     ]
    },
    {
     "name": "stdout",
     "output_type": "stream",
     "text": [
      "Fit 4 clusters\n",
      "Fit 6 clusters\n",
      "Fit 8 clusters\n",
      "Fit 10 clusters\n",
      "Fit 12 clusters\n",
      "Fit 14 clusters\n",
      "Fit 16 clusters\n",
      "Fit 18 clusters\n",
      "Fit 20 clusters\n"
     ]
    },
    {
     "data": {
      "image/png": "[encoded data removed]",
      "text/plain": [
       "<Figure size 640x480 with 1 Axes>"
      ]
     },
     "metadata": {},
     "output_type": "display_data"
    }
   ],
   "source": [
    "\n",
    "\n",
    "# Step 2: Finding the optimal number of clusters using the Elbow Method\n",
    "#The elbow method is a graphical method for finding the optimal K value in a k-means clustering algorithm. \n",
    "\n",
    "def find_optimal_clusters(data, max_k):\n",
    "    iters = range(2, max_k+1, 2)\n",
    "    \n",
    "    sse = []\n",
    "    for k in iters:\n",
    "        kmeans = KMeans(n_clusters=k, random_state=42)\n",
    "        kmeans.fit(data)\n",
    "        sse.append(kmeans.inertia_)\n",
    "        print(f'Fit {k} clusters')\n",
    "\n",
    "    f, ax = plt.subplots(1, 1)\n",
    "    ax.plot(iters, sse, marker='o')\n",
    "    ax.set_xlabel('Cluster Centers')\n",
    "    ax.set_xticks(iters)\n",
    "    ax.set_xticklabels(iters)\n",
    "    ax.set_ylabel('SSE')\n",
    "    ax.set_title('SSE by Cluster Center Plot')\n",
    "    plt.show()\n",
    "\n",
    "find_optimal_clusters(X, 20)\n",
    "\n",
    "# Based on the plot, choose the optimal number of clusters\n",
    "optimal_k = 10\n",
    "\n"
   ]
  },
  {
   "cell_type": "code",
   "execution_count": 12,
   "id": "4468e1f1",
   "metadata": {},
   "outputs": [
    {
     "name": "stdout",
     "output_type": "stream",
     "text": [
      "       Issue_id Priority Component  Duplicated_issue  \\\n",
      "0             1       P3      Team               0.0   \n",
      "1             2       P5      Team               0.0   \n",
      "2             3       P5      Team               0.0   \n",
      "3             4       P5      Team               0.0   \n",
      "4             5       P3      Team               0.0   \n",
      "...         ...      ...       ...               ...   \n",
      "68119    229777       P3        UI               0.0   \n",
      "68120    229779       P3        UI               0.0   \n",
      "68121    229782       P3        UI               0.0   \n",
      "68122    229789       P3        UI               0.0   \n",
      "68123    229792       P3      Team               0.0   \n",
      "\n",
      "                                                   Title  \\\n",
      "0        Usability issue with external editors (1GE6IRL)   \n",
      "1      Opening repository resources doesnt honor type...   \n",
      "2              Sync does not indicate deletion (1GIEN83)   \n",
      "3      need better error message if catching up over ...   \n",
      "4      ISharingManager sharing API inconsistent (1GAU...   \n",
      "...                                                  ...   \n",
      "68119  [Viewers] Wrong argument in the first statemen...   \n",
      "68120                           NPE in performance tests   \n",
      "68121                 Performance tests for ICU Collator   \n",
      "68122  [Examples] examples plugins create duplicate m...   \n",
      "68123  Collapse All and Expand All buttons are separated   \n",
      "\n",
      "                                             Description    Status  \\\n",
      "0      - Setup a project that contains a *.gif resour...    CLOSED   \n",
      "1      Opening repository resource always open the de...  RESOLVED   \n",
      "2      KM (10/2/2001 5:55:18 PM); \\tThis PR about the...  RESOLVED   \n",
      "3      - become synchronized with some project in a r...  RESOLVED   \n",
      "4      For getting/setting the managed state of a res...  RESOLVED   \n",
      "...                                                  ...       ...   \n",
      "68119  Build ID: 3.3 (I am not sure what You mean by ...  RESOLVED   \n",
      "68120  There are several NPEs within the UI session t...  VERIFIED   \n",
      "68121  I20080501-0100; ; Now that were using the coll...  VERIFIED   \n",
      "68122  Created attachment 98318; screenshot; ; I20080...  VERIFIED   \n",
      "68123  Build ID: M20080221-1800; ; Steps To Reproduce...  RESOLVED   \n",
      "\n",
      "        Resolution Version               Created_time  \\\n",
      "0            FIXED     2.0  2001-10-10 21:34:00 -0400   \n",
      "1            FIXED     2.0  2001-10-10 21:34:00 -0400   \n",
      "2            FIXED     2.0  2001-10-10 21:34:00 -0400   \n",
      "3            FIXED     2.0  2001-10-10 21:34:00 -0400   \n",
      "4          WONTFIX     2.0  2001-10-10 21:34:00 -0400   \n",
      "...            ...     ...                        ...   \n",
      "68119        FIXED     3.3  2008-05-01 09:47:00 -0400   \n",
      "68120        FIXED     3.4  2008-05-01 09:52:00 -0400   \n",
      "68121        FIXED     3.4  2008-05-01 10:05:00 -0400   \n",
      "68122        FIXED     3.4  2008-05-01 11:02:00 -0400   \n",
      "68123  NOT_ECLIPSE   3.3.2  2008-05-01 11:20:00 -0400   \n",
      "\n",
      "                   Resolved_time  isDuplicate  \\\n",
      "0      2012-02-09 15:57:47 -0500            0   \n",
      "1      2002-05-07 10:33:56 -0400            0   \n",
      "2      2010-05-07 10:28:53 -0400            0   \n",
      "3      2002-03-01 16:27:31 -0500            0   \n",
      "4      2008-08-15 08:04:36 -0400            0   \n",
      "...                          ...          ...   \n",
      "68119  2008-05-10 10:06:07 -0400            0   \n",
      "68120  2008-05-20 10:12:14 -0400            0   \n",
      "68121  2009-06-01 14:25:12 -0400            0   \n",
      "68122  2008-05-30 21:57:57 -0400            0   \n",
      "68123  2008-05-07 07:06:41 -0400            0   \n",
      "\n",
      "                                          full_text_data  Cluster  \n",
      "0      - Setup a project that contains a *.gif resour...        6  \n",
      "1      Opening repository resource always open the de...        2  \n",
      "2      KM (10/2/2001 5:55:18 PM); \\tThis PR about the...        6  \n",
      "3      - become synchronized with some project in a r...        6  \n",
      "4      For getting/setting the managed state of a res...        5  \n",
      "...                                                  ...      ...  \n",
      "68119  Build ID: 3.3 (I am not sure what You mean by ...        5  \n",
      "68120  There are several NPEs within the UI session t...        5  \n",
      "68121  I20080501-0100; ; Now that were using the coll...        5  \n",
      "68122  Created attachment 98318; screenshot; ; I20080...        5  \n",
      "68123  Build ID: M20080221-1800; ; Steps To Reproduce...        5  \n",
      "\n",
      "[68124 rows x 14 columns]\n"
     ]
    },
    {
     "name": "stderr",
     "output_type": "stream",
     "text": [
      "/tmp/ipykernel_268298/3811319238.py:6: SettingWithCopyWarning: \n",
      "A value is trying to be set on a copy of a slice from a DataFrame.\n",
      "Try using .loc[row_indexer,col_indexer] = value instead\n",
      "\n",
      "See the caveats in the documentation: https://pandas.pydata.org/pandas-docs/stable/user_guide/indexing.html#returning-a-view-versus-a-copy\n",
      "  df['Cluster'] = clusters\n"
     ]
    }
   ],
   "source": [
    "# Step 3: Apply KMeans Clustering\n",
    "kmeans = KMeans(n_clusters=optimal_k, random_state=42)\n",
    "clusters = kmeans.fit_predict(X)\n",
    "\n",
    "\n",
    "df['Cluster'] = clusters\n",
    "\n",
    "# Displaying the clustered bug reports\n",
    "print(df)\n"
   ]
  },
  {
   "cell_type": "code",
   "execution_count": 13,
   "id": "a41f491c",
   "metadata": {},
   "outputs": [
    {
     "name": "stdout",
     "output_type": "stream",
     "text": [
      "       Issue_id Priority Component  Duplicated_issue  \\\n",
      "145         146       P3      Team             170.0   \n",
      "162         163       P3      Team               0.0   \n",
      "169         170       P3      Team               0.0   \n",
      "233         234       P3      Team               0.0   \n",
      "235         236       P5      Team               0.0   \n",
      "...         ...      ...       ...               ...   \n",
      "68079    229473       P3        UI               0.0   \n",
      "68093    229587       P3     Debug               0.0   \n",
      "68108    229712       P3        UI          229473.0   \n",
      "68114    229748       P3      Team               0.0   \n",
      "68116    229765       P3        UI               0.0   \n",
      "\n",
      "                                                   Title  \\\n",
      "145         UnknownHostException: Repositories (1GEWRWG)   \n",
      "162                exception when disconnected (1GF7QCA)   \n",
      "169    InterruptedIOException: connection failure (1G...   \n",
      "233                                NPE in sync (1GJ4W10)   \n",
      "235           Exceptions starting up workspace (1GJ85XQ)   \n",
      "...                                                  ...   \n",
      "68079  [Contributions] ShowInMenu dispose is attempti...   \n",
      "68093   Eclipse brings up an error while open Run Dialog   \n",
      "68108  NPE in MenuServiceFactory likely from File->Re...   \n",
      "68114          Widget is disposed error in the .log file   \n",
      "68116  [CommonNavigator] NPE opening .project file in...   \n",
      "\n",
      "                                             Description    Status  \\\n",
      "145    UnknownHostException is not caught when the ho...  RESOLVED   \n",
      "162    AK (6/12/01 4:55:24 PM); \\ti got this exceptio...  VERIFIED   \n",
      "169    When the connection to the repositories fails;...  VERIFIED   \n",
      "233    Did a sync of Eclipse UI.  It came up in the c...  RESOLVED   \n",
      "235    I have started/shutdown my workspace a couple ...  RESOLVED   \n",
      "...                                                  ...       ...   \n",
      "68079  I20080429-0100; ; I got this by quitting Eclip...  VERIFIED   \n",
      "68093  Just after click at Open Run Dialog... this er...  RESOLVED   \n",
      "68108  I found two of these in my .log.  I see restar...  RESOLVED   \n",
      "68114  Using eclipse.buildId=I20080427-2000; java.ful...  VERIFIED   \n",
      "68116  I20080430; ; When I self host Eclipse and try ...  VERIFIED   \n",
      "\n",
      "       Resolution Version               Created_time  \\\n",
      "145     DUPLICATE     2.0  2001-10-10 21:37:00 -0400   \n",
      "162         FIXED     2.0  2001-10-10 21:37:00 -0400   \n",
      "169         FIXED     2.0  2001-10-10 21:37:00 -0400   \n",
      "233         FIXED     2.0  2001-10-10 21:38:00 -0400   \n",
      "235       INVALID     2.0  2001-10-10 21:38:00 -0400   \n",
      "...           ...     ...                        ...   \n",
      "68079       FIXED     3.4  2008-04-29 16:36:00 -0400   \n",
      "68093  WORKSFORME   3.3.2  2008-04-30 06:09:00 -0400   \n",
      "68108   DUPLICATE     3.4  2008-04-30 15:57:00 -0400   \n",
      "68114       FIXED     3.4  2008-04-30 22:24:00 -0400   \n",
      "68116       FIXED     3.4  2008-05-01 08:09:00 -0400   \n",
      "\n",
      "                   Resolved_time  isDuplicate  \\\n",
      "145    2001-10-23 23:44:29 -0400            1   \n",
      "162    2001-10-23 23:45:08 -0400            0   \n",
      "169    2001-10-23 23:45:22 -0400            0   \n",
      "233    2002-03-22 11:04:38 -0500            0   \n",
      "235    2002-02-07 16:35:19 -0500            0   \n",
      "...                          ...          ...   \n",
      "68079  2008-05-01 10:35:06 -0400            0   \n",
      "68093  2009-02-11 09:11:40 -0500            0   \n",
      "68108  2008-04-30 16:04:40 -0400            1   \n",
      "68114  2008-05-19 11:33:44 -0400            0   \n",
      "68116  2009-04-28 14:07:48 -0400            0   \n",
      "\n",
      "                                          full_text_data  Cluster  \n",
      "145    UnknownHostException is not caught when the ho...        0  \n",
      "162    AK (6/12/01 4:55:24 PM); \\ti got this exceptio...        0  \n",
      "169    When the connection to the repositories fails;...        0  \n",
      "233    Did a sync of Eclipse UI.  It came up in the c...        0  \n",
      "235    I have started/shutdown my workspace a couple ...        0  \n",
      "...                                                  ...      ...  \n",
      "68079  I20080429-0100; ; I got this by quitting Eclip...        0  \n",
      "68093  Just after click at Open Run Dialog... this er...        0  \n",
      "68108  I found two of these in my .log.  I see restar...        0  \n",
      "68114  Using eclipse.buildId=I20080427-2000; java.ful...        0  \n",
      "68116  I20080430; ; When I self host Eclipse and try ...        0  \n",
      "\n",
      "[4353 rows x 14 columns]\n"
     ]
    }
   ],
   "source": [
    "# Split the DataFrame based on the 'Cluster' column\n",
    "grouped = df.groupby('Cluster')\n",
    "\n",
    "# Create individual DataFrames \n",
    "for cluster in grouped.groups.keys():\n",
    "    vars()[f'cluster_{cluster}_df'] = grouped.get_group(cluster)\n",
    "print(cluster_0_df)"
   ]
  },
  {
   "cell_type": "markdown",
   "id": "174ebc84",
   "metadata": {},
   "source": [
    "# Functions "
   ]
  },
  {
   "cell_type": "code",
   "execution_count": 14,
   "id": "61ab07d0",
   "metadata": {},
   "outputs": [],
   "source": [
    "def getDuplicateBugIDS(threshold_value,topic_x_df): \n",
    "    import torch\n",
    "    model = SentenceTransformer('paraphrase-MiniLM-L6-v2')\n",
    "    # Encode sentences and store the embeddings in the DataFrame\n",
    "    topic_x_df['embeddings'] = topic_x_df['full_text_data'].apply(lambda x: model.encode(x, convert_to_tensor=True))\n",
    "    # Convert embeddings to a tensor\n",
    "    embeddings = torch.stack(topic_x_df['embeddings'].tolist())\n",
    "    # Calculate cosine similarity\n",
    "    cosine_scores = util.pytorch_cos_sim(embeddings, embeddings)\n",
    "    numpy_array = cosine_scores.numpy()\n",
    "    # Reshape the NumPy array into a matrix\n",
    "    similarity_Matrix= numpy_array.reshape(cosine_scores.shape)\n",
    "    similarity_Matrix= np.round(similarity_Matrix, decimals=4)\n",
    "    # Function to filter rows based on condition\n",
    "    def filter_matrix(matrix, threshold):\n",
    "        filtered_matrix = []\n",
    "        for row in matrix:\n",
    "            if np.any((row > threshold) & (row < 1)): #<1 to igorne the sim. with itself \n",
    "                filtered_matrix.append(row)\n",
    "        return np.array(filtered_matrix)\n",
    "    # Filtering the matrix\n",
    "    filtered_matrix = filter_matrix(similarity_Matrix, threshold_value)\n",
    "    n = 0 #to iterate through\n",
    "    topic_x_df['Experimental_Duplicate_ID'] = np.nan  #intailly sets everything to null\n",
    "    while n < filtered_matrix.shape[0]:  # number of rows do this process to each row \n",
    "        matrix = filtered_matrix[n]\n",
    "        def find_position(matrix):  # finds position (index) of bug all other bugs are comparing to\n",
    "            result = np.where(matrix == 1.0)\n",
    "            return result[0][0]  # Extract the first index directly\n",
    "    \n",
    "        def get_duplicate_ids_index(matrix):  # finds index where there are most similar bugs to the bug at find_position\n",
    "            condition = np.logical_and(matrix > threshold_value, matrix < 1)\n",
    "            indices = np.argwhere(condition)\n",
    "            return indices\n",
    "        def get_duplicate_ids(matrix_indexs_of_duplicates):\n",
    "            duplicate_ids = \"\"\n",
    "            for row in matrix_indexs_of_duplicates:\n",
    "                for element in row:\n",
    "                    specific_row = topic_x_df.iloc[element]\n",
    "                    duplicate_ids = duplicate_ids + \" \" + str(specific_row['Issue_id'])\n",
    "            return duplicate_ids\n",
    "        index_in_df = find_position(matrix)  # index of selected bug\n",
    "        specific_row = topic_x_df.iloc[index_in_df]  # selects bug row in dataframe\n",
    "        duplicateIDs_index_in_df = get_duplicate_ids_index(matrix)  # index of duplicate bugs\n",
    "        topic_x_df['Experimental_Duplicate_ID'][index_in_df]=get_duplicate_ids(duplicateIDs_index_in_df)\n",
    "        n += 1  # to go through each row in the matrix\n",
    "    return topic_x_df['Experimental_Duplicate_ID']"
   ]
  },
  {
   "cell_type": "code",
   "execution_count": 15,
   "id": "7d19524f",
   "metadata": {},
   "outputs": [],
   "source": [
    "def accuracy(topic_x_df):\n",
    "    #a match is considered if there are any matching values in exp_ids and dup_ids \n",
    "       # Split the IDs by spaces and strip whitespace\n",
    "    topic_x_df.fillna(0,inplace=True) #fills with zeros for new column \n",
    "    exp_ids = topic_x_df['Experimental_Duplicate_ID'].astype(str).str.split().apply(lambda x: [i.strip() for i in x])\n",
    "    dup_ids = topic_x_df['Duplicated_issue'].astype(str).str.split().apply(lambda x: [i.strip() for i in x])\n",
    "    \n",
    "    # Convert all elements to strings to ensure consistent comparison\n",
    "    exp_ids = exp_ids.apply(lambda x: [float(i) for i in x])\n",
    "    dup_ids = dup_ids.apply(lambda x: [float(i) for i in x])\n",
    "    # Check for any matches for each row\n",
    "    matches = exp_ids.combine(dup_ids, lambda exp_list, dup_list: any(dup_id in exp_list for dup_id in dup_list))\n",
    "    \n",
    "    # Count the number of matches\n",
    "    num_matches = matches.sum()\n",
    "    accuracy=num_matches/len(topic_x_df)\n",
    "    return accuracy"
   ]
  },
  {
   "cell_type": "code",
   "execution_count": 16,
   "id": "b5cfff81",
   "metadata": {},
   "outputs": [],
   "source": [
    "def precision(topic_x_df):\n",
    "    topic_x_df.fillna(0,inplace=True) #fills with zeros for new column \n",
    "    exp_ids = topic_x_df['Experimental_Duplicate_ID'].astype(str).str.split().apply(lambda x: [i.strip() for i in x])\n",
    "    dup_ids = topic_x_df['Duplicated_issue'].astype(str).str.split().apply(lambda x: [i.strip() for i in x])\n",
    "    \n",
    "    # Convert all elements to strings to ensure consistent comparison\n",
    "    exp_ids = exp_ids.apply(lambda x: [float(i) for i in x])\n",
    "    dup_ids = dup_ids.apply(lambda x: [float(i) for i in x])\n",
    "    # Check for any matches for each row\n",
    "    matches = exp_ids.combine(dup_ids, lambda exp_list, dup_list: any(dup_id in exp_list for dup_id in dup_list))\n",
    "    \n",
    "    # Count the number of matches which is when the experiment and actual match aka true positive\n",
    "    truePositive = matches.sum()\n",
    "    #falsePositive is when the experimental duplicate id has a number but the actual one doesn't\n",
    "    falsePositives = ((topic_x_df['Duplicated_issue'] == 0) & (topic_x_df['Experimental_Duplicate_ID'] != 0)).sum()\n",
    "    precision= truePositive/(truePositive+falsePositives)\n",
    "    return precision\n",
    "    "
   ]
  },
  {
   "cell_type": "code",
   "execution_count": 17,
   "id": "8700283a",
   "metadata": {},
   "outputs": [],
   "source": [
    "def recall(topic_x_df):\n",
    "    topic_x_df.fillna(0,inplace=True) #fills with zeros for new column \n",
    "    exp_ids = topic_x_df['Experimental_Duplicate_ID'].astype(str).str.split().apply(lambda x: [i.strip() for i in x])\n",
    "    dup_ids = topic_x_df['Duplicated_issue'].astype(str).str.split().apply(lambda x: [i.strip() for i in x])\n",
    "    \n",
    "    # Convert all elements to strings to ensure consistent comparison\n",
    "    exp_ids = exp_ids.apply(lambda x: [float(i) for i in x])\n",
    "    dup_ids = dup_ids.apply(lambda x: [float(i) for i in x])\n",
    "    # Check for any matches for each row\n",
    "    matches = exp_ids.combine(dup_ids, lambda exp_list, dup_list: any(dup_id in exp_list for dup_id in dup_list))\n",
    "    \n",
    "    # Count the number of matches which is when the experiment and actual match aka true positive\n",
    "    truePositive = matches.sum()\n",
    "\n",
    "    # Convert columns to sets\n",
    "    experimental_set = set(topic_x_df['Experimental_Duplicate_ID'])\n",
    "    actual_set = set(topic_x_df['Duplicated_issue'])\n",
    "\n",
    "    # Identify False Negatives\n",
    "    falseNegatives = actual_set - experimental_set\n",
    "    falseNegativesCount=len(list(falseNegatives))\n",
    "    recall=truePositive/(truePositive+falseNegativesCount)\n",
    "    return recall"
   ]
  },
  {
   "cell_type": "code",
   "execution_count": 18,
   "id": "912af544",
   "metadata": {},
   "outputs": [],
   "source": [
    "def f1(topic_x_df):\n",
    "    recallVal=recall(topic_x_df)\n",
    "    precisionVal=precision(topic_x_df)\n",
    "    f1=2*((recallVal*precisionVal)/(precisionVal+recallVal))\n",
    "    return f1"
   ]
  },
  {
   "cell_type": "code",
   "execution_count": 19,
   "id": "f402a07a",
   "metadata": {},
   "outputs": [],
   "source": [
    "def experimentalisDuplicate(topic_x_df): #creates column for experimental binary isDuplciates\n",
    "    def is_duplicate(val):\n",
    "        return 1 if val !=(0.0 or 0) else 0\n",
    "    topic_x_df['isExperimentalDuplicate'] = topic_x_df['Experimental_Duplicate_ID'].apply(lambda x: is_duplicate(x))\n",
    "    return topic_x_df['isExperimentalDuplicate']"
   ]
  },
  {
   "cell_type": "code",
   "execution_count": 20,
   "id": "0bf89b06",
   "metadata": {},
   "outputs": [],
   "source": [
    "def binaryAccuracy(topic_x_df): #see if the ones and zeros match, different from other acuracy becuase that one can have only one element mathc and it count ex bug 1 has ids 1234 and 8472 it should still count as a duplciate to bug 2 with 1234 0889 \n",
    "    matches=topic_x_df['isExperimentalDuplicate']==topic_x_df['isDuplicate']\n",
    "    num_matches=matches.sum()\n",
    "    accuracy=num_matches/len(topic_x_df['isExperimentalDuplicate'])\n",
    "    return accuracy"
   ]
  },
  {
   "cell_type": "markdown",
   "id": "d4a7ce88",
   "metadata": {},
   "source": [
    "# Comparing cosine similaries in clusters "
   ]
  },
  {
   "cell_type": "code",
   "execution_count": 31,
   "id": "fdf3275e",
   "metadata": {},
   "outputs": [
    {
     "name": "stdout",
     "output_type": "stream",
     "text": [
      "Accuracy for cluster 0 for matching id is %71.26\n",
      "Accuracy for cluster 0 for duplicate or not is %71.33\n",
      "Recall for cluster 0 is %78.67\n",
      "Precision for cluster 0 is %99.71\n",
      "F1 score for cluster 0 is %87.95\n",
      "Accuracy for cluster 1 for matching id is %76.14\n",
      "Accuracy for cluster 1 for duplicate or not is %76.17\n",
      "Recall for cluster 1 is %81.53\n",
      "Precision for cluster 1 is %99.96\n",
      "F1 score for cluster 1 is %89.81\n",
      "Accuracy for cluster 2 for matching id is %76.54\n",
      "Accuracy for cluster 2 for duplicate or not is %76.54\n",
      "Recall for cluster 2 is %81.68\n",
      "Precision for cluster 2 is %99.89\n",
      "F1 score for cluster 2 is %89.87\n",
      "Accuracy for cluster 3 for matching id is %85.68\n",
      "Accuracy for cluster 3 for duplicate or not is %85.68\n",
      "Recall for cluster 3 is %88.04\n",
      "Precision for cluster 3 is %100.00\n",
      "F1 score for cluster 3 is %93.64\n",
      "Accuracy for cluster 4 for matching id is %81.42\n",
      "Accuracy for cluster 4 for duplicate or not is %81.42\n",
      "Recall for cluster 4 is %84.71\n",
      "Precision for cluster 4 is %99.93\n",
      "F1 score for cluster 4 is %91.69\n",
      "Accuracy for cluster 5 for matching id is %85.13\n",
      "Accuracy for cluster 5 for duplicate or not is %85.18\n",
      "Recall for cluster 5 is %88.91\n",
      "Precision for cluster 5 is %99.76\n",
      "F1 score for cluster 5 is %94.02\n",
      "Accuracy for cluster 6 for matching id is %79.00\n",
      "Accuracy for cluster 6 for duplicate or not is %79.04\n",
      "Recall for cluster 6 is %83.92\n",
      "Precision for cluster 6 is %99.95\n",
      "F1 score for cluster 6 is %91.24\n",
      "Accuracy for cluster 7 for matching id is %80.77\n",
      "Accuracy for cluster 7 for duplicate or not is %80.79\n",
      "Recall for cluster 7 is %84.47\n",
      "Precision for cluster 7 is %100.00\n",
      "F1 score for cluster 7 is %91.58\n",
      "Accuracy for cluster 8 for matching id is %89.62\n",
      "Accuracy for cluster 8 for duplicate or not is %89.62\n",
      "Recall for cluster 8 is %90.67\n",
      "Precision for cluster 8 is %100.00\n",
      "F1 score for cluster 8 is %95.11\n",
      "Accuracy for cluster 9 for matching id is %81.04\n",
      "Accuracy for cluster 9 for duplicate or not is %81.04\n",
      "Recall for cluster 9 is %86.16\n",
      "Precision for cluster 9 is %100.00\n",
      "F1 score for cluster 9 is %92.56\n"
     ]
    }
   ],
   "source": [
    "import warnings\n",
    "\n",
    "# Suppress all warnings\n",
    "warnings.filterwarnings(\"ignore\")\n",
    "\n",
    "cluster_dfs = [cluster_0_df, cluster_1_df, cluster_2_df, cluster_3_df, cluster_4_df, cluster_5_df, cluster_6_df, cluster_7_df, cluster_8_df, cluster_9_df]\n",
    "# Initialize lists to store the results\n",
    "accuracy_values = []\n",
    "binary_accuracy_values = []\n",
    "recall_values = []\n",
    "precision_values = []\n",
    "f1_values = []\n",
    "for x in range(10):\n",
    "    df = cluster_dfs[x]\n",
    "\n",
    "    df['Experimental_Duplicate_ID'] = getDuplicateBugIDS(0.95, df)\n",
    "    accuracyVal = accuracy(df) * 100\n",
    "    accuracy_values.append(accuracyVal)\n",
    "    print(f\"Accuracy for cluster {x} for matching id is %{accuracyVal:.2f}\")\n",
    "\n",
    "    experimentalisDuplicate(df)\n",
    "    binaryAccuracyVal = binaryAccuracy(df) * 100\n",
    "    binary_accuracy_values.append(binaryAccuracyVal)\n",
    "    print(f\"Accuracy for cluster {x} for duplicate or not is %{binaryAccuracyVal:.2f}\")\n",
    "\n",
    "    recallVal = recall(df) * 100\n",
    "    recall_values.append(recallVal)\n",
    "    print(f\"Recall for cluster {x} is %{recallVal:.2f}\")\n",
    "\n",
    "    precisionVal = precision(df) * 100\n",
    "    precision_values.append(precisionVal)\n",
    "    print(f\"Precision for cluster {x} is %{precisionVal:.2f}\")\n",
    "\n",
    "    f1Val = f1(df) * 100\n",
    "    f1_values.append(f1Val)\n",
    "    print(f\"F1 score for cluster {x} is %{f1Val:.2f}\")\n"
   ]
  },
  {
   "cell_type": "code",
   "execution_count": 22,
   "id": "b74f1f33",
   "metadata": {},
   "outputs": [],
   "source": [
    "import warnings\n",
    "\n",
    "# Suppress all warnings\n",
    "warnings.filterwarnings(\"ignore\")\n",
    "\n",
    "# Your code here\n"
   ]
  },
  {
   "cell_type": "code",
   "execution_count": 33,
   "id": "878bdaf4",
   "metadata": {},
   "outputs": [
    {
     "name": "stdout",
     "output_type": "stream",
     "text": [
      "80.66052934293211\n",
      "80.68163182969509\n",
      "84.87540194913721\n",
      "99.92059270829546\n",
      "91.74743574460457\n"
     ]
    }
   ],
   "source": [
    "import statistics \n",
    "print(statistics.mean(accuracy_values))\n",
    "print(statistics.mean(binary_accuracy_values))\n",
    "print(statistics.mean(recall_values))\n",
    "print(statistics.mean(precision_values))\n",
    "print(statistics.mean(f1_values))"
   ]
  },
  {
   "cell_type": "code",
   "execution_count": null,
   "id": "9a17c7b7",
   "metadata": {},
   "outputs": [],
   "source": []
  }
 ],
 "metadata": {
  "kernelspec": {
   "display_name": "Python 3 (ipykernel)",
   "language": "python",
   "name": "python3"
  },
  "language_info": {
   "codemirror_mode": {
    "name": "ipython",
    "version": 3
   },
   "file_extension": ".py",
   "mimetype": "text/x-python",
   "name": "python",
   "nbconvert_exporter": "python",
   "pygments_lexer": "ipython3",
   "version": "3.11.5"
  }
 },
 "nbformat": 4,
 "nbformat_minor": 5
}
