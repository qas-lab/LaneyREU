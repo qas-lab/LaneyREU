{
 "cells": [
  {
   "cell_type": "code",
   "execution_count": 1,
   "id": "e9f7b648-6c48-419d-97d2-04f05de5919b",
   "metadata": {},
   "outputs": [
    {
     "name": "stderr",
     "output_type": "stream",
     "text": [
      "2024-06-27 21:17:25.802867: I tensorflow/core/platform/cpu_feature_guard.cc:210] This TensorFlow binary is optimized to use available CPU instructions in performance-critical operations.\n",
      "To enable the following instructions: AVX2 FMA, in other operations, rebuild TensorFlow with the appropriate compiler flags.\n",
      "2024-06-27 21:17:27.820869: W tensorflow/compiler/tf2tensorrt/utils/py_utils.cc:38] TF-TRT Warning: Could not find TensorRT\n"
     ]
    }
   ],
   "source": [
    "\n",
    "import zipfile\n",
    "import os\n",
    "import pandas as pd\n",
    "import numpy as np\n",
    "import scipy.stats as st\n",
    "import matplotlib.pyplot as plt\n",
    "import seaborn as sns\n",
    "import sklearn\n",
    "import requests\n",
    "import xml.etree.ElementTree as ET\n",
    "import tensorflow as t\n",
    "import torch\n",
    "import torch.nn as nn"
   ]
  },
  {
   "cell_type": "markdown",
   "id": "b3eb2fde-4b42-467f-b9e8-2a7a4fd629e8",
   "metadata": {},
   "source": [
    "# Unzipping csv file"
   ]
  },
  {
   "cell_type": "code",
   "execution_count": 2,
   "id": "1fe746d5-6a96-4f6c-b462-0ec764e7112f",
   "metadata": {},
   "outputs": [],
   "source": [
    "\n",
    "uploaded_zip = '/home/claney/EclipsePlatform/eclipse_platform.zip'\n",
    "extract_dir = '/home/claney/extracted'\n",
    "if not os.path.exists(extract_dir):\n",
    "    os.makedirs(extract_dir)\n",
    "with zipfile.ZipFile(uploaded_zip, 'r') as zip_ref:\n",
    "    zip_ref.extractall(extract_dir)\n",
    "\n",
    "csv_file = os.path.join(extract_dir, 'eclipse_platform.csv')\n",
    "full_df = pd.read_csv(csv_file)"
   ]
  },
  {
   "cell_type": "code",
   "execution_count": null,
   "id": "11f0b4da-933a-4a88-89b8-7e006fb7fd76",
   "metadata": {},
   "outputs": [],
   "source": []
  },
  {
   "cell_type": "markdown",
   "id": "985aa1a2-48b2-4306-ad22-bb1d1cf12902",
   "metadata": {},
   "source": [
    "# Fill NAN"
   ]
  },
  {
   "cell_type": "code",
   "execution_count": 3,
   "id": "13cb216c-3171-45e6-8092-9d699faa65fb",
   "metadata": {},
   "outputs": [],
   "source": [
    "full_df.fillna(0,inplace=True)"
   ]
  },
  {
   "cell_type": "markdown",
   "id": "8a28c55d-9cda-4791-8922-7b2cf8a13b7e",
   "metadata": {},
   "source": [
    "# Spliting testing and training"
   ]
  },
  {
   "cell_type": "code",
   "execution_count": 4,
   "id": "90e8add3-f7b6-417c-9fc9-5a5d5bf833fa",
   "metadata": {},
   "outputs": [],
   "source": [
    "length=len(full_df)\n",
    "split_index=int(.8*length)\n",
    "df=full_df.iloc[:split_index] #df=training set"
   ]
  },
  {
   "cell_type": "markdown",
   "id": "99f7d3ca-8090-404d-99dc-de47cd0ee013",
   "metadata": {},
   "source": [
    "# Creating full_text_data column"
   ]
  },
  {
   "cell_type": "code",
   "execution_count": 5,
   "id": "ef3189bf-5817-4b94-afd8-791d2a1c9581",
   "metadata": {},
   "outputs": [
    {
     "name": "stdout",
     "output_type": "stream",
     "text": [
      "0        - Setup a project that contains a *.gif resour...\n",
      "1        Opening repository resource always open the de...\n",
      "2        KM (10/2/2001 5:55:18 PM); \\tThis PR about the...\n",
      "3        - become synchronized with some project in a r...\n",
      "4        For getting/setting the managed state of a res...\n",
      "                               ...                        \n",
      "68119    Build ID: 3.3 (I am not sure what You mean by ...\n",
      "68120    There are several NPEs within the UI session t...\n",
      "68121    I20080501-0100; ; Now that were using the coll...\n",
      "68122    Created attachment 98318; screenshot; ; I20080...\n",
      "68123    Build ID: M20080221-1800; ; Steps To Reproduce...\n",
      "Name: full_text_data, Length: 68124, dtype: object\n"
     ]
    },
    {
     "name": "stderr",
     "output_type": "stream",
     "text": [
      "/tmp/ipykernel_200549/3345744263.py:2: SettingWithCopyWarning: \n",
      "A value is trying to be set on a copy of a slice from a DataFrame.\n",
      "Try using .loc[row_indexer,col_indexer] = value instead\n",
      "\n",
      "See the caveats in the documentation: https://pandas.pydata.org/pandas-docs/stable/user_guide/indexing.html#returning-a-view-versus-a-copy\n",
      "  df['full_text_data']=df['Description']+df['Title']\n",
      "/tmp/ipykernel_200549/3345744263.py:4: SettingWithCopyWarning: \n",
      "A value is trying to be set on a copy of a slice from a DataFrame.\n",
      "Try using .loc[row_indexer,col_indexer] = value instead\n",
      "\n",
      "See the caveats in the documentation: https://pandas.pydata.org/pandas-docs/stable/user_guide/indexing.html#returning-a-view-versus-a-copy\n",
      "  df['full_text_data']=df['full_text_data'].fillna('')\n"
     ]
    }
   ],
   "source": [
    "#creating freeform textual data column\n",
    "df['full_text_data']=df['Description']+df['Title']\n",
    "print(df['full_text_data'])\n",
    "df['full_text_data']=df['full_text_data'].fillna('')"
   ]
  },
  {
   "cell_type": "markdown",
   "id": "67174493-d357-455b-8aab-f2d1db2d8a02",
   "metadata": {},
   "source": [
    "# Creating isDuplicate column"
   ]
  },
  {
   "cell_type": "code",
   "execution_count": 6,
   "id": "d3adf16e-5beb-4d8f-954c-0d45b87e36f7",
   "metadata": {},
   "outputs": [
    {
     "name": "stdout",
     "output_type": "stream",
     "text": [
      "0        0\n",
      "1        0\n",
      "2        0\n",
      "3        0\n",
      "4        0\n",
      "        ..\n",
      "68119    0\n",
      "68120    0\n",
      "68121    0\n",
      "68122    0\n",
      "68123    0\n",
      "Name: isDuplicate, Length: 68124, dtype: int64\n"
     ]
    },
    {
     "name": "stderr",
     "output_type": "stream",
     "text": [
      "/tmp/ipykernel_200549/1537637410.py:3: SettingWithCopyWarning: \n",
      "A value is trying to be set on a copy of a slice from a DataFrame.\n",
      "Try using .loc[row_indexer,col_indexer] = value instead\n",
      "\n",
      "See the caveats in the documentation: https://pandas.pydata.org/pandas-docs/stable/user_guide/indexing.html#returning-a-view-versus-a-copy\n",
      "  df['isDuplicate'] = df['Duplicated_issue'].apply(lambda x: is_duplicate(x))\n"
     ]
    }
   ],
   "source": [
    "def is_duplicate(val):\n",
    "    return 1 if val !=0.0 else 0\n",
    "df['isDuplicate'] = df['Duplicated_issue'].apply(lambda x: is_duplicate(x))\n",
    "\n",
    "print(df['isDuplicate'])"
   ]
  },
  {
   "cell_type": "code",
   "execution_count": 7,
   "id": "50dd54fc-9883-4007-83b3-443ae2bf1a27",
   "metadata": {},
   "outputs": [
    {
     "data": {
      "text/html": [
       "<div>\n",
       "<style scoped>\n",
       "    .dataframe tbody tr th:only-of-type {\n",
       "        vertical-align: middle;\n",
       "    }\n",
       "\n",
       "    .dataframe tbody tr th {\n",
       "        vertical-align: top;\n",
       "    }\n",
       "\n",
       "    .dataframe thead th {\n",
       "        text-align: right;\n",
       "    }\n",
       "</style>\n",
       "<table border=\"1\" class=\"dataframe\">\n",
       "  <thead>\n",
       "    <tr style=\"text-align: right;\">\n",
       "      <th></th>\n",
       "      <th>Issue_id</th>\n",
       "      <th>Priority</th>\n",
       "      <th>Component</th>\n",
       "      <th>Duplicated_issue</th>\n",
       "      <th>Title</th>\n",
       "      <th>Description</th>\n",
       "      <th>Status</th>\n",
       "      <th>Resolution</th>\n",
       "      <th>Version</th>\n",
       "      <th>Created_time</th>\n",
       "      <th>Resolved_time</th>\n",
       "      <th>full_text_data</th>\n",
       "      <th>isDuplicate</th>\n",
       "    </tr>\n",
       "  </thead>\n",
       "  <tbody>\n",
       "    <tr>\n",
       "      <th>0</th>\n",
       "      <td>1</td>\n",
       "      <td>P3</td>\n",
       "      <td>Team</td>\n",
       "      <td>0.0</td>\n",
       "      <td>Usability issue with external editors (1GE6IRL)</td>\n",
       "      <td>- Setup a project that contains a *.gif resour...</td>\n",
       "      <td>CLOSED</td>\n",
       "      <td>FIXED</td>\n",
       "      <td>2.0</td>\n",
       "      <td>2001-10-10 21:34:00 -0400</td>\n",
       "      <td>2012-02-09 15:57:47 -0500</td>\n",
       "      <td>- Setup a project that contains a *.gif resour...</td>\n",
       "      <td>0</td>\n",
       "    </tr>\n",
       "    <tr>\n",
       "      <th>1</th>\n",
       "      <td>2</td>\n",
       "      <td>P5</td>\n",
       "      <td>Team</td>\n",
       "      <td>0.0</td>\n",
       "      <td>Opening repository resources doesnt honor type...</td>\n",
       "      <td>Opening repository resource always open the de...</td>\n",
       "      <td>RESOLVED</td>\n",
       "      <td>FIXED</td>\n",
       "      <td>2.0</td>\n",
       "      <td>2001-10-10 21:34:00 -0400</td>\n",
       "      <td>2002-05-07 10:33:56 -0400</td>\n",
       "      <td>Opening repository resource always open the de...</td>\n",
       "      <td>0</td>\n",
       "    </tr>\n",
       "    <tr>\n",
       "      <th>2</th>\n",
       "      <td>3</td>\n",
       "      <td>P5</td>\n",
       "      <td>Team</td>\n",
       "      <td>0.0</td>\n",
       "      <td>Sync does not indicate deletion (1GIEN83)</td>\n",
       "      <td>KM (10/2/2001 5:55:18 PM); \\tThis PR about the...</td>\n",
       "      <td>RESOLVED</td>\n",
       "      <td>FIXED</td>\n",
       "      <td>2.0</td>\n",
       "      <td>2001-10-10 21:34:00 -0400</td>\n",
       "      <td>2010-05-07 10:28:53 -0400</td>\n",
       "      <td>KM (10/2/2001 5:55:18 PM); \\tThis PR about the...</td>\n",
       "      <td>0</td>\n",
       "    </tr>\n",
       "    <tr>\n",
       "      <th>3</th>\n",
       "      <td>4</td>\n",
       "      <td>P5</td>\n",
       "      <td>Team</td>\n",
       "      <td>0.0</td>\n",
       "      <td>need better error message if catching up over ...</td>\n",
       "      <td>- become synchronized with some project in a r...</td>\n",
       "      <td>RESOLVED</td>\n",
       "      <td>FIXED</td>\n",
       "      <td>2.0</td>\n",
       "      <td>2001-10-10 21:34:00 -0400</td>\n",
       "      <td>2002-03-01 16:27:31 -0500</td>\n",
       "      <td>- become synchronized with some project in a r...</td>\n",
       "      <td>0</td>\n",
       "    </tr>\n",
       "    <tr>\n",
       "      <th>4</th>\n",
       "      <td>5</td>\n",
       "      <td>P3</td>\n",
       "      <td>Team</td>\n",
       "      <td>0.0</td>\n",
       "      <td>ISharingManager sharing API inconsistent (1GAU...</td>\n",
       "      <td>For getting/setting the managed state of a res...</td>\n",
       "      <td>RESOLVED</td>\n",
       "      <td>WONTFIX</td>\n",
       "      <td>2.0</td>\n",
       "      <td>2001-10-10 21:34:00 -0400</td>\n",
       "      <td>2008-08-15 08:04:36 -0400</td>\n",
       "      <td>For getting/setting the managed state of a res...</td>\n",
       "      <td>0</td>\n",
       "    </tr>\n",
       "  </tbody>\n",
       "</table>\n",
       "</div>"
      ],
      "text/plain": [
       "   Issue_id Priority Component  Duplicated_issue  \\\n",
       "0         1       P3      Team               0.0   \n",
       "1         2       P5      Team               0.0   \n",
       "2         3       P5      Team               0.0   \n",
       "3         4       P5      Team               0.0   \n",
       "4         5       P3      Team               0.0   \n",
       "\n",
       "                                               Title  \\\n",
       "0    Usability issue with external editors (1GE6IRL)   \n",
       "1  Opening repository resources doesnt honor type...   \n",
       "2          Sync does not indicate deletion (1GIEN83)   \n",
       "3  need better error message if catching up over ...   \n",
       "4  ISharingManager sharing API inconsistent (1GAU...   \n",
       "\n",
       "                                         Description    Status Resolution  \\\n",
       "0  - Setup a project that contains a *.gif resour...    CLOSED      FIXED   \n",
       "1  Opening repository resource always open the de...  RESOLVED      FIXED   \n",
       "2  KM (10/2/2001 5:55:18 PM); \\tThis PR about the...  RESOLVED      FIXED   \n",
       "3  - become synchronized with some project in a r...  RESOLVED      FIXED   \n",
       "4  For getting/setting the managed state of a res...  RESOLVED    WONTFIX   \n",
       "\n",
       "  Version               Created_time              Resolved_time  \\\n",
       "0     2.0  2001-10-10 21:34:00 -0400  2012-02-09 15:57:47 -0500   \n",
       "1     2.0  2001-10-10 21:34:00 -0400  2002-05-07 10:33:56 -0400   \n",
       "2     2.0  2001-10-10 21:34:00 -0400  2010-05-07 10:28:53 -0400   \n",
       "3     2.0  2001-10-10 21:34:00 -0400  2002-03-01 16:27:31 -0500   \n",
       "4     2.0  2001-10-10 21:34:00 -0400  2008-08-15 08:04:36 -0400   \n",
       "\n",
       "                                      full_text_data  isDuplicate  \n",
       "0  - Setup a project that contains a *.gif resour...            0  \n",
       "1  Opening repository resource always open the de...            0  \n",
       "2  KM (10/2/2001 5:55:18 PM); \\tThis PR about the...            0  \n",
       "3  - become synchronized with some project in a r...            0  \n",
       "4  For getting/setting the managed state of a res...            0  "
      ]
     },
     "execution_count": 7,
     "metadata": {},
     "output_type": "execute_result"
    }
   ],
   "source": [
    "df.head()"
   ]
  },
  {
   "cell_type": "markdown",
   "id": "f4582ba2-ffb1-4672-bc7b-952be65aec78",
   "metadata": {},
   "source": [
    "# Splitting training into training and testing for models "
   ]
  },
  {
   "cell_type": "code",
   "execution_count": 8,
   "id": "23facb20-f704-4763-9d6a-5cdf28f5f29b",
   "metadata": {},
   "outputs": [],
   "source": [
    "from sklearn.model_selection import train_test_split"
   ]
  },
  {
   "cell_type": "code",
   "execution_count": 9,
   "id": "d0832741-97f4-4af9-b217-95ac7c4a7b95",
   "metadata": {},
   "outputs": [],
   "source": [
    "X = df['full_text_data']  # Input features\n",
    "y = df['isDuplicate']       # Target variable\n",
    "\n",
    "# Split the data\n",
    "X_train, X_test, y_train, y_test = train_test_split(X, y, test_size=0.25, random_state=42)"
   ]
  },
  {
   "cell_type": "code",
   "execution_count": null,
   "id": "71af5d6e-b826-4972-81bd-7aba6c50bc3b",
   "metadata": {},
   "outputs": [],
   "source": []
  },
  {
   "cell_type": "markdown",
   "id": "64022b04-a657-4454-a7cf-90f124bb82cc",
   "metadata": {},
   "source": [
    "# GPU setup"
   ]
  },
  {
   "cell_type": "code",
   "execution_count": null,
   "id": "9b560a00-6e40-4a91-857a-ad3383c60847",
   "metadata": {},
   "outputs": [],
   "source": []
  },
  {
   "cell_type": "code",
   "execution_count": 11,
   "id": "e38391e6-bd62-4e98-b747-40cdbc4c738e",
   "metadata": {},
   "outputs": [
    {
     "name": "stdout",
     "output_type": "stream",
     "text": [
      "CUDA is available. Number of GPUs: 8\n",
      "CUDA device name: NVIDIA GeForce GTX 1080 Ti\n"
     ]
    }
   ],
   "source": [
    "# Check for CUDA availability\n",
    "if torch.cuda.is_available():\n",
    "    print(\"CUDA is available. Number of GPUs:\", torch.cuda.device_count())\n",
    "    print(\"CUDA device name:\", torch.cuda.get_device_name(4))\n",
    "else:\n",
    "    print(\"CUDA is not available.\")\n",
    "torch.cuda.set_device(torch.device(\"cuda:4\"))\n",
    "device = torch.device(\"cuda\" if torch.cuda.is_available() else \"cpu\")\n"
   ]
  },
  {
   "cell_type": "markdown",
   "id": "f9bd6aef-9dad-4dbc-bf51-08c4f3f853d3",
   "metadata": {},
   "source": [
    "## MLP neural network"
   ]
  },
  {
   "cell_type": "code",
   "execution_count": 10,
   "id": "34f479e3-3143-4e3f-99fb-ee52e1bb31c0",
   "metadata": {},
   "outputs": [],
   "source": [
    "\n",
    "from sklearn.feature_extraction.text import TfidfVectorizer\n",
    "from sklearn.neural_network import MLPClassifier\n",
    "from sklearn.metrics import accuracy_score\n"
   ]
  },
  {
   "cell_type": "code",
   "execution_count": 16,
   "id": "7112519a-1335-47e3-a1d3-fcb9a67d804b",
   "metadata": {},
   "outputs": [
    {
     "name": "stdout",
     "output_type": "stream",
     "text": [
      "Test Accuracy: 0.7445246902706829\n"
     ]
    }
   ],
   "source": [
    "X = df['full_text_data']  # Input features\n",
    "y = df['isDuplicate']       # Target variable\n",
    "\n",
    "# Split the data\n",
    "X_train, X_test, y_train, y_test = train_test_split(X, y, test_size=0.25, random_state=42)\n",
    "\n",
    "# Vectorize the text data\n",
    "vectorizer = TfidfVectorizer(max_features=1000)\n",
    "X_train_vec = vectorizer.fit_transform(X_train)\n",
    "X_test_vec = vectorizer.transform(X_test)\n",
    "\n",
    "# neural net\n",
    "model1 = MLPClassifier(hidden_layer_sizes=(64, 32), activation='relu', max_iter=1000)\n",
    "nn.ModuleList\n",
    "model1.fit(X_train_vec, y_train)\n",
    "\n",
    "# Make predictions on the test set\n",
    "y_pred = model1.predict(X_test_vec)\n",
    "\n",
    "# Evaluate the model\n",
    "accuracy = accuracy_score(y_test, y_pred)\n",
    "print(\"Test Accuracy:\", accuracy)\n"
   ]
  },
  {
   "cell_type": "code",
   "execution_count": 21,
   "id": "0211f289-8092-415c-9701-4339e18fab10",
   "metadata": {},
   "outputs": [
    {
     "name": "stdout",
     "output_type": "stream",
     "text": [
      "Test Accuracy: 0.7513945158828019\n"
     ]
    }
   ],
   "source": [
    "X = df['full_text_data']+df['Component']  # Input features\n",
    "y = df['isDuplicate']       # Target variable\n",
    "\n",
    "# Split the data\n",
    "X_train, X_test, y_train, y_test = train_test_split(X, y, test_size=0.25, random_state=42)\n",
    "\n",
    "# Vectorize the text data\n",
    "vectorizer = TfidfVectorizer(max_features=1000)\n",
    "X_train_vec = vectorizer.fit_transform(X_train)\n",
    "X_test_vec = vectorizer.transform(X_test)\n",
    "\n",
    "# neural net\n",
    "model1 = MLPClassifier(hidden_layer_sizes=(64, 32), activation='relu', max_iter=1000)\n",
    "nn.ModuleList\n",
    "model1.fit(X_train_vec, y_train)\n",
    "\n",
    "# Make predictions on the test set\n",
    "y_pred = model1.predict(X_test_vec)\n",
    "\n",
    "# Evaluate the model\n",
    "accuracy = accuracy_score(y_test, y_pred)\n",
    "print(\"Test Accuracy:\", accuracy)"
   ]
  },
  {
   "cell_type": "code",
   "execution_count": 22,
   "id": "72016358-29ad-49f3-8e09-7ae96d55b50c",
   "metadata": {},
   "outputs": [
    {
     "name": "stdout",
     "output_type": "stream",
     "text": [
      "Test Accuracy: 0.7062415595091304\n"
     ]
    }
   ],
   "source": [
    "X = df['full_text_data']+df['Component']  # Input features\n",
    "y = df['isDuplicate']       # Target variable\n",
    "\n",
    "# Split the data\n",
    "X_train, X_test, y_train, y_test = train_test_split(X, y, test_size=0.25, random_state=42)\n",
    "\n",
    "# Vectorize the text data\n",
    "vectorizer = TfidfVectorizer(max_features=1000)\n",
    "X_train_vec = vectorizer.fit_transform(X_train)\n",
    "X_test_vec = vectorizer.transform(X_test)\n",
    "\n",
    "# neural net\n",
    "model1 = MLPClassifier(hidden_layer_sizes=(32, 16), activation='relu', max_iter=1000)\n",
    "nn.ModuleList\n",
    "model1.fit(X_train_vec, y_train)\n",
    "\n",
    "# Make predictions on the test set\n",
    "y_pred = model1.predict(X_test_vec)\n",
    "\n",
    "# Evaluate the model\n",
    "accuracy = accuracy_score(y_test, y_pred)\n",
    "print(\"Test Accuracy:\", accuracy)"
   ]
  },
  {
   "cell_type": "code",
   "execution_count": 28,
   "id": "f5c43820-f9b4-494c-b1ce-352f3c2684b3",
   "metadata": {},
   "outputs": [
    {
     "name": "stdout",
     "output_type": "stream",
     "text": [
      "Test Accuracy: 0.732311666960249\n"
     ]
    }
   ],
   "source": [
    "X = df['full_text_data']+df['Component']  # Input features\n",
    "y = df['isDuplicate']       # Target variable\n",
    "\n",
    "# Split the data\n",
    "X_train, X_test, y_train, y_test = train_test_split(X, y, test_size=0.25, random_state=42)\n",
    "\n",
    "# Vectorize the text data\n",
    "vectorizer = TfidfVectorizer(max_features=1000)\n",
    "X_train_vec = vectorizer.fit_transform(X_train)\n",
    "X_test_vec = vectorizer.transform(X_test)\n",
    "\n",
    "# neural net\n",
    "model1 = MLPClassifier(hidden_layer_sizes=(128, 64), activation='tanh', max_iter=1000)\n",
    "model1.fit(X_train_vec, y_train)\n",
    "\n",
    "# Make predictions on the test set\n",
    "y_pred = model1.predict(X_test_vec)\n",
    "\n",
    "# Evaluate the model\n",
    "accuracy = accuracy_score(y_test, y_pred)\n",
    "print(\"Test Accuracy:\", accuracy)"
   ]
  },
  {
   "cell_type": "code",
   "execution_count": 24,
   "id": "6f079b3e-a7a2-458f-b554-71f5861e8e61",
   "metadata": {},
   "outputs": [
    {
     "name": "stdout",
     "output_type": "stream",
     "text": [
      "Test Accuracy: 0.8256121190769773\n"
     ]
    }
   ],
   "source": [
    "X = df['Component']  # Input features\n",
    "y = df['isDuplicate']       # Target variable\n",
    "\n",
    "# Split the data\n",
    "X_train, X_test, y_train, y_test = train_test_split(X, y, test_size=0.25, random_state=42)\n",
    "\n",
    "# Vectorize the text data\n",
    "vectorizer = TfidfVectorizer(max_features=1000)\n",
    "X_train_vec = vectorizer.fit_transform(X_train)\n",
    "X_test_vec = vectorizer.transform(X_test)\n",
    "\n",
    "# neural net\n",
    "model1 = MLPClassifier(hidden_layer_sizes=(64, 32), activation='relu', max_iter=1000)\n",
    "nn.ModuleList\n",
    "model1.fit(X_train_vec, y_train)\n",
    "\n",
    "# Make predictions on the test set\n",
    "y_pred = model1.predict(X_test_vec)\n",
    "\n",
    "# Evaluate the model\n",
    "accuracy = accuracy_score(y_test, y_pred)\n",
    "print(\"Test Accuracy:\", accuracy)"
   ]
  },
  {
   "cell_type": "markdown",
   "id": "4f29d17a-9ea1-4211-9c6c-de750046ff3e",
   "metadata": {},
   "source": [
    "# BERT trasformer model"
   ]
  },
  {
   "cell_type": "raw",
   "id": "9b2bab5e-86eb-4813-9ab3-9ac3be9899b5",
   "metadata": {},
   "source": [
    "From https://www.kaggle.com/code/harshjain123/bert-for-everyone-tutorial-implementation/notebook :)"
   ]
  },
  {
   "cell_type": "code",
   "execution_count": null,
   "id": "79821059-4654-4497-a749-07bdc4e511c7",
   "metadata": {},
   "outputs": [],
   "source": [
    "import numpy as np\n",
    "import pandas as pd\n",
    "import torch\n",
    "import torch.nn as nn\n",
    "from sklearn.model_selection import train_test_split\n",
    "from sklearn.metrics import classification_report\n",
    "import transformers\n",
    "from transformers import AutoModel, BertTokenizerFast\n"
   ]
  },
  {
   "cell_type": "code",
   "execution_count": 34,
   "id": "9abf78c7-b2dd-4f48-b5dd-1bd3ac2df36c",
   "metadata": {
    "scrolled": true
   },
   "outputs": [
    {
     "name": "stdout",
     "output_type": "stream",
     "text": [
      "Requirement already satisfied: transformers in /home/claney/anaconda3/envs/reu/lib/python3.11/site-packages (4.41.2)\n",
      "Requirement already satisfied: tensorflow in /home/claney/anaconda3/envs/reu/lib/python3.11/site-packages (2.16.1)\n",
      "Requirement already satisfied: filelock in /home/claney/anaconda3/envs/reu/lib/python3.11/site-packages (from transformers) (3.15.4)\n",
      "Requirement already satisfied: huggingface-hub<1.0,>=0.23.0 in /home/claney/anaconda3/envs/reu/lib/python3.11/site-packages (from transformers) (0.23.4)\n",
      "Requirement already satisfied: numpy>=1.17 in /home/claney/anaconda3/envs/reu/lib/python3.11/site-packages (from transformers) (1.26.4)\n",
      "Requirement already satisfied: packaging>=20.0 in /home/claney/anaconda3/envs/reu/lib/python3.11/site-packages (from transformers) (24.1)\n",
      "Requirement already satisfied: pyyaml>=5.1 in /home/claney/anaconda3/envs/reu/lib/python3.11/site-packages (from transformers) (6.0.1)\n",
      "Requirement already satisfied: regex!=2019.12.17 in /home/claney/anaconda3/envs/reu/lib/python3.11/site-packages (from transformers) (2024.5.15)\n",
      "Requirement already satisfied: requests in /home/claney/anaconda3/envs/reu/lib/python3.11/site-packages (from transformers) (2.32.3)\n",
      "Requirement already satisfied: tokenizers<0.20,>=0.19 in /home/claney/anaconda3/envs/reu/lib/python3.11/site-packages (from transformers) (0.19.1)\n",
      "Requirement already satisfied: safetensors>=0.4.1 in /home/claney/anaconda3/envs/reu/lib/python3.11/site-packages (from transformers) (0.4.3)\n",
      "Requirement already satisfied: tqdm>=4.27 in /home/claney/anaconda3/envs/reu/lib/python3.11/site-packages (from transformers) (4.66.4)\n",
      "Requirement already satisfied: absl-py>=1.0.0 in /home/claney/anaconda3/envs/reu/lib/python3.11/site-packages (from tensorflow) (2.1.0)\n",
      "Requirement already satisfied: astunparse>=1.6.0 in /home/claney/anaconda3/envs/reu/lib/python3.11/site-packages (from tensorflow) (1.6.3)\n",
      "Requirement already satisfied: flatbuffers>=23.5.26 in /home/claney/anaconda3/envs/reu/lib/python3.11/site-packages (from tensorflow) (24.3.25)\n",
      "Requirement already satisfied: gast!=0.5.0,!=0.5.1,!=0.5.2,>=0.2.1 in /home/claney/anaconda3/envs/reu/lib/python3.11/site-packages (from tensorflow) (0.5.4)\n",
      "Requirement already satisfied: google-pasta>=0.1.1 in /home/claney/anaconda3/envs/reu/lib/python3.11/site-packages (from tensorflow) (0.2.0)\n",
      "Requirement already satisfied: h5py>=3.10.0 in /home/claney/anaconda3/envs/reu/lib/python3.11/site-packages (from tensorflow) (3.11.0)\n",
      "Requirement already satisfied: libclang>=13.0.0 in /home/claney/anaconda3/envs/reu/lib/python3.11/site-packages (from tensorflow) (18.1.1)\n",
      "Requirement already satisfied: ml-dtypes~=0.3.1 in /home/claney/anaconda3/envs/reu/lib/python3.11/site-packages (from tensorflow) (0.3.2)\n",
      "Requirement already satisfied: opt-einsum>=2.3.2 in /home/claney/anaconda3/envs/reu/lib/python3.11/site-packages (from tensorflow) (3.3.0)\n",
      "Requirement already satisfied: protobuf!=4.21.0,!=4.21.1,!=4.21.2,!=4.21.3,!=4.21.4,!=4.21.5,<5.0.0dev,>=3.20.3 in /home/claney/anaconda3/envs/reu/lib/python3.11/site-packages (from tensorflow) (4.25.3)\n",
      "Requirement already satisfied: setuptools in /home/claney/anaconda3/envs/reu/lib/python3.11/site-packages (from tensorflow) (69.5.1)\n",
      "Requirement already satisfied: six>=1.12.0 in /home/claney/anaconda3/envs/reu/lib/python3.11/site-packages (from tensorflow) (1.16.0)\n",
      "Requirement already satisfied: termcolor>=1.1.0 in /home/claney/anaconda3/envs/reu/lib/python3.11/site-packages (from tensorflow) (2.4.0)\n",
      "Requirement already satisfied: typing-extensions>=3.6.6 in /home/claney/anaconda3/envs/reu/lib/python3.11/site-packages (from tensorflow) (4.12.2)\n",
      "Requirement already satisfied: wrapt>=1.11.0 in /home/claney/anaconda3/envs/reu/lib/python3.11/site-packages (from tensorflow) (1.16.0)\n",
      "Requirement already satisfied: grpcio<2.0,>=1.24.3 in /home/claney/anaconda3/envs/reu/lib/python3.11/site-packages (from tensorflow) (1.64.1)\n",
      "Requirement already satisfied: tensorboard<2.17,>=2.16 in /home/claney/anaconda3/envs/reu/lib/python3.11/site-packages (from tensorflow) (2.16.2)\n",
      "Requirement already satisfied: keras>=3.0.0 in /home/claney/anaconda3/envs/reu/lib/python3.11/site-packages (from tensorflow) (3.3.3)\n",
      "Requirement already satisfied: tensorflow-io-gcs-filesystem>=0.23.1 in /home/claney/anaconda3/envs/reu/lib/python3.11/site-packages (from tensorflow) (0.37.0)\n",
      "Requirement already satisfied: wheel<1.0,>=0.23.0 in /home/claney/anaconda3/envs/reu/lib/python3.11/site-packages (from astunparse>=1.6.0->tensorflow) (0.43.0)\n",
      "Requirement already satisfied: fsspec>=2023.5.0 in /home/claney/anaconda3/envs/reu/lib/python3.11/site-packages (from huggingface-hub<1.0,>=0.23.0->transformers) (2024.6.0)\n",
      "Requirement already satisfied: rich in /home/claney/anaconda3/envs/reu/lib/python3.11/site-packages (from keras>=3.0.0->tensorflow) (13.7.1)\n",
      "Requirement already satisfied: namex in /home/claney/anaconda3/envs/reu/lib/python3.11/site-packages (from keras>=3.0.0->tensorflow) (0.0.8)\n",
      "Requirement already satisfied: optree in /home/claney/anaconda3/envs/reu/lib/python3.11/site-packages (from keras>=3.0.0->tensorflow) (0.11.0)\n",
      "Requirement already satisfied: charset-normalizer<4,>=2 in /home/claney/anaconda3/envs/reu/lib/python3.11/site-packages (from requests->transformers) (3.3.2)\n",
      "Requirement already satisfied: idna<4,>=2.5 in /home/claney/anaconda3/envs/reu/lib/python3.11/site-packages (from requests->transformers) (3.7)\n",
      "Requirement already satisfied: urllib3<3,>=1.21.1 in /home/claney/anaconda3/envs/reu/lib/python3.11/site-packages (from requests->transformers) (2.2.1)\n",
      "Requirement already satisfied: certifi>=2017.4.17 in /home/claney/anaconda3/envs/reu/lib/python3.11/site-packages (from requests->transformers) (2024.6.2)\n",
      "Requirement already satisfied: markdown>=2.6.8 in /home/claney/anaconda3/envs/reu/lib/python3.11/site-packages (from tensorboard<2.17,>=2.16->tensorflow) (3.6)\n",
      "Requirement already satisfied: tensorboard-data-server<0.8.0,>=0.7.0 in /home/claney/anaconda3/envs/reu/lib/python3.11/site-packages (from tensorboard<2.17,>=2.16->tensorflow) (0.7.2)\n",
      "Requirement already satisfied: werkzeug>=1.0.1 in /home/claney/anaconda3/envs/reu/lib/python3.11/site-packages (from tensorboard<2.17,>=2.16->tensorflow) (3.0.3)\n",
      "Requirement already satisfied: MarkupSafe>=2.1.1 in /home/claney/anaconda3/envs/reu/lib/python3.11/site-packages (from werkzeug>=1.0.1->tensorboard<2.17,>=2.16->tensorflow) (2.1.3)\n",
      "Requirement already satisfied: markdown-it-py>=2.2.0 in /home/claney/anaconda3/envs/reu/lib/python3.11/site-packages (from rich->keras>=3.0.0->tensorflow) (3.0.0)\n",
      "Requirement already satisfied: pygments<3.0.0,>=2.13.0 in /home/claney/anaconda3/envs/reu/lib/python3.11/site-packages (from rich->keras>=3.0.0->tensorflow) (2.18.0)\n",
      "Requirement already satisfied: mdurl~=0.1 in /home/claney/anaconda3/envs/reu/lib/python3.11/site-packages (from markdown-it-py>=2.2.0->rich->keras>=3.0.0->tensorflow) (0.1.2)\n",
      "Note: you may need to restart the kernel to use updated packages.\n"
     ]
    }
   ],
   "source": [
    "pip install transformers tensorflow\n"
   ]
  },
  {
   "cell_type": "code",
   "execution_count": null,
   "id": "2f65a4e1-1559-40b9-99ba-7109159935be",
   "metadata": {},
   "outputs": [],
   "source": [
    "device = torch.device(\"cuda:4\")"
   ]
  },
  {
   "cell_type": "code",
   "execution_count": 1,
   "id": "b18dc7e8-2c60-4ca9-bb5c-c3e8d2428138",
   "metadata": {},
   "outputs": [
    {
     "data": {
      "application/vnd.jupyter.widget-view+json": {
       "model_id": "64663119373a4155ac615b7525166e65",
       "version_major": 2,
       "version_minor": 0
      },
      "text/plain": [
       "tokenizer_config.json:   0%|          | 0.00/48.0 [00:00<?, ?B/s]"
      ]
     },
     "metadata": {},
     "output_type": "display_data"
    },
    {
     "name": "stderr",
     "output_type": "stream",
     "text": [
      "/home/claney/anaconda3/envs/reu/lib/python3.11/site-packages/huggingface_hub/file_download.py:1132: FutureWarning: `resume_download` is deprecated and will be removed in version 1.0.0. Downloads always resume when possible. If you want to force a new download, use `force_download=True`.\n",
      "  warnings.warn(\n"
     ]
    },
    {
     "data": {
      "application/vnd.jupyter.widget-view+json": {
       "model_id": "c55b8107a10f459da04784858d8f3787",
       "version_major": 2,
       "version_minor": 0
      },
      "text/plain": [
       "config.json:   0%|          | 0.00/570 [00:00<?, ?B/s]"
      ]
     },
     "metadata": {},
     "output_type": "display_data"
    },
    {
     "data": {
      "application/vnd.jupyter.widget-view+json": {
       "model_id": "8963222d171141ebbd712920c99f2aed",
       "version_major": 2,
       "version_minor": 0
      },
      "text/plain": [
       "vocab.txt:   0%|          | 0.00/232k [00:00<?, ?B/s]"
      ]
     },
     "metadata": {},
     "output_type": "display_data"
    },
    {
     "data": {
      "application/vnd.jupyter.widget-view+json": {
       "model_id": "db3db36f48804027824a11a3ec34ca80",
       "version_major": 2,
       "version_minor": 0
      },
      "text/plain": [
       "tokenizer.json:   0%|          | 0.00/466k [00:00<?, ?B/s]"
      ]
     },
     "metadata": {},
     "output_type": "display_data"
    },
    {
     "data": {
      "application/vnd.jupyter.widget-view+json": {
       "model_id": "e5a59589cb734160ba10efe13fb9415d",
       "version_major": 2,
       "version_minor": 0
      },
      "text/plain": [
       "model.safetensors:   0%|          | 0.00/440M [00:00<?, ?B/s]"
      ]
     },
     "metadata": {},
     "output_type": "display_data"
    },
    {
     "name": "stderr",
     "output_type": "stream",
     "text": [
      "Some weights of the model checkpoint at google-bert/bert-base-uncased were not used when initializing BertForMaskedLM: ['bert.pooler.dense.bias', 'bert.pooler.dense.weight', 'cls.seq_relationship.bias', 'cls.seq_relationship.weight']\n",
      "- This IS expected if you are initializing BertForMaskedLM from the checkpoint of a model trained on another task or with another architecture (e.g. initializing a BertForSequenceClassification model from a BertForPreTraining model).\n",
      "- This IS NOT expected if you are initializing BertForMaskedLM from the checkpoint of a model that you expect to be exactly identical (initializing a BertForSequenceClassification model from a BertForSequenceClassification model).\n"
     ]
    }
   ],
   "source": [
    "\n",
    "# Load model directly\n",
    "from transformers import AutoTokenizer, AutoModelForMaskedLM\n",
    "\n",
    "tokenizer = AutoTokenizer.from_pretrained(\"google-bert/bert-base-uncased\")\n",
    "model = AutoModelForMaskedLM.from_pretrained(\"google-bert/bert-base-uncased\")"
   ]
  },
  {
   "cell_type": "code",
   "execution_count": 9,
   "id": "85d97127-7691-4689-9120-185a08bb1b99",
   "metadata": {},
   "outputs": [],
   "source": [
    "from sklearn.model_selection import train_test_split\n",
    "from transformers import AutoModel, BertTokenizerFast"
   ]
  },
  {
   "cell_type": "code",
   "execution_count": 10,
   "id": "cea5e741-ee79-4783-9516-4ef66d4fd346",
   "metadata": {},
   "outputs": [],
   "source": [
    "# split train dataset into train, validation and test sets\n",
    "train_text, temp_text, train_labels, temp_labels = train_test_split(df['full_text_data'], df['isDuplicate'], \n",
    "                                                                    random_state=2018, \n",
    "                                                                    test_size=0.3, \n",
    "                                                                    stratify=df['isDuplicate'])\n",
    "\n",
    "\n",
    "val_text, test_text, val_labels, test_labels = train_test_split(temp_text, temp_labels, \n",
    "                                                                random_state=2018, \n",
    "                                                                test_size=0.5, \n",
    "                                                                stratify=temp_labels)"
   ]
  },
  {
   "cell_type": "code",
   "execution_count": 11,
   "id": "79dbb5f7-6db5-4418-9567-b32767372a27",
   "metadata": {},
   "outputs": [],
   "source": [
    "\n",
    "# import BERT-base pretrained model\n",
    "bert = AutoModel.from_pretrained('bert-base-uncased')\n",
    "\n",
    "# Load the BERT tokenizer\n",
    "tokenizer = BertTokenizerFast.from_pretrained('bert-base-uncased')"
   ]
  },
  {
   "cell_type": "code",
   "execution_count": 12,
   "id": "19981c6d-ece7-4617-b2d2-f2e3e34335b9",
   "metadata": {},
   "outputs": [
    {
     "data": {
      "text/plain": [
       "<Axes: >"
      ]
     },
     "execution_count": 12,
     "metadata": {},
     "output_type": "execute_result"
    },
    {
     "data": {
      "image/png": "[encoded data removed]",
      "text/plain": [
       "<Figure size 640x480 with 1 Axes>"
      ]
     },
     "metadata": {},
     "output_type": "display_data"
    }
   ],
   "source": [
    "# get length of all the messages in the train set\n",
    "seq_len = [len(i.split()) for i in train_text]\n",
    "\n",
    "pd.Series(seq_len).hist(bins = 30)"
   ]
  },
  {
   "cell_type": "code",
   "execution_count": 13,
   "id": "f3519627-e929-4848-9c15-a7a59b8ff95d",
   "metadata": {},
   "outputs": [
    {
     "name": "stderr",
     "output_type": "stream",
     "text": [
      "/home/claney/anaconda3/envs/reu/lib/python3.11/site-packages/transformers/tokenization_utils_base.py:2699: FutureWarning: The `pad_to_max_length` argument is deprecated and will be removed in a future version, use `padding=True` or `padding='longest'` to pad to the longest sequence in the batch, or use `padding='max_length'` to pad to a max length. In this case, you can give a specific length with `max_length` (e.g. `max_length=45`) or leave max_length to None to pad to the maximal input size of the model (e.g. 512 for Bert).\n",
      "  warnings.warn(\n"
     ]
    }
   ],
   "source": [
    "# tokenize and encode sequences in the training set\n",
    "tokens_train = tokenizer.batch_encode_plus(\n",
    "    train_text.tolist(),\n",
    "    max_length = 25,\n",
    "    pad_to_max_length=True,\n",
    "    truncation=True\n",
    ")\n",
    "\n",
    "# tokenize and encode sequences in the validation set\n",
    "tokens_val = tokenizer.batch_encode_plus(\n",
    "    val_text.tolist(),\n",
    "    max_length = 25,\n",
    "    pad_to_max_length=True,\n",
    "    truncation=True\n",
    ")\n",
    "\n",
    "# tokenize and encode sequences in the test set\n",
    "tokens_test = tokenizer.batch_encode_plus(\n",
    "    test_text.tolist(),\n",
    "    max_length = 25,\n",
    "    pad_to_max_length=True,\n",
    "    truncation=True\n",
    ")"
   ]
  },
  {
   "cell_type": "code",
   "execution_count": 47,
   "id": "5803f816-7273-417d-8635-d0b7ca4d1381",
   "metadata": {},
   "outputs": [],
   "source": [
    "## convert lists to tensors\n",
    "\n",
    "train_seq = torch.tensor(tokens_train['input_ids'])\n",
    "train_mask = torch.tensor(tokens_train['attention_mask'])\n",
    "train_y = torch.tensor(train_labels.tolist())\n",
    "\n",
    "val_seq = torch.tensor(tokens_val['input_ids'])\n",
    "val_mask = torch.tensor(tokens_val['attention_mask'])\n",
    "val_y = torch.tensor(val_labels.tolist())\n",
    "\n",
    "test_seq = torch.tensor(tokens_test['input_ids'])\n",
    "test_mask = torch.tensor(tokens_test['attention_mask'])\n",
    "test_y = torch.tensor(test_labels.tolist())"
   ]
  },
  {
   "cell_type": "code",
   "execution_count": 15,
   "id": "cabc44cd-c8f7-497c-8400-e3c124ac66d5",
   "metadata": {},
   "outputs": [],
   "source": [
    "from torch.utils.data import TensorDataset, DataLoader, RandomSampler, SequentialSampler\n",
    "\n",
    "#define a batch size\n",
    "batch_size = 32\n",
    "\n",
    "# wrap tensors\n",
    "train_data = TensorDataset(train_seq, train_mask, train_y)\n",
    "\n",
    "# sampler for sampling the data during training\n",
    "train_sampler = RandomSampler(train_data)\n",
    "\n",
    "# dataLoader for train set\n",
    "train_dataloader = DataLoader(train_data, sampler=train_sampler, batch_size=batch_size)\n",
    "\n",
    "# wrap tensors\n",
    "val_data = TensorDataset(val_seq, val_mask, val_y)\n",
    "\n",
    "# sampler for sampling the data during training\n",
    "val_sampler = SequentialSampler(val_data)\n",
    "\n",
    "# dataLoader for validation set\n",
    "val_dataloader = DataLoader(val_data, sampler = val_sampler, batch_size=batch_size)"
   ]
  },
  {
   "cell_type": "code",
   "execution_count": 16,
   "id": "570bfda2-5786-4b7c-a9e9-5a31394997b8",
   "metadata": {},
   "outputs": [],
   "source": [
    "# freeze all the parameters\n",
    "for param in bert.parameters():\n",
    "    param.requires_grad = False"
   ]
  },
  {
   "cell_type": "code",
   "execution_count": 17,
   "id": "05ea8328-a0bb-4b8e-a498-fba88fc38b58",
   "metadata": {},
   "outputs": [],
   "source": [
    "class BERT_Arch(nn.Module):\n",
    "\n",
    "    def __init__(self, bert):\n",
    "        super(BERT_Arch, self).__init__()\n",
    "        \n",
    "        self.bert = bert \n",
    "        \n",
    "        # dropout layer\n",
    "        self.dropout = nn.Dropout(0.1)\n",
    "      \n",
    "        # relu activation function\n",
    "        self.relu =  nn.ReLU()\n",
    "\n",
    "        # dense layer 1\n",
    "        self.fc1 = nn.Linear(768,512)\n",
    "      \n",
    "        # dense layer 2 (Output layer)\n",
    "        self.fc2 = nn.Linear(512,2)\n",
    "\n",
    "        #softmax activation function\n",
    "        self.softmax = nn.LogSoftmax(dim=1)\n",
    "\n",
    "    #define the forward pass\n",
    "    def forward(self, sent_id, mask):\n",
    "        \n",
    "        #pass the inputs to the model  \n",
    "        _, cls_hs = self.bert(sent_id, attention_mask=mask, return_dict=False)\n",
    "      \n",
    "        x = self.fc1(cls_hs)\n",
    "\n",
    "        x = self.relu(x)\n",
    "\n",
    "        x = self.dropout(x)\n",
    "\n",
    "        # output layer\n",
    "        x = self.fc2(x)\n",
    "      \n",
    "        # apply softmax activation\n",
    "        x = self.softmax(x)\n",
    "\n",
    "        return x"
   ]
  },
  {
   "cell_type": "code",
   "execution_count": 19,
   "id": "484df7a3-5ea3-407f-a37e-e7f8a240647d",
   "metadata": {},
   "outputs": [],
   "source": [
    "# pass the pre-trained BERT to our define architecture\n",
    "model = BERT_Arch(bert)\n",
    "\n"
   ]
  },
  {
   "cell_type": "code",
   "execution_count": 20,
   "id": "96067c00-79a1-4932-8cd1-8b57d6a099fb",
   "metadata": {},
   "outputs": [
    {
     "name": "stderr",
     "output_type": "stream",
     "text": [
      "/home/claney/anaconda3/envs/reu/lib/python3.11/site-packages/transformers/optimization.py:588: FutureWarning: This implementation of AdamW is deprecated and will be removed in a future version. Use the PyTorch implementation torch.optim.AdamW instead, or set `no_deprecation_warning=True` to disable this warning\n",
      "  warnings.warn(\n"
     ]
    }
   ],
   "source": [
    "# optimizer from hugging face transformers\n",
    "from transformers import AdamW\n",
    "\n",
    "# define the optimizer\n",
    "optimizer = AdamW(model.parameters(),lr = 1e-5) "
   ]
  },
  {
   "cell_type": "code",
   "execution_count": 21,
   "id": "7ae9dd76-4fb7-4bc6-90c0-98fc6b43d4a8",
   "metadata": {},
   "outputs": [
    {
     "name": "stdout",
     "output_type": "stream",
     "text": [
      "Class Weights: [0.60687742 2.83912836]\n"
     ]
    }
   ],
   "source": [
    "from sklearn.utils.class_weight import compute_class_weight\n",
    "import numpy as np\n",
    "\n",
    "# Assuming train_labels is defined and is a numpy array or list\n",
    "# Compute the class weights\n",
    "class_weights = compute_class_weight(class_weight='balanced', classes=np.unique(train_labels), y=train_labels)\n",
    "\n",
    "print(\"Class Weights:\", class_weights)\n"
   ]
  },
  {
   "cell_type": "code",
   "execution_count": 24,
   "id": "d4267c4b-e853-481d-b131-4c989f26a3ce",
   "metadata": {},
   "outputs": [],
   "source": [
    "# converting list of class weights to a tensor\n",
    "weights= torch.tensor(class_weights,dtype=torch.float)\n",
    "\n",
    "# push to GPU\n",
    "#weights = weights.to(device)\n",
    "\n",
    "# define the loss function\n",
    "cross_entropy  = nn.NLLLoss(weight=weights) \n",
    "\n",
    "# number of training epochs\n",
    "epochs = 10"
   ]
  },
  {
   "cell_type": "code",
   "execution_count": 60,
   "id": "b4de6898-0eca-43e1-bb9f-d83eda156522",
   "metadata": {},
   "outputs": [],
   "source": [
    "# function to train the model\n",
    "def train():\n",
    "    \n",
    "    model.train()\n",
    "    total_loss, total_accuracy = 0, 0\n",
    "  \n",
    "    # empty list to save model predictions\n",
    "    total_preds=[]\n",
    "  \n",
    "    # iterate over batches\n",
    "    for step,batch in enumerate(train_dataloader):\n",
    "        \n",
    "        # progress update after every 50 batches.\n",
    "        if step % 50 == 0 and not step == 0:\n",
    "            print('  Batch {:>5,}  of  {:>5,}.'.format(step, len(train_dataloader)))\n",
    "        \n",
    "        # push the batch to gpu\n",
    "        #batch = [r.to(device) for r in batch]\n",
    " \n",
    "        sent_id, mask, labels = batch\n",
    "        \n",
    "        # clear previously calculated gradients \n",
    "        model.zero_grad()        \n",
    "\n",
    "        # get model predictions for the current batch\n",
    "        preds = model(sent_id, mask)\n",
    "\n",
    "        # compute the loss between actual and predicted values\n",
    "        loss = cross_entropy(preds, labels)\n",
    "\n",
    "        # add on to the total loss\n",
    "        total_loss = total_loss + loss.item()\n",
    "\n",
    "        # backward pass to calculate the gradients\n",
    "        loss.backward()\n",
    "\n",
    "        # clip the the gradients to 1.0. It helps in preventing the exploding gradient problem\n",
    "        torch.nn.utils.clip_grad_norm_(model.parameters(), 1.0)\n",
    "\n",
    "        # update parameters\n",
    "        optimizer.step()\n",
    "\n",
    "        # model predictions are stored on GPU. So, push it to CPU\n",
    "        #preds=preds.detach().cpu().numpy()\n",
    "        preds=preds.detach().numpy()\n",
    "\n",
    "    # append the model predictions\n",
    "    total_preds.append(preds)\n",
    "\n",
    "    # compute the training loss of the epoch\n",
    "    avg_loss = total_loss / len(train_dataloader)\n",
    "  \n",
    "      # predictions are in the form of (no. of batches, size of batch, no. of classes).\n",
    "      # reshape the predictions in form of (number of samples, no. of classes)\n",
    "    total_preds  = np.concatenate(total_preds, axis=0)\n",
    "\n",
    "    #returns the loss and predictions\n",
    "    return avg_loss, total_preds"
   ]
  },
  {
   "cell_type": "code",
   "execution_count": 61,
   "id": "c06c39e8-aab2-453e-bbd6-087783638b0e",
   "metadata": {},
   "outputs": [],
   "source": [
    "# function for evaluating the model\n",
    "import time\n",
    "def evaluate():\n",
    "    \n",
    "    print(\"\\nEvaluating...\")\n",
    "  \n",
    "    # deactivate dropout layers\n",
    "    model.eval()\n",
    "\n",
    "    total_loss, total_accuracy = 0, 0\n",
    "    \n",
    "    # empty list to save the model predictions\n",
    "    total_preds = []\n",
    "\n",
    "    # iterate over batches\n",
    "    for step,batch in enumerate(val_dataloader):\n",
    "        \n",
    "        # Progress update every 50 batches.\n",
    "        if step % 50 == 0 and not step == 0:\n",
    "            # Calculate elapsed time in minutes.\n",
    "            elapsed = time.time()\n",
    "            \n",
    "            # Report progress.\n",
    "            print('  Batch {:>5,}  of  {:>5,}.'.format(step, len(val_dataloader)))\n",
    "\n",
    "        # push the batch to gpu\n",
    "        #batch = [t.to(device) for t in batch]\n",
    "\n",
    "        sent_id, mask, labels = batch\n",
    "\n",
    "        # deactivate autograd\n",
    "        with torch.no_grad():\n",
    "            \n",
    "            # model predictions\n",
    "            preds = model(sent_id, mask)\n",
    "\n",
    "            # compute the validation loss between actual and predicted values\n",
    "            loss = cross_entropy(preds,labels)\n",
    "\n",
    "            total_loss = total_loss + loss.item()\n",
    "\n",
    "            #preds = preds.detach().cpu().numpy()\n",
    "            preds = preds.detach().numpy()\n",
    "            total_preds.append(preds)\n",
    "\n",
    "    # compute the validation loss of the epoch\n",
    "    avg_loss = total_loss / len(val_dataloader) \n",
    "\n",
    "    # reshape the predictions in form of (number of samples, no. of classes)\n",
    "    total_preds  = np.concatenate(total_preds, axis=0)\n",
    "\n",
    "    return avg_loss, total_preds"
   ]
  },
  {
   "cell_type": "code",
   "execution_count": 34,
   "id": "6e6c08ef-1704-4ffe-bc20-20932d7c33fc",
   "metadata": {},
   "outputs": [
    {
     "name": "stdout",
     "output_type": "stream",
     "text": [
      "\n",
      " Epoch 1 / 10\n",
      "  Batch    50  of  1,491.\n",
      "  Batch   100  of  1,491.\n",
      "  Batch   150  of  1,491.\n",
      "  Batch   200  of  1,491.\n",
      "  Batch   250  of  1,491.\n",
      "  Batch   300  of  1,491.\n",
      "  Batch   350  of  1,491.\n",
      "  Batch   400  of  1,491.\n",
      "  Batch   450  of  1,491.\n",
      "  Batch   500  of  1,491.\n",
      "  Batch   550  of  1,491.\n",
      "  Batch   600  of  1,491.\n",
      "  Batch   650  of  1,491.\n",
      "  Batch   700  of  1,491.\n",
      "  Batch   750  of  1,491.\n",
      "  Batch   800  of  1,491.\n",
      "  Batch   850  of  1,491.\n",
      "  Batch   900  of  1,491.\n",
      "  Batch   950  of  1,491.\n",
      "  Batch 1,000  of  1,491.\n",
      "  Batch 1,050  of  1,491.\n",
      "  Batch 1,100  of  1,491.\n",
      "  Batch 1,150  of  1,491.\n",
      "  Batch 1,200  of  1,491.\n",
      "  Batch 1,250  of  1,491.\n",
      "  Batch 1,300  of  1,491.\n",
      "  Batch 1,350  of  1,491.\n",
      "  Batch 1,400  of  1,491.\n",
      "  Batch 1,450  of  1,491.\n",
      "\n",
      "Evaluating...\n",
      "  Batch    50  of    320.\n",
      "  Batch   100  of    320.\n",
      "  Batch   150  of    320.\n",
      "  Batch   200  of    320.\n",
      "  Batch   250  of    320.\n",
      "  Batch   300  of    320.\n",
      "\n",
      "Training Loss: 0.690\n",
      "Validation Loss: 0.694\n",
      "\n",
      " Epoch 2 / 10\n",
      "  Batch    50  of  1,491.\n",
      "  Batch   100  of  1,491.\n",
      "  Batch   150  of  1,491.\n",
      "  Batch   200  of  1,491.\n",
      "  Batch   250  of  1,491.\n",
      "  Batch   300  of  1,491.\n",
      "  Batch   350  of  1,491.\n",
      "  Batch   400  of  1,491.\n",
      "  Batch   450  of  1,491.\n",
      "  Batch   500  of  1,491.\n",
      "  Batch   550  of  1,491.\n",
      "  Batch   600  of  1,491.\n",
      "  Batch   650  of  1,491.\n",
      "  Batch   700  of  1,491.\n",
      "  Batch   750  of  1,491.\n",
      "  Batch   800  of  1,491.\n",
      "  Batch   850  of  1,491.\n",
      "  Batch   900  of  1,491.\n",
      "  Batch   950  of  1,491.\n",
      "  Batch 1,000  of  1,491.\n",
      "  Batch 1,050  of  1,491.\n",
      "  Batch 1,100  of  1,491.\n",
      "  Batch 1,150  of  1,491.\n",
      "  Batch 1,200  of  1,491.\n",
      "  Batch 1,250  of  1,491.\n",
      "  Batch 1,300  of  1,491.\n",
      "  Batch 1,350  of  1,491.\n",
      "  Batch 1,400  of  1,491.\n",
      "  Batch 1,450  of  1,491.\n",
      "\n",
      "Evaluating...\n",
      "  Batch    50  of    320.\n",
      "  Batch   100  of    320.\n",
      "  Batch   150  of    320.\n",
      "  Batch   200  of    320.\n",
      "  Batch   250  of    320.\n",
      "  Batch   300  of    320.\n",
      "\n",
      "Training Loss: 0.688\n",
      "Validation Loss: 0.685\n",
      "\n",
      " Epoch 3 / 10\n",
      "  Batch    50  of  1,491.\n",
      "  Batch   100  of  1,491.\n",
      "  Batch   150  of  1,491.\n",
      "  Batch   200  of  1,491.\n",
      "  Batch   250  of  1,491.\n",
      "  Batch   300  of  1,491.\n",
      "  Batch   350  of  1,491.\n",
      "  Batch   400  of  1,491.\n",
      "  Batch   450  of  1,491.\n",
      "  Batch   500  of  1,491.\n",
      "  Batch   550  of  1,491.\n",
      "  Batch   600  of  1,491.\n",
      "  Batch   650  of  1,491.\n",
      "  Batch   700  of  1,491.\n",
      "  Batch   750  of  1,491.\n",
      "  Batch   800  of  1,491.\n",
      "  Batch   850  of  1,491.\n",
      "  Batch   900  of  1,491.\n",
      "  Batch   950  of  1,491.\n",
      "  Batch 1,000  of  1,491.\n",
      "  Batch 1,050  of  1,491.\n",
      "  Batch 1,100  of  1,491.\n",
      "  Batch 1,150  of  1,491.\n",
      "  Batch 1,200  of  1,491.\n",
      "  Batch 1,250  of  1,491.\n",
      "  Batch 1,300  of  1,491.\n",
      "  Batch 1,350  of  1,491.\n",
      "  Batch 1,400  of  1,491.\n",
      "  Batch 1,450  of  1,491.\n",
      "\n",
      "Evaluating...\n",
      "  Batch    50  of    320.\n",
      "  Batch   100  of    320.\n",
      "  Batch   150  of    320.\n",
      "  Batch   200  of    320.\n",
      "  Batch   250  of    320.\n",
      "  Batch   350  of  1,491.\n",
      "  Batch   400  of  1,491.\n",
      "  Batch   450  of  1,491.\n",
      "  Batch   500  of  1,491.\n",
      "  Batch   550  of  1,491.\n",
      "  Batch   600  of  1,491.\n",
      "  Batch   650  of  1,491.\n",
      "  Batch   700  of  1,491.\n",
      "  Batch   750  of  1,491.\n",
      "  Batch   800  of  1,491.\n",
      "  Batch   850  of  1,491.\n",
      "  Batch   900  of  1,491.\n",
      "  Batch   950  of  1,491.\n",
      "  Batch 1,000  of  1,491.\n",
      "  Batch 1,050  of  1,491.\n",
      "  Batch 1,100  of  1,491.\n",
      "  Batch 1,150  of  1,491.\n",
      "  Batch 1,200  of  1,491.\n",
      "  Batch 1,250  of  1,491.\n",
      "  Batch 1,300  of  1,491.\n",
      "  Batch 1,350  of  1,491.\n",
      "  Batch 1,400  of  1,491.\n",
      "  Batch 1,450  of  1,491.\n",
      "\n",
      "Evaluating...\n",
      "  Batch    50  of    320.\n",
      "  Batch   100  of    320.\n",
      "  Batch   150  of    320.\n",
      "  Batch   200  of    320.\n",
      "  Batch   250  of    320.\n",
      "  Batch   300  of    320.\n",
      "\n",
      "Training Loss: 0.686\n",
      "Validation Loss: 0.683\n",
      "\n",
      " Epoch 5 / 10\n",
      "  Batch    50  of  1,491.\n",
      "  Batch   100  of  1,491.\n",
      "  Batch   150  of  1,491.\n",
      "  Batch   200  of  1,491.\n",
      "  Batch   250  of  1,491.\n",
      "  Batch   300  of  1,491.\n",
      "  Batch   350  of  1,491.\n",
      "  Batch   400  of  1,491.\n",
      "  Batch   450  of  1,491.\n",
      "  Batch   500  of  1,491.\n",
      "  Batch   550  of  1,491.\n",
      "  Batch   600  of  1,491.\n",
      "  Batch   650  of  1,491.\n",
      "  Batch   700  of  1,491.\n",
      "  Batch   750  of  1,491.\n",
      "  Batch   800  of  1,491.\n",
      "  Batch   850  of  1,491.\n",
      "  Batch   900  of  1,491.\n",
      "  Batch   950  of  1,491.\n",
      "  Batch 1,000  of  1,491.\n",
      "  Batch 1,050  of  1,491.\n",
      "  Batch 1,100  of  1,491.\n",
      "  Batch 1,150  of  1,491.\n",
      "  Batch 1,200  of  1,491.\n",
      "  Batch 1,250  of  1,491.\n",
      "  Batch 1,300  of  1,491.\n",
      "  Batch 1,350  of  1,491.\n",
      "  Batch 1,400  of  1,491.\n",
      "  Batch 1,450  of  1,491.\n",
      "\n",
      "Evaluating...\n",
      "  Batch    50  of    320.\n",
      "  Batch   100  of    320.\n",
      "  Batch   150  of    320.\n",
      "  Batch   200  of    320.\n",
      "  Batch   250  of    320.\n",
      "  Batch   300  of    320.\n",
      "\n",
      "Training Loss: 0.685\n",
      "Validation Loss: 0.682\n",
      "\n",
      " Epoch 6 / 10\n",
      "  Batch    50  of  1,491.\n",
      "  Batch   100  of  1,491.\n",
      "  Batch   150  of  1,491.\n",
      "  Batch   200  of  1,491.\n",
      "  Batch   250  of  1,491.\n",
      "  Batch   300  of  1,491.\n",
      "  Batch   350  of  1,491.\n",
      "  Batch   400  of  1,491.\n",
      "  Batch   450  of  1,491.\n",
      "  Batch   500  of  1,491.\n",
      "  Batch   550  of  1,491.\n",
      "  Batch   600  of  1,491.\n",
      "  Batch   650  of  1,491.\n",
      "  Batch   700  of  1,491.\n",
      "  Batch   750  of  1,491.\n",
      "  Batch   800  of  1,491.\n",
      "  Batch   850  of  1,491.\n",
      "  Batch   900  of  1,491.\n",
      "  Batch   950  of  1,491.\n",
      "  Batch 1,000  of  1,491.\n",
      "  Batch 1,050  of  1,491.\n",
      "  Batch 1,100  of  1,491.\n",
      "  Batch 1,150  of  1,491.\n",
      "  Batch 1,200  of  1,491.\n",
      "  Batch 1,250  of  1,491.\n",
      "  Batch 1,300  of  1,491.\n",
      "  Batch 1,350  of  1,491.\n",
      "  Batch 1,400  of  1,491.\n",
      "  Batch 1,450  of  1,491.\n",
      "\n",
      "Evaluating...\n",
      "  Batch    50  of    320.\n",
      "  Batch   100  of    320.\n",
      "  Batch   150  of    320.\n",
      "  Batch   200  of    320.\n",
      "  Batch   250  of    320.\n",
      "  Batch   300  of    320.\n",
      "\n",
      "Training Loss: 0.686\n",
      "Validation Loss: 0.684\n",
      "\n",
      " Epoch 7 / 10\n",
      "  Batch    50  of  1,491.\n",
      "  Batch   100  of  1,491.\n",
      "  Batch   150  of  1,491.\n",
      "  Batch   200  of  1,491.\n",
      "  Batch   250  of  1,491.\n",
      "  Batch   300  of  1,491.\n",
      "  Batch   350  of  1,491.\n",
      "  Batch   400  of  1,491.\n",
      "  Batch   450  of  1,491.\n",
      "  Batch   500  of  1,491.\n",
      "  Batch   550  of  1,491.\n",
      "  Batch   600  of  1,491.\n",
      "  Batch   650  of  1,491.\n",
      "  Batch   700  of  1,491.\n",
      "  Batch   750  of  1,491.\n",
      "  Batch   800  of  1,491.\n",
      "  Batch   850  of  1,491.\n",
      "  Batch   900  of  1,491.\n",
      "  Batch   950  of  1,491.\n",
      "  Batch 1,000  of  1,491.\n",
      "  Batch 1,050  of  1,491.\n",
      "  Batch 1,100  of  1,491.\n",
      "  Batch 1,150  of  1,491.\n",
      "  Batch 1,200  of  1,491.\n",
      "  Batch 1,250  of  1,491.\n",
      "  Batch 1,300  of  1,491.\n",
      "  Batch 1,350  of  1,491.\n",
      "  Batch 1,400  of  1,491.\n",
      "  Batch 1,450  of  1,491.\n",
      "\n",
      "Evaluating...\n",
      "  Batch    50  of    320.\n",
      "  Batch   100  of    320.\n",
      "  Batch   150  of    320.\n",
      "  Batch   200  of    320.\n",
      "  Batch   250  of    320.\n",
      "  Batch   300  of    320.\n",
      "\n",
      "Training Loss: 0.685\n",
      "Validation Loss: 0.681\n",
      "\n",
      " Epoch 8 / 10\n",
      "  Batch    50  of  1,491.\n",
      "  Batch   100  of  1,491.\n",
      "  Batch   150  of  1,491.\n",
      "  Batch   200  of  1,491.\n",
      "  Batch   250  of  1,491.\n",
      "  Batch   300  of  1,491.\n",
      "  Batch   350  of  1,491.\n",
      "  Batch   400  of  1,491.\n",
      "  Batch   450  of  1,491.\n",
      "  Batch   500  of  1,491.\n",
      "  Batch   550  of  1,491.\n",
      "  Batch   600  of  1,491.\n",
      "  Batch   650  of  1,491.\n",
      "  Batch   700  of  1,491.\n",
      "  Batch   750  of  1,491.\n",
      "  Batch   800  of  1,491.\n",
      "  Batch   850  of  1,491.\n",
      "  Batch   900  of  1,491.\n",
      "  Batch   950  of  1,491.\n",
      "  Batch 1,000  of  1,491.\n",
      "  Batch 1,050  of  1,491.\n",
      "  Batch 1,100  of  1,491.\n",
      "  Batch 1,150  of  1,491.\n",
      "  Batch 1,200  of  1,491.\n",
      "  Batch 1,250  of  1,491.\n",
      "  Batch 1,300  of  1,491.\n",
      "  Batch 1,350  of  1,491.\n",
      "  Batch 1,400  of  1,491.\n",
      "  Batch 1,450  of  1,491.\n",
      "\n",
      "Evaluating...\n",
      "  Batch    50  of    320.\n",
      "  Batch   100  of    320.\n",
      "  Batch   150  of    320.\n",
      "  Batch   200  of    320.\n",
      "  Batch   250  of    320.\n",
      "  Batch   300  of    320.\n",
      "\n",
      "Training Loss: 0.685\n",
      "Validation Loss: 0.683\n",
      "\n",
      " Epoch 9 / 10\n",
      "  Batch    50  of  1,491.\n",
      "  Batch   100  of  1,491.\n",
      "  Batch   150  of  1,491.\n",
      "  Batch   200  of  1,491.\n",
      "  Batch   250  of  1,491.\n",
      "  Batch   300  of  1,491.\n",
      "  Batch   350  of  1,491.\n",
      "  Batch   400  of  1,491.\n",
      "  Batch   450  of  1,491.\n",
      "  Batch   500  of  1,491.\n",
      "  Batch   550  of  1,491.\n",
      "  Batch   600  of  1,491.\n",
      "  Batch   650  of  1,491.\n",
      "  Batch   700  of  1,491.\n",
      "  Batch   750  of  1,491.\n",
      "  Batch   800  of  1,491.\n",
      "  Batch   850  of  1,491.\n",
      "  Batch   900  of  1,491.\n",
      "  Batch   950  of  1,491.\n",
      "  Batch 1,000  of  1,491.\n",
      "  Batch 1,050  of  1,491.\n",
      "  Batch 1,100  of  1,491.\n",
      "  Batch 1,150  of  1,491.\n",
      "  Batch 1,200  of  1,491.\n",
      "  Batch 1,250  of  1,491.\n",
      "  Batch 1,300  of  1,491.\n",
      "  Batch 1,350  of  1,491.\n",
      "  Batch 1,400  of  1,491.\n",
      "  Batch 1,450  of  1,491.\n",
      "\n",
      "Evaluating...\n",
      "  Batch    50  of    320.\n",
      "  Batch   100  of    320.\n",
      "  Batch   150  of    320.\n",
      "  Batch   200  of    320.\n",
      "  Batch   250  of    320.\n",
      "  Batch   300  of    320.\n",
      "\n",
      "Training Loss: 0.684\n",
      "Validation Loss: 0.680\n",
      "\n",
      " Epoch 10 / 10\n",
      "  Batch    50  of  1,491.\n",
      "  Batch   100  of  1,491.\n",
      "  Batch   150  of  1,491.\n",
      "  Batch   200  of  1,491.\n",
      "  Batch   250  of  1,491.\n",
      "  Batch   300  of  1,491.\n",
      "  Batch   350  of  1,491.\n",
      "  Batch   400  of  1,491.\n",
      "  Batch   450  of  1,491.\n",
      "  Batch   500  of  1,491.\n",
      "  Batch   550  of  1,491.\n",
      "  Batch   600  of  1,491.\n",
      "  Batch   650  of  1,491.\n",
      "  Batch   700  of  1,491.\n",
      "  Batch   750  of  1,491.\n",
      "  Batch   800  of  1,491.\n",
      "  Batch   850  of  1,491.\n",
      "  Batch   900  of  1,491.\n",
      "  Batch   950  of  1,491.\n",
      "  Batch 1,000  of  1,491.\n",
      "  Batch 1,050  of  1,491.\n",
      "  Batch 1,100  of  1,491.\n",
      "  Batch 1,150  of  1,491.\n",
      "  Batch 1,200  of  1,491.\n",
      "  Batch 1,250  of  1,491.\n",
      "  Batch 1,300  of  1,491.\n",
      "  Batch 1,350  of  1,491.\n",
      "  Batch 1,400  of  1,491.\n",
      "  Batch 1,450  of  1,491.\n",
      "\n",
      "Evaluating...\n",
      "  Batch    50  of    320.\n",
      "  Batch   100  of    320.\n",
      "  Batch   150  of    320.\n",
      "  Batch   200  of    320.\n",
      "  Batch   250  of    320.\n",
      "  Batch   300  of    320.\n",
      "\n",
      "Training Loss: 0.684\n",
      "Validation Loss: 0.683\n"
     ]
    }
   ],
   "source": [
    "# set initial loss to infinite\n",
    "best_valid_loss = float('inf')\n",
    "\n",
    "# empty lists to store training and validation loss of each epoch\n",
    "train_losses=[]\n",
    "valid_losses=[]\n",
    "\n",
    "#for each epoch\n",
    "for epoch in range(epochs):\n",
    "     \n",
    "    print('\\n Epoch {:} / {:}'.format(epoch + 1, epochs))\n",
    "    \n",
    "    #train model\n",
    "    train_loss, _ = train()\n",
    "    \n",
    "    #evaluate model\n",
    "    valid_loss, _ = evaluate()\n",
    "    \n",
    "    #save the best model\n",
    "    if valid_loss < best_valid_loss:\n",
    "        best_valid_loss = valid_loss\n",
    "        #torch.save('saved_weights.pt')\n",
    "        torch.save(model.state_dict(), 'saved_weights.pt')\n",
    "    \n",
    "    # append training and validation loss\n",
    "    train_losses.append(train_loss)\n",
    "    valid_losses.append(valid_loss)\n",
    "    \n",
    "    print(f'\\nTraining Loss: {train_loss:.3f}')\n",
    "    print(f'Validation Loss: {valid_loss:.3f}')"
   ]
  },
  {
   "cell_type": "code",
   "execution_count": 35,
   "id": "c1acfea8-3a41-47cb-9941-1a22d5f48bc9",
   "metadata": {},
   "outputs": [
    {
     "data": {
      "text/plain": [
       "<All keys matched successfully>"
      ]
     },
     "execution_count": 35,
     "metadata": {},
     "output_type": "execute_result"
    }
   ],
   "source": [
    "#load weights of best model\n",
    "path = 'saved_weights.pt'\n",
    "model.load_state_dict(torch.load(path))"
   ]
  },
  {
   "cell_type": "code",
   "execution_count": null,
   "id": "91330c86-7093-4b93-9d30-86b69d8e5583",
   "metadata": {},
   "outputs": [],
   "source": []
  },
  {
   "cell_type": "code",
   "execution_count": 44,
   "id": "454e8e27-abc3-4865-8ef1-83d851249f8e",
   "metadata": {},
   "outputs": [],
   "source": [
    "# Get predictions for test data\n",
    "with torch.no_grad():\n",
    "    preds = model(test_seq, test_mask)\n",
    "    preds = preds.detach().numpy()\n"
   ]
  },
  {
   "cell_type": "code",
   "execution_count": 54,
   "id": "30cb1b09-72a9-41c8-9872-4acf055bf6e2",
   "metadata": {},
   "outputs": [
    {
     "name": "stdout",
     "output_type": "stream",
     "text": [
      "              precision    recall  f1-score   support\n",
      "\n",
      "           0       0.86      0.61      0.72      8419\n",
      "           1       0.22      0.52      0.31      1800\n",
      "\n",
      "    accuracy                           0.60     10219\n",
      "   macro avg       0.54      0.57      0.51     10219\n",
      "weighted avg       0.75      0.60      0.64     10219\n",
      "\n"
     ]
    }
   ],
   "source": [
    "from sklearn.metrics import classification_report\n",
    "\n",
    "# Assuming preds is the predictions from your model and test_y is the ground truth labels\n",
    "\n",
    "# Convert predictions to class labels (assuming preds are probabilities or logits)\n",
    "# Assuming preds is a 2D array where each row corresponds to predictions for one sample\n",
    "predicted_classes = np.argmax(preds, axis=1)\n",
    "# Generate classification report\n",
    "report = classification_report(test_y, predicted_classes)\n",
    "print(report)\n",
    "\n",
    "\n"
   ]
  },
  {
   "cell_type": "markdown",
   "id": "3986b85b-34a3-4d3c-950e-8f01b4769493",
   "metadata": {},
   "source": [
    "# Naive Bayes"
   ]
  },
  {
   "cell_type": "code",
   "execution_count": 66,
   "id": "bb9584fc-e8d3-4060-89df-1515093c7848",
   "metadata": {},
   "outputs": [],
   "source": [
    "X = df['Component']  # Input features\n",
    "y = df['isDuplicate']       # Target variable"
   ]
  },
  {
   "cell_type": "code",
   "execution_count": 67,
   "id": "6b125245-4f2f-4a56-97a3-c07c8f2d6335",
   "metadata": {},
   "outputs": [],
   "source": [
    "n = len(df)\n",
    "split_index = int(.8 * n)\n",
    "train_dataset = df.iloc[:split_index]\n",
    "validation_dataset = df.drop(train_dataset.index)"
   ]
  },
  {
   "cell_type": "code",
   "execution_count": 68,
   "id": "b13a730e-1110-4949-bd1c-02f1ccfb6384",
   "metadata": {
    "scrolled": true
   },
   "outputs": [
    {
     "name": "stdout",
     "output_type": "stream",
     "text": [
      "Requirement already satisfied: nltk in /home/claney/anaconda3/envs/reu/lib/python3.11/site-packages (3.8.1)\n",
      "Requirement already satisfied: click in /home/claney/anaconda3/envs/reu/lib/python3.11/site-packages (from nltk) (8.1.7)\n",
      "Requirement already satisfied: joblib in /home/claney/anaconda3/envs/reu/lib/python3.11/site-packages (from nltk) (1.4.2)\n",
      "Requirement already satisfied: regex>=2021.8.3 in /home/claney/anaconda3/envs/reu/lib/python3.11/site-packages (from nltk) (2024.5.15)\n",
      "Requirement already satisfied: tqdm in /home/claney/anaconda3/envs/reu/lib/python3.11/site-packages (from nltk) (4.66.4)\n",
      "Note: you may need to restart the kernel to use updated packages.\n"
     ]
    }
   ],
   "source": [
    "pip install nltk"
   ]
  },
  {
   "cell_type": "code",
   "execution_count": 69,
   "id": "8ef33bd0-1128-479a-867e-ec5ee5e9fc28",
   "metadata": {},
   "outputs": [],
   "source": [
    "import nltk\n",
    "from sklearn.feature_extraction.text import CountVectorizer\n",
    "from sklearn.naive_bayes import GaussianNB\n",
    "from sklearn.feature_extraction.text import CountVectorizer\n",
    "from sklearn.metrics import accuracy_score\n",
    "from nltk.corpus import stopwords #Word Stop\n",
    "from nltk.tokenize import word_tokenize #Tokenization & Word Stop\""
   ]
  },
  {
   "cell_type": "code",
   "execution_count": 70,
   "id": "8b1c3ece-8cca-4e40-85ef-8ecf74d590be",
   "metadata": {},
   "outputs": [],
   "source": [
    "train_target = train_dataset['isDuplicate']  # target features\n",
    "#topic_train_priority\n",
    "train_feature = train_dataset['full_text_data']       # input variable\n",
    "#topic_train_data\n",
    "validation_target= validation_dataset['isDuplicate']  # feature features\n",
    "#topic_validation_priority\n",
    "validation_feature= validation_dataset['full_text_data']       # input variable\n",
    "#topic_validation_data \n"
   ]
  },
  {
   "cell_type": "code",
   "execution_count": 71,
   "id": "83b2a873-53bc-45f8-8b42-f4cd62aad58b",
   "metadata": {},
   "outputs": [
    {
     "name": "stderr",
     "output_type": "stream",
     "text": [
      "/home/claney/anaconda3/envs/reu/lib/python3.11/site-packages/sklearn/feature_extraction/text.py:523: UserWarning: The parameter 'token_pattern' will not be used since 'tokenizer' is not None'\n",
      "  warnings.warn(\n"
     ]
    }
   ],
   "source": [
    "vectorizer = CountVectorizer(stop_words = 'english', tokenizer = word_tokenize, lowercase = True)\n",
    "train_feature = vectorizer.fit_transform(train_feature)\n",
    "validation_feature = vectorizer.transform(validation_feature)"
   ]
  },
  {
   "cell_type": "code",
   "execution_count": 79,
   "id": "fdeda006-2c0d-4029-a5d7-2d24e32d5bd2",
   "metadata": {},
   "outputs": [],
   "source": [
    "from sklearn.naive_bayes import GaussianNB\n",
    "\n",
    "# Assuming train_feature, train_target, validation_feature, validation_target are already defined\n",
    "\n",
    "# Slice the first 2000 rows for training\n",
    "train_array = train_feature[:2000].toarray()\n",
    "train_target = train_target[:2000]\n",
    "\n",
    "# Fit the Gaussian Naive Bayes model\n",
    "gnb = GaussianNB()\n",
    "gnb.fit(train_array, train_target)\n",
    "\n",
    "# Slice the first 200 rows for validation\n",
    "validation_array = validation_feature[:200].toarray()\n",
    "validation_target = validation_target[:200]\n",
    "\n",
    "# Predict using the validation data\n",
    "y_pred = gnb.predict(validation_array)\n"
   ]
  },
  {
   "cell_type": "code",
   "execution_count": 80,
   "id": "7f501b58-a4e2-4175-b610-6c2bba7502ff",
   "metadata": {},
   "outputs": [
    {
     "name": "stdout",
     "output_type": "stream",
     "text": [
      "Validation target length: 200\n",
      "y_pred length: 200\n",
      "[0 0 0 0 0 0 0 0 0 0 0 0 0 0 0 0 0 0 0 0 0 0 0 0 0 0 0 0 0 1 0 0 0 0 0 0 0\n",
      " 0 0 0 0 0 0 0 0 0 0 0 0 0 0 0 0 0 0 0 0 0 0 0 0 0 1 0 0 0 0 0 0 0 0 0 0 0\n",
      " 0 0 0 0 0 0 0 0 0 0 0 0 0 0 0 0 0 0 0 0 1 0 0 0 0 0 0 0 0 0 0 0 0 0 0 0 0\n",
      " 1 0 0 0 1 1 0 0 0 0 0 0 0 0 0 0 0 0 0 0 0 0 0 0 0 0 0 0 0 0 0 0 0 0 0 0 0\n",
      " 0 0 0 0 0 0 1 0 0 0 0 0 0 0 0 0 0 0 0 0 0 0 0 0 0 0 0 0 0 0 0 0 0 0 0 0 0\n",
      " 0 0 0 0 0 0 0 0 0 0 0 0 0 0 0]\n",
      "0       0\n",
      "1       0\n",
      "2       0\n",
      "3       0\n",
      "4       0\n",
      "       ..\n",
      "1995    0\n",
      "1996    1\n",
      "1997    0\n",
      "1998    0\n",
      "1999    0\n",
      "Name: isDuplicate, Length: 2000, dtype: int64\n"
     ]
    }
   ],
   "source": [
    "print(\"Validation target length:\", len(validation_target))\n",
    "print(\"y_pred length:\", len(y_pred))\n",
    "print(y_pred)\n",
    "print(train_target)\n"
   ]
  },
  {
   "cell_type": "code",
   "execution_count": 84,
   "id": "c7f9f61a-84aa-44d8-b68f-eac25f01c7bf",
   "metadata": {},
   "outputs": [
    {
     "name": "stdout",
     "output_type": "stream",
     "text": [
      "              precision    recall  f1-score   support\n",
      "\n",
      "           0       0.84      0.97      0.90       167\n",
      "           1       0.29      0.06      0.10        33\n",
      "\n",
      "    accuracy                           0.82       200\n",
      "   macro avg       0.56      0.52      0.50       200\n",
      "weighted avg       0.75      0.82      0.77       200\n",
      "\n"
     ]
    }
   ],
   "source": [
    "from sklearn.metrics import classification_report\n",
    "\n",
    "# Assuming train_target and y_pred are already defined\n",
    "# Assuming validation_target and validation_array are already defined from previous slicing\n",
    "\n",
    "# Fit the Gaussian Naive Bayes model\n",
    "gnb = GaussianNB()\n",
    "gnb.fit(train_array, train_target)\n",
    "\n",
    "# Predict using the validation data\n",
    "y_pred = gnb.predict(validation_array)\n",
    "\n",
    "# Calculate and print the classification report\n",
    "report = classification_report(validation_target, y_pred)\n",
    "print(report)\n"
   ]
  },
  {
   "cell_type": "code",
   "execution_count": null,
   "id": "95909350-34b8-44a9-b87c-eb3b2d1d182b",
   "metadata": {},
   "outputs": [],
   "source": []
  }
 ],
 "metadata": {
  "kernelspec": {
   "display_name": "Python 3 (ipykernel)",
   "language": "python",
   "name": "python3"
  },
  "language_info": {
   "codemirror_mode": {
    "name": "ipython",
    "version": 3
   },
   "file_extension": ".py",
   "mimetype": "text/x-python",
   "name": "python",
   "nbconvert_exporter": "python",
   "pygments_lexer": "ipython3",
   "version": "3.11.9"
  }
 },
 "nbformat": 4,
 "nbformat_minor": 5
}
